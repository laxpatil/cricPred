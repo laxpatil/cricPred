{
 "cells": [
  {
   "cell_type": "code",
   "execution_count": 29,
   "metadata": {
    "collapsed": true
   },
   "outputs": [],
   "source": [
    "import graphlab as gl\n",
    "import graphlab.aggregate as agg"
   ]
  },
  {
   "cell_type": "code",
   "execution_count": 30,
   "metadata": {
    "collapsed": false
   },
   "outputs": [
    {
     "data": {
      "text/html": [
       "<pre>Finished parsing file /home/laxmikant/cricPred/Instantaneous features/batsmanClusters.csv</pre>"
      ],
      "text/plain": [
       "Finished parsing file /home/laxmikant/cricPred/Instantaneous features/batsmanClusters.csv"
      ]
     },
     "metadata": {},
     "output_type": "display_data"
    },
    {
     "data": {
      "text/html": [
       "<pre>Parsing completed. Parsed 100 lines in 0.01662 secs.</pre>"
      ],
      "text/plain": [
       "Parsing completed. Parsed 100 lines in 0.01662 secs."
      ]
     },
     "metadata": {},
     "output_type": "display_data"
    },
    {
     "data": {
      "text/html": [
       "<pre>Read 576 lines. Lines per second: 60371</pre>"
      ],
      "text/plain": [
       "Read 576 lines. Lines per second: 60371"
      ]
     },
     "metadata": {},
     "output_type": "display_data"
    },
    {
     "data": {
      "text/html": [
       "<pre>Finished parsing file /home/laxmikant/cricPred/Instantaneous features/batsmanClusters.csv</pre>"
      ],
      "text/plain": [
       "Finished parsing file /home/laxmikant/cricPred/Instantaneous features/batsmanClusters.csv"
      ]
     },
     "metadata": {},
     "output_type": "display_data"
    },
    {
     "data": {
      "text/html": [
       "<pre>Parsing completed. Parsed 576 lines in 0.011665 secs.</pre>"
      ],
      "text/plain": [
       "Parsing completed. Parsed 576 lines in 0.011665 secs."
      ]
     },
     "metadata": {},
     "output_type": "display_data"
    },
    {
     "name": "stdout",
     "output_type": "stream",
     "text": [
      "------------------------------------------------------\n",
      "Inferred types from first line of file as \n",
      "column_type_hints=[str,float,float,float,float,int,int]\n",
      "If parsing fails due to incorrect types, you can correct\n",
      "the inferred type list above and pass it to read_csv in\n",
      "the column_type_hints argument\n",
      "------------------------------------------------------\n"
     ]
    }
   ],
   "source": [
    "batsman= gl.SFrame(\"../Instantaneous features/batsmanClusters.csv\")"
   ]
  },
  {
   "cell_type": "code",
   "execution_count": 31,
   "metadata": {
    "collapsed": false
   },
   "outputs": [
    {
     "data": {
      "text/html": [
       "<pre>Finished parsing file /home/laxmikant/cricPred/Historical features/HistoricalFeatures.csv</pre>"
      ],
      "text/plain": [
       "Finished parsing file /home/laxmikant/cricPred/Historical features/HistoricalFeatures.csv"
      ]
     },
     "metadata": {},
     "output_type": "display_data"
    },
    {
     "data": {
      "text/html": [
       "<pre>Parsing completed. Parsed 21 lines in 0.008198 secs.</pre>"
      ],
      "text/plain": [
       "Parsing completed. Parsed 21 lines in 0.008198 secs."
      ]
     },
     "metadata": {},
     "output_type": "display_data"
    },
    {
     "data": {
      "text/html": [
       "<pre>Finished parsing file /home/laxmikant/cricPred/Historical features/HistoricalFeatures.csv</pre>"
      ],
      "text/plain": [
       "Finished parsing file /home/laxmikant/cricPred/Historical features/HistoricalFeatures.csv"
      ]
     },
     "metadata": {},
     "output_type": "display_data"
    },
    {
     "data": {
      "text/html": [
       "<pre>Parsing completed. Parsed 21 lines in 0.013668 secs.</pre>"
      ],
      "text/plain": [
       "Parsing completed. Parsed 21 lines in 0.013668 secs."
      ]
     },
     "metadata": {},
     "output_type": "display_data"
    },
    {
     "name": "stdout",
     "output_type": "stream",
     "text": [
      "------------------------------------------------------\n",
      "Inferred types from first line of file as \n",
      "column_type_hints=[str,int,float,float,float,float,float,float]\n",
      "If parsing fails due to incorrect types, you can correct\n",
      "the inferred type list above and pass it to read_csv in\n",
      "the column_type_hints argument\n",
      "------------------------------------------------------\n"
     ]
    }
   ],
   "source": [
    "historical=gl.SFrame(\"../Historical features/HistoricalFeatures.csv\")"
   ]
  },
  {
   "cell_type": "code",
   "execution_count": 32,
   "metadata": {
    "collapsed": false
   },
   "outputs": [
    {
     "data": {
      "text/html": [
       "<pre>Finished parsing file /home/laxmikant/cricPred/Segment Features/Segment1.csv</pre>"
      ],
      "text/plain": [
       "Finished parsing file /home/laxmikant/cricPred/Segment Features/Segment1.csv"
      ]
     },
     "metadata": {},
     "output_type": "display_data"
    },
    {
     "data": {
      "text/html": [
       "<pre>Parsing completed. Parsed 100 lines in 0.016417 secs.</pre>"
      ],
      "text/plain": [
       "Parsing completed. Parsed 100 lines in 0.016417 secs."
      ]
     },
     "metadata": {},
     "output_type": "display_data"
    },
    {
     "data": {
      "text/html": [
       "<pre>Finished parsing file /home/laxmikant/cricPred/Segment Features/Segment1.csv</pre>"
      ],
      "text/plain": [
       "Finished parsing file /home/laxmikant/cricPred/Segment Features/Segment1.csv"
      ]
     },
     "metadata": {},
     "output_type": "display_data"
    },
    {
     "data": {
      "text/html": [
       "<pre>Parsing completed. Parsed 5219 lines in 0.016431 secs.</pre>"
      ],
      "text/plain": [
       "Parsing completed. Parsed 5219 lines in 0.016431 secs."
      ]
     },
     "metadata": {},
     "output_type": "display_data"
    },
    {
     "data": {
      "text/html": [
       "<pre>Finished parsing file /home/laxmikant/cricPred/Segment Features/Segment2.csv</pre>"
      ],
      "text/plain": [
       "Finished parsing file /home/laxmikant/cricPred/Segment Features/Segment2.csv"
      ]
     },
     "metadata": {},
     "output_type": "display_data"
    },
    {
     "data": {
      "text/html": [
       "<pre>Parsing completed. Parsed 100 lines in 0.021551 secs.</pre>"
      ],
      "text/plain": [
       "Parsing completed. Parsed 100 lines in 0.021551 secs."
      ]
     },
     "metadata": {},
     "output_type": "display_data"
    },
    {
     "name": "stdout",
     "output_type": "stream",
     "text": [
      "------------------------------------------------------\n",
      "Inferred types from first line of file as \n",
      "column_type_hints=[str,int,int,int,int,int,int,int,int,int,int,int,str,int]\n",
      "If parsing fails due to incorrect types, you can correct\n",
      "the inferred type list above and pass it to read_csv in\n",
      "the column_type_hints argument\n",
      "------------------------------------------------------\n",
      "------------------------------------------------------"
     ]
    },
    {
     "data": {
      "text/html": [
       "<pre>Finished parsing file /home/laxmikant/cricPred/Segment Features/Segment2.csv</pre>"
      ],
      "text/plain": [
       "Finished parsing file /home/laxmikant/cricPred/Segment Features/Segment2.csv"
      ]
     },
     "metadata": {},
     "output_type": "display_data"
    },
    {
     "data": {
      "text/html": [
       "<pre>Parsing completed. Parsed 5180 lines in 0.013708 secs.</pre>"
      ],
      "text/plain": [
       "Parsing completed. Parsed 5180 lines in 0.013708 secs."
      ]
     },
     "metadata": {},
     "output_type": "display_data"
    },
    {
     "data": {
      "text/html": [
       "<pre>Finished parsing file /home/laxmikant/cricPred/Segment Features/Segment3.csv</pre>"
      ],
      "text/plain": [
       "Finished parsing file /home/laxmikant/cricPred/Segment Features/Segment3.csv"
      ]
     },
     "metadata": {},
     "output_type": "display_data"
    },
    {
     "data": {
      "text/html": [
       "<pre>Parsing completed. Parsed 100 lines in 0.025713 secs.</pre>"
      ],
      "text/plain": [
       "Parsing completed. Parsed 100 lines in 0.025713 secs."
      ]
     },
     "metadata": {},
     "output_type": "display_data"
    },
    {
     "name": "stdout",
     "output_type": "stream",
     "text": [
      "\n",
      "Inferred types from first line of file as \n",
      "column_type_hints=[str,int,int,int,int,int,int,int,int,int,int,int,str,int]\n",
      "If parsing fails due to incorrect types, you can correct\n",
      "the inferred type list above and pass it to read_csv in\n",
      "the column_type_hints argument\n",
      "------------------------------------------------------\n",
      "------------------------------------------------------"
     ]
    },
    {
     "data": {
      "text/html": [
       "<pre>Finished parsing file /home/laxmikant/cricPred/Segment Features/Segment3.csv</pre>"
      ],
      "text/plain": [
       "Finished parsing file /home/laxmikant/cricPred/Segment Features/Segment3.csv"
      ]
     },
     "metadata": {},
     "output_type": "display_data"
    },
    {
     "data": {
      "text/html": [
       "<pre>Parsing completed. Parsed 5099 lines in 0.016304 secs.</pre>"
      ],
      "text/plain": [
       "Parsing completed. Parsed 5099 lines in 0.016304 secs."
      ]
     },
     "metadata": {},
     "output_type": "display_data"
    },
    {
     "data": {
      "text/html": [
       "<pre>Finished parsing file /home/laxmikant/cricPred/Segment Features/Segment4.csv</pre>"
      ],
      "text/plain": [
       "Finished parsing file /home/laxmikant/cricPred/Segment Features/Segment4.csv"
      ]
     },
     "metadata": {},
     "output_type": "display_data"
    },
    {
     "data": {
      "text/html": [
       "<pre>Parsing completed. Parsed 100 lines in 0.024232 secs.</pre>"
      ],
      "text/plain": [
       "Parsing completed. Parsed 100 lines in 0.024232 secs."
      ]
     },
     "metadata": {},
     "output_type": "display_data"
    },
    {
     "name": "stdout",
     "output_type": "stream",
     "text": [
      "\n",
      "Inferred types from first line of file as \n",
      "column_type_hints=[str,int,int,int,int,int,int,int,int,int,int,int,str,int]\n",
      "If parsing fails due to incorrect types, you can correct\n",
      "the inferred type list above and pass it to read_csv in\n",
      "the column_type_hints argument\n",
      "------------------------------------------------------\n",
      "------------------------------------------------------"
     ]
    },
    {
     "data": {
      "text/html": [
       "<pre>Finished parsing file /home/laxmikant/cricPred/Segment Features/Segment4.csv</pre>"
      ],
      "text/plain": [
       "Finished parsing file /home/laxmikant/cricPred/Segment Features/Segment4.csv"
      ]
     },
     "metadata": {},
     "output_type": "display_data"
    },
    {
     "data": {
      "text/html": [
       "<pre>Parsing completed. Parsed 5060 lines in 0.018932 secs.</pre>"
      ],
      "text/plain": [
       "Parsing completed. Parsed 5060 lines in 0.018932 secs."
      ]
     },
     "metadata": {},
     "output_type": "display_data"
    },
    {
     "data": {
      "text/html": [
       "<pre>Finished parsing file /home/laxmikant/cricPred/Segment Features/Segment5.csv</pre>"
      ],
      "text/plain": [
       "Finished parsing file /home/laxmikant/cricPred/Segment Features/Segment5.csv"
      ]
     },
     "metadata": {},
     "output_type": "display_data"
    },
    {
     "data": {
      "text/html": [
       "<pre>Parsing completed. Parsed 100 lines in 0.021678 secs.</pre>"
      ],
      "text/plain": [
       "Parsing completed. Parsed 100 lines in 0.021678 secs."
      ]
     },
     "metadata": {},
     "output_type": "display_data"
    },
    {
     "name": "stdout",
     "output_type": "stream",
     "text": [
      "\n",
      "Inferred types from first line of file as \n",
      "column_type_hints=[str,int,int,int,int,int,int,int,int,int,int,int,str,int]\n",
      "If parsing fails due to incorrect types, you can correct\n",
      "the inferred type list above and pass it to read_csv in\n",
      "the column_type_hints argument\n",
      "------------------------------------------------------\n",
      "------------------------------------------------------"
     ]
    },
    {
     "data": {
      "text/html": [
       "<pre>Finished parsing file /home/laxmikant/cricPred/Segment Features/Segment5.csv</pre>"
      ],
      "text/plain": [
       "Finished parsing file /home/laxmikant/cricPred/Segment Features/Segment5.csv"
      ]
     },
     "metadata": {},
     "output_type": "display_data"
    },
    {
     "data": {
      "text/html": [
       "<pre>Parsing completed. Parsed 4998 lines in 0.013187 secs.</pre>"
      ],
      "text/plain": [
       "Parsing completed. Parsed 4998 lines in 0.013187 secs."
      ]
     },
     "metadata": {},
     "output_type": "display_data"
    },
    {
     "data": {
      "text/html": [
       "<pre>Finished parsing file /home/laxmikant/cricPred/Segment Features/Segment6.csv</pre>"
      ],
      "text/plain": [
       "Finished parsing file /home/laxmikant/cricPred/Segment Features/Segment6.csv"
      ]
     },
     "metadata": {},
     "output_type": "display_data"
    },
    {
     "data": {
      "text/html": [
       "<pre>Parsing completed. Parsed 100 lines in 0.024571 secs.</pre>"
      ],
      "text/plain": [
       "Parsing completed. Parsed 100 lines in 0.024571 secs."
      ]
     },
     "metadata": {},
     "output_type": "display_data"
    },
    {
     "name": "stdout",
     "output_type": "stream",
     "text": [
      "\n",
      "Inferred types from first line of file as \n",
      "column_type_hints=[str,int,int,int,int,int,int,int,int,int,int,int,str,int]\n",
      "If parsing fails due to incorrect types, you can correct\n",
      "the inferred type list above and pass it to read_csv in\n",
      "the column_type_hints argument\n",
      "------------------------------------------------------\n",
      "------------------------------------------------------"
     ]
    },
    {
     "data": {
      "text/html": [
       "<pre>Finished parsing file /home/laxmikant/cricPred/Segment Features/Segment6.csv</pre>"
      ],
      "text/plain": [
       "Finished parsing file /home/laxmikant/cricPred/Segment Features/Segment6.csv"
      ]
     },
     "metadata": {},
     "output_type": "display_data"
    },
    {
     "data": {
      "text/html": [
       "<pre>Parsing completed. Parsed 4861 lines in 0.013352 secs.</pre>"
      ],
      "text/plain": [
       "Parsing completed. Parsed 4861 lines in 0.013352 secs."
      ]
     },
     "metadata": {},
     "output_type": "display_data"
    },
    {
     "data": {
      "text/html": [
       "<pre>Finished parsing file /home/laxmikant/cricPred/Segment Features/Segment7.csv</pre>"
      ],
      "text/plain": [
       "Finished parsing file /home/laxmikant/cricPred/Segment Features/Segment7.csv"
      ]
     },
     "metadata": {},
     "output_type": "display_data"
    },
    {
     "data": {
      "text/html": [
       "<pre>Parsing completed. Parsed 100 lines in 0.026089 secs.</pre>"
      ],
      "text/plain": [
       "Parsing completed. Parsed 100 lines in 0.026089 secs."
      ]
     },
     "metadata": {},
     "output_type": "display_data"
    },
    {
     "name": "stdout",
     "output_type": "stream",
     "text": [
      "\n",
      "Inferred types from first line of file as \n",
      "column_type_hints=[str,int,int,int,int,int,int,int,int,int,int,int,str,int]\n",
      "If parsing fails due to incorrect types, you can correct\n",
      "the inferred type list above and pass it to read_csv in\n",
      "the column_type_hints argument\n",
      "------------------------------------------------------\n",
      "------------------------------------------------------"
     ]
    },
    {
     "data": {
      "text/html": [
       "<pre>Finished parsing file /home/laxmikant/cricPred/Segment Features/Segment7.csv</pre>"
      ],
      "text/plain": [
       "Finished parsing file /home/laxmikant/cricPred/Segment Features/Segment7.csv"
      ]
     },
     "metadata": {},
     "output_type": "display_data"
    },
    {
     "data": {
      "text/html": [
       "<pre>Parsing completed. Parsed 4701 lines in 0.01282 secs.</pre>"
      ],
      "text/plain": [
       "Parsing completed. Parsed 4701 lines in 0.01282 secs."
      ]
     },
     "metadata": {},
     "output_type": "display_data"
    },
    {
     "data": {
      "text/html": [
       "<pre>Finished parsing file /home/laxmikant/cricPred/Segment Features/Segment8.csv</pre>"
      ],
      "text/plain": [
       "Finished parsing file /home/laxmikant/cricPred/Segment Features/Segment8.csv"
      ]
     },
     "metadata": {},
     "output_type": "display_data"
    },
    {
     "data": {
      "text/html": [
       "<pre>Parsing completed. Parsed 100 lines in 0.020075 secs.</pre>"
      ],
      "text/plain": [
       "Parsing completed. Parsed 100 lines in 0.020075 secs."
      ]
     },
     "metadata": {},
     "output_type": "display_data"
    },
    {
     "name": "stdout",
     "output_type": "stream",
     "text": [
      "\n",
      "Inferred types from first line of file as \n",
      "column_type_hints=[str,int,int,int,int,int,int,int,int,int,int,int,str,int]\n",
      "If parsing fails due to incorrect types, you can correct\n",
      "the inferred type list above and pass it to read_csv in\n",
      "the column_type_hints argument\n",
      "------------------------------------------------------\n",
      "------------------------------------------------------"
     ]
    },
    {
     "data": {
      "text/html": [
       "<pre>Finished parsing file /home/laxmikant/cricPred/Segment Features/Segment8.csv</pre>"
      ],
      "text/plain": [
       "Finished parsing file /home/laxmikant/cricPred/Segment Features/Segment8.csv"
      ]
     },
     "metadata": {},
     "output_type": "display_data"
    },
    {
     "data": {
      "text/html": [
       "<pre>Parsing completed. Parsed 4791 lines in 0.027965 secs.</pre>"
      ],
      "text/plain": [
       "Parsing completed. Parsed 4791 lines in 0.027965 secs."
      ]
     },
     "metadata": {},
     "output_type": "display_data"
    },
    {
     "data": {
      "text/html": [
       "<pre>Finished parsing file /home/laxmikant/cricPred/Segment Features/Segment9.csv</pre>"
      ],
      "text/plain": [
       "Finished parsing file /home/laxmikant/cricPred/Segment Features/Segment9.csv"
      ]
     },
     "metadata": {},
     "output_type": "display_data"
    },
    {
     "data": {
      "text/html": [
       "<pre>Parsing completed. Parsed 100 lines in 0.018743 secs.</pre>"
      ],
      "text/plain": [
       "Parsing completed. Parsed 100 lines in 0.018743 secs."
      ]
     },
     "metadata": {},
     "output_type": "display_data"
    },
    {
     "name": "stdout",
     "output_type": "stream",
     "text": [
      "\n",
      "Inferred types from first line of file as \n",
      "column_type_hints=[str,int,int,int,int,int,int,int,int,int,int,int,str,int]\n",
      "If parsing fails due to incorrect types, you can correct\n",
      "the inferred type list above and pass it to read_csv in\n",
      "the column_type_hints argument\n",
      "------------------------------------------------------\n",
      "------------------------------------------------------"
     ]
    },
    {
     "data": {
      "text/html": [
       "<pre>Finished parsing file /home/laxmikant/cricPred/Segment Features/Segment9.csv</pre>"
      ],
      "text/plain": [
       "Finished parsing file /home/laxmikant/cricPred/Segment Features/Segment9.csv"
      ]
     },
     "metadata": {},
     "output_type": "display_data"
    },
    {
     "data": {
      "text/html": [
       "<pre>Parsing completed. Parsed 4634 lines in 0.013216 secs.</pre>"
      ],
      "text/plain": [
       "Parsing completed. Parsed 4634 lines in 0.013216 secs."
      ]
     },
     "metadata": {},
     "output_type": "display_data"
    },
    {
     "data": {
      "text/html": [
       "<pre>Finished parsing file /home/laxmikant/cricPred/Segment Features/Segment10.csv</pre>"
      ],
      "text/plain": [
       "Finished parsing file /home/laxmikant/cricPred/Segment Features/Segment10.csv"
      ]
     },
     "metadata": {},
     "output_type": "display_data"
    },
    {
     "data": {
      "text/html": [
       "<pre>Parsing completed. Parsed 100 lines in 0.016346 secs.</pre>"
      ],
      "text/plain": [
       "Parsing completed. Parsed 100 lines in 0.016346 secs."
      ]
     },
     "metadata": {},
     "output_type": "display_data"
    },
    {
     "name": "stdout",
     "output_type": "stream",
     "text": [
      "\n",
      "Inferred types from first line of file as \n",
      "column_type_hints=[str,int,int,int,int,int,int,int,int,int,int,int,str,int]\n",
      "If parsing fails due to incorrect types, you can correct\n",
      "the inferred type list above and pass it to read_csv in\n",
      "the column_type_hints argument\n",
      "------------------------------------------------------\n",
      "------------------------------------------------------"
     ]
    },
    {
     "data": {
      "text/html": [
       "<pre>Finished parsing file /home/laxmikant/cricPred/Segment Features/Segment10.csv</pre>"
      ],
      "text/plain": [
       "Finished parsing file /home/laxmikant/cricPred/Segment Features/Segment10.csv"
      ]
     },
     "metadata": {},
     "output_type": "display_data"
    },
    {
     "data": {
      "text/html": [
       "<pre>Parsing completed. Parsed 4331 lines in 0.01265 secs.</pre>"
      ],
      "text/plain": [
       "Parsing completed. Parsed 4331 lines in 0.01265 secs."
      ]
     },
     "metadata": {},
     "output_type": "display_data"
    },
    {
     "name": "stdout",
     "output_type": "stream",
     "text": [
      "\n",
      "Inferred types from first line of file as \n",
      "column_type_hints=[str,int,int,int,int,int,int,int,int,int,int,int,str,int]\n",
      "If parsing fails due to incorrect types, you can correct\n",
      "the inferred type list above and pass it to read_csv in\n",
      "the column_type_hints argument\n",
      "------------------------------------------------------\n"
     ]
    }
   ],
   "source": [
    "segments=[]\n",
    "for i in range(10):\n",
    "    seg=gl.SFrame(\"../Segment Features/Segment\"+str(i+1)+\".csv\")\n",
    "    segments.append(seg)"
   ]
  },
  {
   "cell_type": "code",
   "execution_count": 33,
   "metadata": {
    "collapsed": true
   },
   "outputs": [],
   "source": [
    "all_features=[]\n",
    "for i in range(10):\n",
    "    combined=historical.join(segments[i], on='Team')\n",
    "    combined= combined.join(batsman, on='Batsman')\n",
    "    all_features.append(combined)"
   ]
  },
  {
   "cell_type": "code",
   "execution_count": 34,
   "metadata": {
    "collapsed": true
   },
   "outputs": [],
   "source": [
    "modelFeatures=[]\n",
    "for feature in all_features:\n",
    "    mdFeature=feature.select_columns(['Runs Scored','Wickets Lost','Got All Out', 'Runs Conceded','Opponent Wickets Taken','Opponent All Out','Total Runs Scored','Balls Faced', 'R0','W0','R1','W1','Target','ClusterID','Home Runs','Home','Current_HR'])   \n",
    "    modelFeatures.append(mdFeature)"
   ]
  },
  {
   "cell_type": "code",
   "execution_count": 35,
   "metadata": {
    "collapsed": true
   },
   "outputs": [],
   "source": [
    "train_data=[]\n",
    "test_data=[]\n",
    "for i in range(10):\n",
    "    train, test=modelFeatures[i].random_split(0.8,seed=0)\n",
    "    train_data.append(train)\n",
    "    test_data.append(test)"
   ]
  },
  {
   "cell_type": "code",
   "execution_count": 36,
   "metadata": {
    "collapsed": false
   },
   "outputs": [
    {
     "data": {
      "text/html": [
       "<pre>Starting ball tree nearest neighbors model training.</pre>"
      ],
      "text/plain": [
       "Starting ball tree nearest neighbors model training."
      ]
     },
     "metadata": {},
     "output_type": "display_data"
    },
    {
     "data": {
      "text/html": [
       "<pre>+------------+--------------+</pre>"
      ],
      "text/plain": [
       "+------------+--------------+"
      ]
     },
     "metadata": {},
     "output_type": "display_data"
    },
    {
     "data": {
      "text/html": [
       "<pre>| Tree level | Elapsed Time |</pre>"
      ],
      "text/plain": [
       "| Tree level | Elapsed Time |"
      ]
     },
     "metadata": {},
     "output_type": "display_data"
    },
    {
     "data": {
      "text/html": [
       "<pre>+------------+--------------+</pre>"
      ],
      "text/plain": [
       "+------------+--------------+"
      ]
     },
     "metadata": {},
     "output_type": "display_data"
    },
    {
     "data": {
      "text/html": [
       "<pre>| 0          | 1.651ms      |</pre>"
      ],
      "text/plain": [
       "| 0          | 1.651ms      |"
      ]
     },
     "metadata": {},
     "output_type": "display_data"
    },
    {
     "data": {
      "text/html": [
       "<pre>| 1          | 3.151ms      |</pre>"
      ],
      "text/plain": [
       "| 1          | 3.151ms      |"
      ]
     },
     "metadata": {},
     "output_type": "display_data"
    },
    {
     "data": {
      "text/html": [
       "<pre>| 2          | 4.932ms      |</pre>"
      ],
      "text/plain": [
       "| 2          | 4.932ms      |"
      ]
     },
     "metadata": {},
     "output_type": "display_data"
    },
    {
     "data": {
      "text/html": [
       "<pre>| 3          | 6.106ms      |</pre>"
      ],
      "text/plain": [
       "| 3          | 6.106ms      |"
      ]
     },
     "metadata": {},
     "output_type": "display_data"
    },
    {
     "data": {
      "text/html": [
       "<pre>+------------+--------------+</pre>"
      ],
      "text/plain": [
       "+------------+--------------+"
      ]
     },
     "metadata": {},
     "output_type": "display_data"
    },
    {
     "data": {
      "text/html": [
       "<pre>Starting ball tree nearest neighbors model training.</pre>"
      ],
      "text/plain": [
       "Starting ball tree nearest neighbors model training."
      ]
     },
     "metadata": {},
     "output_type": "display_data"
    },
    {
     "data": {
      "text/html": [
       "<pre>+------------+--------------+</pre>"
      ],
      "text/plain": [
       "+------------+--------------+"
      ]
     },
     "metadata": {},
     "output_type": "display_data"
    },
    {
     "data": {
      "text/html": [
       "<pre>| Tree level | Elapsed Time |</pre>"
      ],
      "text/plain": [
       "| Tree level | Elapsed Time |"
      ]
     },
     "metadata": {},
     "output_type": "display_data"
    },
    {
     "data": {
      "text/html": [
       "<pre>+------------+--------------+</pre>"
      ],
      "text/plain": [
       "+------------+--------------+"
      ]
     },
     "metadata": {},
     "output_type": "display_data"
    },
    {
     "data": {
      "text/html": [
       "<pre>| 0          | 7.393ms      |</pre>"
      ],
      "text/plain": [
       "| 0          | 7.393ms      |"
      ]
     },
     "metadata": {},
     "output_type": "display_data"
    },
    {
     "data": {
      "text/html": [
       "<pre>| 1          | 12.38ms      |</pre>"
      ],
      "text/plain": [
       "| 1          | 12.38ms      |"
      ]
     },
     "metadata": {},
     "output_type": "display_data"
    },
    {
     "data": {
      "text/html": [
       "<pre>| 2          | 15.258ms     |</pre>"
      ],
      "text/plain": [
       "| 2          | 15.258ms     |"
      ]
     },
     "metadata": {},
     "output_type": "display_data"
    },
    {
     "data": {
      "text/html": [
       "<pre>| 3          | 16.653ms     |</pre>"
      ],
      "text/plain": [
       "| 3          | 16.653ms     |"
      ]
     },
     "metadata": {},
     "output_type": "display_data"
    },
    {
     "data": {
      "text/html": [
       "<pre>+------------+--------------+</pre>"
      ],
      "text/plain": [
       "+------------+--------------+"
      ]
     },
     "metadata": {},
     "output_type": "display_data"
    },
    {
     "data": {
      "text/html": [
       "<pre>Starting ball tree nearest neighbors model training.</pre>"
      ],
      "text/plain": [
       "Starting ball tree nearest neighbors model training."
      ]
     },
     "metadata": {},
     "output_type": "display_data"
    },
    {
     "data": {
      "text/html": [
       "<pre>+------------+--------------+</pre>"
      ],
      "text/plain": [
       "+------------+--------------+"
      ]
     },
     "metadata": {},
     "output_type": "display_data"
    },
    {
     "data": {
      "text/html": [
       "<pre>| Tree level | Elapsed Time |</pre>"
      ],
      "text/plain": [
       "| Tree level | Elapsed Time |"
      ]
     },
     "metadata": {},
     "output_type": "display_data"
    },
    {
     "data": {
      "text/html": [
       "<pre>+------------+--------------+</pre>"
      ],
      "text/plain": [
       "+------------+--------------+"
      ]
     },
     "metadata": {},
     "output_type": "display_data"
    },
    {
     "data": {
      "text/html": [
       "<pre>| 0          | 4.041ms      |</pre>"
      ],
      "text/plain": [
       "| 0          | 4.041ms      |"
      ]
     },
     "metadata": {},
     "output_type": "display_data"
    },
    {
     "data": {
      "text/html": [
       "<pre>| 1          | 6.552ms      |</pre>"
      ],
      "text/plain": [
       "| 1          | 6.552ms      |"
      ]
     },
     "metadata": {},
     "output_type": "display_data"
    },
    {
     "data": {
      "text/html": [
       "<pre>| 2          | 9.119ms      |</pre>"
      ],
      "text/plain": [
       "| 2          | 9.119ms      |"
      ]
     },
     "metadata": {},
     "output_type": "display_data"
    },
    {
     "data": {
      "text/html": [
       "<pre>| 3          | 10.655ms     |</pre>"
      ],
      "text/plain": [
       "| 3          | 10.655ms     |"
      ]
     },
     "metadata": {},
     "output_type": "display_data"
    },
    {
     "data": {
      "text/html": [
       "<pre>+------------+--------------+</pre>"
      ],
      "text/plain": [
       "+------------+--------------+"
      ]
     },
     "metadata": {},
     "output_type": "display_data"
    },
    {
     "data": {
      "text/html": [
       "<pre>Starting ball tree nearest neighbors model training.</pre>"
      ],
      "text/plain": [
       "Starting ball tree nearest neighbors model training."
      ]
     },
     "metadata": {},
     "output_type": "display_data"
    },
    {
     "data": {
      "text/html": [
       "<pre>+------------+--------------+</pre>"
      ],
      "text/plain": [
       "+------------+--------------+"
      ]
     },
     "metadata": {},
     "output_type": "display_data"
    },
    {
     "data": {
      "text/html": [
       "<pre>| Tree level | Elapsed Time |</pre>"
      ],
      "text/plain": [
       "| Tree level | Elapsed Time |"
      ]
     },
     "metadata": {},
     "output_type": "display_data"
    },
    {
     "data": {
      "text/html": [
       "<pre>+------------+--------------+</pre>"
      ],
      "text/plain": [
       "+------------+--------------+"
      ]
     },
     "metadata": {},
     "output_type": "display_data"
    },
    {
     "data": {
      "text/html": [
       "<pre>| 0          | 3.396ms      |</pre>"
      ],
      "text/plain": [
       "| 0          | 3.396ms      |"
      ]
     },
     "metadata": {},
     "output_type": "display_data"
    },
    {
     "data": {
      "text/html": [
       "<pre>| 1          | 6.294ms      |</pre>"
      ],
      "text/plain": [
       "| 1          | 6.294ms      |"
      ]
     },
     "metadata": {},
     "output_type": "display_data"
    },
    {
     "data": {
      "text/html": [
       "<pre>| 2          | 8.831ms      |</pre>"
      ],
      "text/plain": [
       "| 2          | 8.831ms      |"
      ]
     },
     "metadata": {},
     "output_type": "display_data"
    },
    {
     "data": {
      "text/html": [
       "<pre>| 3          | 14.655ms     |</pre>"
      ],
      "text/plain": [
       "| 3          | 14.655ms     |"
      ]
     },
     "metadata": {},
     "output_type": "display_data"
    },
    {
     "data": {
      "text/html": [
       "<pre>+------------+--------------+</pre>"
      ],
      "text/plain": [
       "+------------+--------------+"
      ]
     },
     "metadata": {},
     "output_type": "display_data"
    },
    {
     "data": {
      "text/html": [
       "<pre>Starting ball tree nearest neighbors model training.</pre>"
      ],
      "text/plain": [
       "Starting ball tree nearest neighbors model training."
      ]
     },
     "metadata": {},
     "output_type": "display_data"
    },
    {
     "data": {
      "text/html": [
       "<pre>+------------+--------------+</pre>"
      ],
      "text/plain": [
       "+------------+--------------+"
      ]
     },
     "metadata": {},
     "output_type": "display_data"
    },
    {
     "data": {
      "text/html": [
       "<pre>| Tree level | Elapsed Time |</pre>"
      ],
      "text/plain": [
       "| Tree level | Elapsed Time |"
      ]
     },
     "metadata": {},
     "output_type": "display_data"
    },
    {
     "data": {
      "text/html": [
       "<pre>+------------+--------------+</pre>"
      ],
      "text/plain": [
       "+------------+--------------+"
      ]
     },
     "metadata": {},
     "output_type": "display_data"
    },
    {
     "data": {
      "text/html": [
       "<pre>| 0          | 5.342ms      |</pre>"
      ],
      "text/plain": [
       "| 0          | 5.342ms      |"
      ]
     },
     "metadata": {},
     "output_type": "display_data"
    },
    {
     "data": {
      "text/html": [
       "<pre>| 1          | 10.082ms     |</pre>"
      ],
      "text/plain": [
       "| 1          | 10.082ms     |"
      ]
     },
     "metadata": {},
     "output_type": "display_data"
    },
    {
     "data": {
      "text/html": [
       "<pre>| 2          | 12.585ms     |</pre>"
      ],
      "text/plain": [
       "| 2          | 12.585ms     |"
      ]
     },
     "metadata": {},
     "output_type": "display_data"
    },
    {
     "data": {
      "text/html": [
       "<pre>| 3          | 13.957ms     |</pre>"
      ],
      "text/plain": [
       "| 3          | 13.957ms     |"
      ]
     },
     "metadata": {},
     "output_type": "display_data"
    },
    {
     "data": {
      "text/html": [
       "<pre>+------------+--------------+</pre>"
      ],
      "text/plain": [
       "+------------+--------------+"
      ]
     },
     "metadata": {},
     "output_type": "display_data"
    },
    {
     "data": {
      "text/html": [
       "<pre>Starting ball tree nearest neighbors model training.</pre>"
      ],
      "text/plain": [
       "Starting ball tree nearest neighbors model training."
      ]
     },
     "metadata": {},
     "output_type": "display_data"
    },
    {
     "data": {
      "text/html": [
       "<pre>+------------+--------------+</pre>"
      ],
      "text/plain": [
       "+------------+--------------+"
      ]
     },
     "metadata": {},
     "output_type": "display_data"
    },
    {
     "data": {
      "text/html": [
       "<pre>| Tree level | Elapsed Time |</pre>"
      ],
      "text/plain": [
       "| Tree level | Elapsed Time |"
      ]
     },
     "metadata": {},
     "output_type": "display_data"
    },
    {
     "data": {
      "text/html": [
       "<pre>+------------+--------------+</pre>"
      ],
      "text/plain": [
       "+------------+--------------+"
      ]
     },
     "metadata": {},
     "output_type": "display_data"
    },
    {
     "data": {
      "text/html": [
       "<pre>| 0          | 3.359ms      |</pre>"
      ],
      "text/plain": [
       "| 0          | 3.359ms      |"
      ]
     },
     "metadata": {},
     "output_type": "display_data"
    },
    {
     "data": {
      "text/html": [
       "<pre>| 1          | 5.995ms      |</pre>"
      ],
      "text/plain": [
       "| 1          | 5.995ms      |"
      ]
     },
     "metadata": {},
     "output_type": "display_data"
    },
    {
     "data": {
      "text/html": [
       "<pre>| 2          | 6.898ms      |</pre>"
      ],
      "text/plain": [
       "| 2          | 6.898ms      |"
      ]
     },
     "metadata": {},
     "output_type": "display_data"
    },
    {
     "data": {
      "text/html": [
       "<pre>+------------+--------------+</pre>"
      ],
      "text/plain": [
       "+------------+--------------+"
      ]
     },
     "metadata": {},
     "output_type": "display_data"
    },
    {
     "data": {
      "text/html": [
       "<pre>Starting ball tree nearest neighbors model training.</pre>"
      ],
      "text/plain": [
       "Starting ball tree nearest neighbors model training."
      ]
     },
     "metadata": {},
     "output_type": "display_data"
    },
    {
     "data": {
      "text/html": [
       "<pre>+------------+--------------+</pre>"
      ],
      "text/plain": [
       "+------------+--------------+"
      ]
     },
     "metadata": {},
     "output_type": "display_data"
    },
    {
     "data": {
      "text/html": [
       "<pre>| Tree level | Elapsed Time |</pre>"
      ],
      "text/plain": [
       "| Tree level | Elapsed Time |"
      ]
     },
     "metadata": {},
     "output_type": "display_data"
    },
    {
     "data": {
      "text/html": [
       "<pre>+------------+--------------+</pre>"
      ],
      "text/plain": [
       "+------------+--------------+"
      ]
     },
     "metadata": {},
     "output_type": "display_data"
    },
    {
     "data": {
      "text/html": [
       "<pre>| 0          | 6.31ms       |</pre>"
      ],
      "text/plain": [
       "| 0          | 6.31ms       |"
      ]
     },
     "metadata": {},
     "output_type": "display_data"
    },
    {
     "data": {
      "text/html": [
       "<pre>| 1          | 9.333ms      |</pre>"
      ],
      "text/plain": [
       "| 1          | 9.333ms      |"
      ]
     },
     "metadata": {},
     "output_type": "display_data"
    },
    {
     "data": {
      "text/html": [
       "<pre>| 2          | 10.671ms     |</pre>"
      ],
      "text/plain": [
       "| 2          | 10.671ms     |"
      ]
     },
     "metadata": {},
     "output_type": "display_data"
    },
    {
     "data": {
      "text/html": [
       "<pre>+------------+--------------+</pre>"
      ],
      "text/plain": [
       "+------------+--------------+"
      ]
     },
     "metadata": {},
     "output_type": "display_data"
    },
    {
     "data": {
      "text/html": [
       "<pre>Starting ball tree nearest neighbors model training.</pre>"
      ],
      "text/plain": [
       "Starting ball tree nearest neighbors model training."
      ]
     },
     "metadata": {},
     "output_type": "display_data"
    },
    {
     "data": {
      "text/html": [
       "<pre>+------------+--------------+</pre>"
      ],
      "text/plain": [
       "+------------+--------------+"
      ]
     },
     "metadata": {},
     "output_type": "display_data"
    },
    {
     "data": {
      "text/html": [
       "<pre>| Tree level | Elapsed Time |</pre>"
      ],
      "text/plain": [
       "| Tree level | Elapsed Time |"
      ]
     },
     "metadata": {},
     "output_type": "display_data"
    },
    {
     "data": {
      "text/html": [
       "<pre>+------------+--------------+</pre>"
      ],
      "text/plain": [
       "+------------+--------------+"
      ]
     },
     "metadata": {},
     "output_type": "display_data"
    },
    {
     "data": {
      "text/html": [
       "<pre>| 0          | 4.472ms      |</pre>"
      ],
      "text/plain": [
       "| 0          | 4.472ms      |"
      ]
     },
     "metadata": {},
     "output_type": "display_data"
    },
    {
     "data": {
      "text/html": [
       "<pre>| 1          | 7.174ms      |</pre>"
      ],
      "text/plain": [
       "| 1          | 7.174ms      |"
      ]
     },
     "metadata": {},
     "output_type": "display_data"
    },
    {
     "data": {
      "text/html": [
       "<pre>| 2          | 9.576ms      |</pre>"
      ],
      "text/plain": [
       "| 2          | 9.576ms      |"
      ]
     },
     "metadata": {},
     "output_type": "display_data"
    },
    {
     "data": {
      "text/html": [
       "<pre>+------------+--------------+</pre>"
      ],
      "text/plain": [
       "+------------+--------------+"
      ]
     },
     "metadata": {},
     "output_type": "display_data"
    },
    {
     "data": {
      "text/html": [
       "<pre>Starting ball tree nearest neighbors model training.</pre>"
      ],
      "text/plain": [
       "Starting ball tree nearest neighbors model training."
      ]
     },
     "metadata": {},
     "output_type": "display_data"
    },
    {
     "data": {
      "text/html": [
       "<pre>+------------+--------------+</pre>"
      ],
      "text/plain": [
       "+------------+--------------+"
      ]
     },
     "metadata": {},
     "output_type": "display_data"
    },
    {
     "data": {
      "text/html": [
       "<pre>| Tree level | Elapsed Time |</pre>"
      ],
      "text/plain": [
       "| Tree level | Elapsed Time |"
      ]
     },
     "metadata": {},
     "output_type": "display_data"
    },
    {
     "data": {
      "text/html": [
       "<pre>+------------+--------------+</pre>"
      ],
      "text/plain": [
       "+------------+--------------+"
      ]
     },
     "metadata": {},
     "output_type": "display_data"
    },
    {
     "data": {
      "text/html": [
       "<pre>| 0          | 2.944ms      |</pre>"
      ],
      "text/plain": [
       "| 0          | 2.944ms      |"
      ]
     },
     "metadata": {},
     "output_type": "display_data"
    },
    {
     "data": {
      "text/html": [
       "<pre>| 1          | 5.321ms      |</pre>"
      ],
      "text/plain": [
       "| 1          | 5.321ms      |"
      ]
     },
     "metadata": {},
     "output_type": "display_data"
    },
    {
     "data": {
      "text/html": [
       "<pre>| 2          | 6.713ms      |</pre>"
      ],
      "text/plain": [
       "| 2          | 6.713ms      |"
      ]
     },
     "metadata": {},
     "output_type": "display_data"
    },
    {
     "data": {
      "text/html": [
       "<pre>+------------+--------------+</pre>"
      ],
      "text/plain": [
       "+------------+--------------+"
      ]
     },
     "metadata": {},
     "output_type": "display_data"
    },
    {
     "data": {
      "text/html": [
       "<pre>Starting ball tree nearest neighbors model training.</pre>"
      ],
      "text/plain": [
       "Starting ball tree nearest neighbors model training."
      ]
     },
     "metadata": {},
     "output_type": "display_data"
    },
    {
     "data": {
      "text/html": [
       "<pre>+------------+--------------+</pre>"
      ],
      "text/plain": [
       "+------------+--------------+"
      ]
     },
     "metadata": {},
     "output_type": "display_data"
    },
    {
     "data": {
      "text/html": [
       "<pre>| Tree level | Elapsed Time |</pre>"
      ],
      "text/plain": [
       "| Tree level | Elapsed Time |"
      ]
     },
     "metadata": {},
     "output_type": "display_data"
    },
    {
     "data": {
      "text/html": [
       "<pre>+------------+--------------+</pre>"
      ],
      "text/plain": [
       "+------------+--------------+"
      ]
     },
     "metadata": {},
     "output_type": "display_data"
    },
    {
     "data": {
      "text/html": [
       "<pre>| 0          | 1.371ms      |</pre>"
      ],
      "text/plain": [
       "| 0          | 1.371ms      |"
      ]
     },
     "metadata": {},
     "output_type": "display_data"
    },
    {
     "data": {
      "text/html": [
       "<pre>| 1          | 3.401ms      |</pre>"
      ],
      "text/plain": [
       "| 1          | 3.401ms      |"
      ]
     },
     "metadata": {},
     "output_type": "display_data"
    },
    {
     "data": {
      "text/html": [
       "<pre>| 2          | 4.299ms      |</pre>"
      ],
      "text/plain": [
       "| 2          | 4.299ms      |"
      ]
     },
     "metadata": {},
     "output_type": "display_data"
    },
    {
     "data": {
      "text/html": [
       "<pre>+------------+--------------+</pre>"
      ],
      "text/plain": [
       "+------------+--------------+"
      ]
     },
     "metadata": {},
     "output_type": "display_data"
    }
   ],
   "source": [
    "models=[]\n",
    "for i in range(10):\n",
    "    knnModel= gl.nearest_neighbors.create(train_data[i])\n",
    "    models.append(knnModel)"
   ]
  },
  {
   "cell_type": "code",
   "execution_count": 37,
   "metadata": {
    "collapsed": false
   },
   "outputs": [
    {
     "data": {
      "text/html": [
       "<pre>+--------------+-------------+--------------+</pre>"
      ],
      "text/plain": [
       "+--------------+-------------+--------------+"
      ]
     },
     "metadata": {},
     "output_type": "display_data"
    },
    {
     "data": {
      "text/html": [
       "<pre>| Query points | % Complete. | Elapsed Time |</pre>"
      ],
      "text/plain": [
       "| Query points | % Complete. | Elapsed Time |"
      ]
     },
     "metadata": {},
     "output_type": "display_data"
    },
    {
     "data": {
      "text/html": [
       "<pre>+--------------+-------------+--------------+</pre>"
      ],
      "text/plain": [
       "+--------------+-------------+--------------+"
      ]
     },
     "metadata": {},
     "output_type": "display_data"
    },
    {
     "data": {
      "text/html": [
       "<pre>| 1            | 0           | 902us        |</pre>"
      ],
      "text/plain": [
       "| 1            | 0           | 902us        |"
      ]
     },
     "metadata": {},
     "output_type": "display_data"
    },
    {
     "data": {
      "text/html": [
       "<pre>| Done         |             | 270.119ms    |</pre>"
      ],
      "text/plain": [
       "| Done         |             | 270.119ms    |"
      ]
     },
     "metadata": {},
     "output_type": "display_data"
    },
    {
     "data": {
      "text/html": [
       "<pre>+--------------+-------------+--------------+</pre>"
      ],
      "text/plain": [
       "+--------------+-------------+--------------+"
      ]
     },
     "metadata": {},
     "output_type": "display_data"
    },
    {
     "data": {
      "text/html": [
       "<pre>+--------------+-------------+--------------+</pre>"
      ],
      "text/plain": [
       "+--------------+-------------+--------------+"
      ]
     },
     "metadata": {},
     "output_type": "display_data"
    },
    {
     "data": {
      "text/html": [
       "<pre>| Query points | % Complete. | Elapsed Time |</pre>"
      ],
      "text/plain": [
       "| Query points | % Complete. | Elapsed Time |"
      ]
     },
     "metadata": {},
     "output_type": "display_data"
    },
    {
     "data": {
      "text/html": [
       "<pre>+--------------+-------------+--------------+</pre>"
      ],
      "text/plain": [
       "+--------------+-------------+--------------+"
      ]
     },
     "metadata": {},
     "output_type": "display_data"
    },
    {
     "data": {
      "text/html": [
       "<pre>| 1            | 0           | 1.348ms      |</pre>"
      ],
      "text/plain": [
       "| 1            | 0           | 1.348ms      |"
      ]
     },
     "metadata": {},
     "output_type": "display_data"
    },
    {
     "data": {
      "text/html": [
       "<pre>| Done         |             | 348.27ms     |</pre>"
      ],
      "text/plain": [
       "| Done         |             | 348.27ms     |"
      ]
     },
     "metadata": {},
     "output_type": "display_data"
    },
    {
     "data": {
      "text/html": [
       "<pre>+--------------+-------------+--------------+</pre>"
      ],
      "text/plain": [
       "+--------------+-------------+--------------+"
      ]
     },
     "metadata": {},
     "output_type": "display_data"
    },
    {
     "data": {
      "text/html": [
       "<pre>+--------------+-------------+--------------+</pre>"
      ],
      "text/plain": [
       "+--------------+-------------+--------------+"
      ]
     },
     "metadata": {},
     "output_type": "display_data"
    },
    {
     "data": {
      "text/html": [
       "<pre>| Query points | % Complete. | Elapsed Time |</pre>"
      ],
      "text/plain": [
       "| Query points | % Complete. | Elapsed Time |"
      ]
     },
     "metadata": {},
     "output_type": "display_data"
    },
    {
     "data": {
      "text/html": [
       "<pre>+--------------+-------------+--------------+</pre>"
      ],
      "text/plain": [
       "+--------------+-------------+--------------+"
      ]
     },
     "metadata": {},
     "output_type": "display_data"
    },
    {
     "data": {
      "text/html": [
       "<pre>| 1            | 0           | 635us        |</pre>"
      ],
      "text/plain": [
       "| 1            | 0           | 635us        |"
      ]
     },
     "metadata": {},
     "output_type": "display_data"
    },
    {
     "data": {
      "text/html": [
       "<pre>| Done         |             | 309.076ms    |</pre>"
      ],
      "text/plain": [
       "| Done         |             | 309.076ms    |"
      ]
     },
     "metadata": {},
     "output_type": "display_data"
    },
    {
     "data": {
      "text/html": [
       "<pre>+--------------+-------------+--------------+</pre>"
      ],
      "text/plain": [
       "+--------------+-------------+--------------+"
      ]
     },
     "metadata": {},
     "output_type": "display_data"
    },
    {
     "data": {
      "text/html": [
       "<pre>+--------------+-------------+--------------+</pre>"
      ],
      "text/plain": [
       "+--------------+-------------+--------------+"
      ]
     },
     "metadata": {},
     "output_type": "display_data"
    },
    {
     "data": {
      "text/html": [
       "<pre>| Query points | % Complete. | Elapsed Time |</pre>"
      ],
      "text/plain": [
       "| Query points | % Complete. | Elapsed Time |"
      ]
     },
     "metadata": {},
     "output_type": "display_data"
    },
    {
     "data": {
      "text/html": [
       "<pre>+--------------+-------------+--------------+</pre>"
      ],
      "text/plain": [
       "+--------------+-------------+--------------+"
      ]
     },
     "metadata": {},
     "output_type": "display_data"
    },
    {
     "data": {
      "text/html": [
       "<pre>| 1            | 0           | 1.271ms      |</pre>"
      ],
      "text/plain": [
       "| 1            | 0           | 1.271ms      |"
      ]
     },
     "metadata": {},
     "output_type": "display_data"
    },
    {
     "data": {
      "text/html": [
       "<pre>| Done         |             | 370.769ms    |</pre>"
      ],
      "text/plain": [
       "| Done         |             | 370.769ms    |"
      ]
     },
     "metadata": {},
     "output_type": "display_data"
    },
    {
     "data": {
      "text/html": [
       "<pre>+--------------+-------------+--------------+</pre>"
      ],
      "text/plain": [
       "+--------------+-------------+--------------+"
      ]
     },
     "metadata": {},
     "output_type": "display_data"
    },
    {
     "data": {
      "text/html": [
       "<pre>+--------------+-------------+--------------+</pre>"
      ],
      "text/plain": [
       "+--------------+-------------+--------------+"
      ]
     },
     "metadata": {},
     "output_type": "display_data"
    },
    {
     "data": {
      "text/html": [
       "<pre>| Query points | % Complete. | Elapsed Time |</pre>"
      ],
      "text/plain": [
       "| Query points | % Complete. | Elapsed Time |"
      ]
     },
     "metadata": {},
     "output_type": "display_data"
    },
    {
     "data": {
      "text/html": [
       "<pre>+--------------+-------------+--------------+</pre>"
      ],
      "text/plain": [
       "+--------------+-------------+--------------+"
      ]
     },
     "metadata": {},
     "output_type": "display_data"
    },
    {
     "data": {
      "text/html": [
       "<pre>| 1            | 0           | 2.328ms      |</pre>"
      ],
      "text/plain": [
       "| 1            | 0           | 2.328ms      |"
      ]
     },
     "metadata": {},
     "output_type": "display_data"
    },
    {
     "data": {
      "text/html": [
       "<pre>| Done         |             | 398.41ms     |</pre>"
      ],
      "text/plain": [
       "| Done         |             | 398.41ms     |"
      ]
     },
     "metadata": {},
     "output_type": "display_data"
    },
    {
     "data": {
      "text/html": [
       "<pre>+--------------+-------------+--------------+</pre>"
      ],
      "text/plain": [
       "+--------------+-------------+--------------+"
      ]
     },
     "metadata": {},
     "output_type": "display_data"
    },
    {
     "data": {
      "text/html": [
       "<pre>+--------------+-------------+--------------+</pre>"
      ],
      "text/plain": [
       "+--------------+-------------+--------------+"
      ]
     },
     "metadata": {},
     "output_type": "display_data"
    },
    {
     "data": {
      "text/html": [
       "<pre>| Query points | % Complete. | Elapsed Time |</pre>"
      ],
      "text/plain": [
       "| Query points | % Complete. | Elapsed Time |"
      ]
     },
     "metadata": {},
     "output_type": "display_data"
    },
    {
     "data": {
      "text/html": [
       "<pre>+--------------+-------------+--------------+</pre>"
      ],
      "text/plain": [
       "+--------------+-------------+--------------+"
      ]
     },
     "metadata": {},
     "output_type": "display_data"
    },
    {
     "data": {
      "text/html": [
       "<pre>| 1            | 0           | 1.137ms      |</pre>"
      ],
      "text/plain": [
       "| 1            | 0           | 1.137ms      |"
      ]
     },
     "metadata": {},
     "output_type": "display_data"
    },
    {
     "data": {
      "text/html": [
       "<pre>| Done         |             | 341.545ms    |</pre>"
      ],
      "text/plain": [
       "| Done         |             | 341.545ms    |"
      ]
     },
     "metadata": {},
     "output_type": "display_data"
    },
    {
     "data": {
      "text/html": [
       "<pre>+--------------+-------------+--------------+</pre>"
      ],
      "text/plain": [
       "+--------------+-------------+--------------+"
      ]
     },
     "metadata": {},
     "output_type": "display_data"
    },
    {
     "data": {
      "text/html": [
       "<pre>+--------------+-------------+--------------+</pre>"
      ],
      "text/plain": [
       "+--------------+-------------+--------------+"
      ]
     },
     "metadata": {},
     "output_type": "display_data"
    },
    {
     "data": {
      "text/html": [
       "<pre>| Query points | % Complete. | Elapsed Time |</pre>"
      ],
      "text/plain": [
       "| Query points | % Complete. | Elapsed Time |"
      ]
     },
     "metadata": {},
     "output_type": "display_data"
    },
    {
     "data": {
      "text/html": [
       "<pre>+--------------+-------------+--------------+</pre>"
      ],
      "text/plain": [
       "+--------------+-------------+--------------+"
      ]
     },
     "metadata": {},
     "output_type": "display_data"
    },
    {
     "data": {
      "text/html": [
       "<pre>| 1            | 0           | 1.514ms      |</pre>"
      ],
      "text/plain": [
       "| 1            | 0           | 1.514ms      |"
      ]
     },
     "metadata": {},
     "output_type": "display_data"
    },
    {
     "data": {
      "text/html": [
       "<pre>| Done         |             | 288.523ms    |</pre>"
      ],
      "text/plain": [
       "| Done         |             | 288.523ms    |"
      ]
     },
     "metadata": {},
     "output_type": "display_data"
    },
    {
     "data": {
      "text/html": [
       "<pre>+--------------+-------------+--------------+</pre>"
      ],
      "text/plain": [
       "+--------------+-------------+--------------+"
      ]
     },
     "metadata": {},
     "output_type": "display_data"
    },
    {
     "data": {
      "text/html": [
       "<pre>+--------------+-------------+--------------+</pre>"
      ],
      "text/plain": [
       "+--------------+-------------+--------------+"
      ]
     },
     "metadata": {},
     "output_type": "display_data"
    },
    {
     "data": {
      "text/html": [
       "<pre>| Query points | % Complete. | Elapsed Time |</pre>"
      ],
      "text/plain": [
       "| Query points | % Complete. | Elapsed Time |"
      ]
     },
     "metadata": {},
     "output_type": "display_data"
    },
    {
     "data": {
      "text/html": [
       "<pre>+--------------+-------------+--------------+</pre>"
      ],
      "text/plain": [
       "+--------------+-------------+--------------+"
      ]
     },
     "metadata": {},
     "output_type": "display_data"
    },
    {
     "data": {
      "text/html": [
       "<pre>| 1            | 0           | 1.718ms      |</pre>"
      ],
      "text/plain": [
       "| 1            | 0           | 1.718ms      |"
      ]
     },
     "metadata": {},
     "output_type": "display_data"
    },
    {
     "data": {
      "text/html": [
       "<pre>| Done         |             | 365.241ms    |</pre>"
      ],
      "text/plain": [
       "| Done         |             | 365.241ms    |"
      ]
     },
     "metadata": {},
     "output_type": "display_data"
    },
    {
     "data": {
      "text/html": [
       "<pre>+--------------+-------------+--------------+</pre>"
      ],
      "text/plain": [
       "+--------------+-------------+--------------+"
      ]
     },
     "metadata": {},
     "output_type": "display_data"
    },
    {
     "data": {
      "text/html": [
       "<pre>+--------------+-------------+--------------+</pre>"
      ],
      "text/plain": [
       "+--------------+-------------+--------------+"
      ]
     },
     "metadata": {},
     "output_type": "display_data"
    },
    {
     "data": {
      "text/html": [
       "<pre>| Query points | % Complete. | Elapsed Time |</pre>"
      ],
      "text/plain": [
       "| Query points | % Complete. | Elapsed Time |"
      ]
     },
     "metadata": {},
     "output_type": "display_data"
    },
    {
     "data": {
      "text/html": [
       "<pre>+--------------+-------------+--------------+</pre>"
      ],
      "text/plain": [
       "+--------------+-------------+--------------+"
      ]
     },
     "metadata": {},
     "output_type": "display_data"
    },
    {
     "data": {
      "text/html": [
       "<pre>| 1            | 0           | 1.172ms      |</pre>"
      ],
      "text/plain": [
       "| 1            | 0           | 1.172ms      |"
      ]
     },
     "metadata": {},
     "output_type": "display_data"
    },
    {
     "data": {
      "text/html": [
       "<pre>| Done         |             | 230.305ms    |</pre>"
      ],
      "text/plain": [
       "| Done         |             | 230.305ms    |"
      ]
     },
     "metadata": {},
     "output_type": "display_data"
    },
    {
     "data": {
      "text/html": [
       "<pre>+--------------+-------------+--------------+</pre>"
      ],
      "text/plain": [
       "+--------------+-------------+--------------+"
      ]
     },
     "metadata": {},
     "output_type": "display_data"
    },
    {
     "data": {
      "text/html": [
       "<pre>+--------------+-------------+--------------+</pre>"
      ],
      "text/plain": [
       "+--------------+-------------+--------------+"
      ]
     },
     "metadata": {},
     "output_type": "display_data"
    },
    {
     "data": {
      "text/html": [
       "<pre>| Query points | % Complete. | Elapsed Time |</pre>"
      ],
      "text/plain": [
       "| Query points | % Complete. | Elapsed Time |"
      ]
     },
     "metadata": {},
     "output_type": "display_data"
    },
    {
     "data": {
      "text/html": [
       "<pre>+--------------+-------------+--------------+</pre>"
      ],
      "text/plain": [
       "+--------------+-------------+--------------+"
      ]
     },
     "metadata": {},
     "output_type": "display_data"
    },
    {
     "data": {
      "text/html": [
       "<pre>| 1            | 0           | 787us        |</pre>"
      ],
      "text/plain": [
       "| 1            | 0           | 787us        |"
      ]
     },
     "metadata": {},
     "output_type": "display_data"
    },
    {
     "data": {
      "text/html": [
       "<pre>| Done         |             | 214.571ms    |</pre>"
      ],
      "text/plain": [
       "| Done         |             | 214.571ms    |"
      ]
     },
     "metadata": {},
     "output_type": "display_data"
    },
    {
     "data": {
      "text/html": [
       "<pre>+--------------+-------------+--------------+</pre>"
      ],
      "text/plain": [
       "+--------------+-------------+--------------+"
      ]
     },
     "metadata": {},
     "output_type": "display_data"
    }
   ],
   "source": [
    "nearestPoints=[]\n",
    "knn=5\n",
    "for i in range(10):\n",
    "    Npoints=models[i].query(test_data[i], k=knn)\n",
    "    nearestPoints.append(Npoints)\n",
    "    \n",
    "    #nn3=models[3].query(test_data[3], k=5)"
   ]
  },
  {
   "cell_type": "code",
   "execution_count": 38,
   "metadata": {
    "collapsed": false
   },
   "outputs": [
    {
     "data": {
      "text/html": [
       "<div style=\"max-height:1000px;max-width:1500px;overflow:auto;\"><table frame=\"box\" rules=\"cols\">\n",
       "    <tr>\n",
       "        <th style=\"padding-left: 1em; padding-right: 1em; text-align: center\">query_label</th>\n",
       "        <th style=\"padding-left: 1em; padding-right: 1em; text-align: center\">reference_label</th>\n",
       "        <th style=\"padding-left: 1em; padding-right: 1em; text-align: center\">distance</th>\n",
       "        <th style=\"padding-left: 1em; padding-right: 1em; text-align: center\">rank</th>\n",
       "    </tr>\n",
       "    <tr>\n",
       "        <td style=\"padding-left: 1em; padding-right: 1em; text-align: center; vertical-align: top\">0</td>\n",
       "        <td style=\"padding-left: 1em; padding-right: 1em; text-align: center; vertical-align: top\">1239</td>\n",
       "        <td style=\"padding-left: 1em; padding-right: 1em; text-align: center; vertical-align: top\">4.17448063578</td>\n",
       "        <td style=\"padding-left: 1em; padding-right: 1em; text-align: center; vertical-align: top\">1</td>\n",
       "    </tr>\n",
       "    <tr>\n",
       "        <td style=\"padding-left: 1em; padding-right: 1em; text-align: center; vertical-align: top\">0</td>\n",
       "        <td style=\"padding-left: 1em; padding-right: 1em; text-align: center; vertical-align: top\">1238</td>\n",
       "        <td style=\"padding-left: 1em; padding-right: 1em; text-align: center; vertical-align: top\">4.17448063578</td>\n",
       "        <td style=\"padding-left: 1em; padding-right: 1em; text-align: center; vertical-align: top\">2</td>\n",
       "    </tr>\n",
       "    <tr>\n",
       "        <td style=\"padding-left: 1em; padding-right: 1em; text-align: center; vertical-align: top\">0</td>\n",
       "        <td style=\"padding-left: 1em; padding-right: 1em; text-align: center; vertical-align: top\">1237</td>\n",
       "        <td style=\"padding-left: 1em; padding-right: 1em; text-align: center; vertical-align: top\">5.0424486689</td>\n",
       "        <td style=\"padding-left: 1em; padding-right: 1em; text-align: center; vertical-align: top\">3</td>\n",
       "    </tr>\n",
       "    <tr>\n",
       "        <td style=\"padding-left: 1em; padding-right: 1em; text-align: center; vertical-align: top\">0</td>\n",
       "        <td style=\"padding-left: 1em; padding-right: 1em; text-align: center; vertical-align: top\">1236</td>\n",
       "        <td style=\"padding-left: 1em; padding-right: 1em; text-align: center; vertical-align: top\">5.0424486689</td>\n",
       "        <td style=\"padding-left: 1em; padding-right: 1em; text-align: center; vertical-align: top\">4</td>\n",
       "    </tr>\n",
       "    <tr>\n",
       "        <td style=\"padding-left: 1em; padding-right: 1em; text-align: center; vertical-align: top\">0</td>\n",
       "        <td style=\"padding-left: 1em; padding-right: 1em; text-align: center; vertical-align: top\">978</td>\n",
       "        <td style=\"padding-left: 1em; padding-right: 1em; text-align: center; vertical-align: top\">5.38516480713</td>\n",
       "        <td style=\"padding-left: 1em; padding-right: 1em; text-align: center; vertical-align: top\">5</td>\n",
       "    </tr>\n",
       "    <tr>\n",
       "        <td style=\"padding-left: 1em; padding-right: 1em; text-align: center; vertical-align: top\">1</td>\n",
       "        <td style=\"padding-left: 1em; padding-right: 1em; text-align: center; vertical-align: top\">3147</td>\n",
       "        <td style=\"padding-left: 1em; padding-right: 1em; text-align: center; vertical-align: top\">13.0646659633</td>\n",
       "        <td style=\"padding-left: 1em; padding-right: 1em; text-align: center; vertical-align: top\">1</td>\n",
       "    </tr>\n",
       "    <tr>\n",
       "        <td style=\"padding-left: 1em; padding-right: 1em; text-align: center; vertical-align: top\">1</td>\n",
       "        <td style=\"padding-left: 1em; padding-right: 1em; text-align: center; vertical-align: top\">2669</td>\n",
       "        <td style=\"padding-left: 1em; padding-right: 1em; text-align: center; vertical-align: top\">15.3297097168</td>\n",
       "        <td style=\"padding-left: 1em; padding-right: 1em; text-align: center; vertical-align: top\">2</td>\n",
       "    </tr>\n",
       "    <tr>\n",
       "        <td style=\"padding-left: 1em; padding-right: 1em; text-align: center; vertical-align: top\">1</td>\n",
       "        <td style=\"padding-left: 1em; padding-right: 1em; text-align: center; vertical-align: top\">1559</td>\n",
       "        <td style=\"padding-left: 1em; padding-right: 1em; text-align: center; vertical-align: top\">15.5241746963</td>\n",
       "        <td style=\"padding-left: 1em; padding-right: 1em; text-align: center; vertical-align: top\">3</td>\n",
       "    </tr>\n",
       "    <tr>\n",
       "        <td style=\"padding-left: 1em; padding-right: 1em; text-align: center; vertical-align: top\">1</td>\n",
       "        <td style=\"padding-left: 1em; padding-right: 1em; text-align: center; vertical-align: top\">3376</td>\n",
       "        <td style=\"padding-left: 1em; padding-right: 1em; text-align: center; vertical-align: top\">15.9373774505</td>\n",
       "        <td style=\"padding-left: 1em; padding-right: 1em; text-align: center; vertical-align: top\">4</td>\n",
       "    </tr>\n",
       "    <tr>\n",
       "        <td style=\"padding-left: 1em; padding-right: 1em; text-align: center; vertical-align: top\">1</td>\n",
       "        <td style=\"padding-left: 1em; padding-right: 1em; text-align: center; vertical-align: top\">507</td>\n",
       "        <td style=\"padding-left: 1em; padding-right: 1em; text-align: center; vertical-align: top\">17.1080535635</td>\n",
       "        <td style=\"padding-left: 1em; padding-right: 1em; text-align: center; vertical-align: top\">5</td>\n",
       "    </tr>\n",
       "</table>\n",
       "[4880 rows x 4 columns]<br/>Note: Only the head of the SFrame is printed.<br/>You can use print_rows(num_rows=m, num_columns=n) to print more rows and columns.\n",
       "</div>"
      ],
      "text/plain": [
       "Columns:\n",
       "\tquery_label\tint\n",
       "\treference_label\tint\n",
       "\tdistance\tfloat\n",
       "\trank\tint\n",
       "\n",
       "Rows: 4880\n",
       "\n",
       "Data:\n",
       "+-------------+-----------------+---------------+------+\n",
       "| query_label | reference_label |    distance   | rank |\n",
       "+-------------+-----------------+---------------+------+\n",
       "|      0      |       1239      | 4.17448063578 |  1   |\n",
       "|      0      |       1238      | 4.17448063578 |  2   |\n",
       "|      0      |       1237      |  5.0424486689 |  3   |\n",
       "|      0      |       1236      |  5.0424486689 |  4   |\n",
       "|      0      |       978       | 5.38516480713 |  5   |\n",
       "|      1      |       3147      | 13.0646659633 |  1   |\n",
       "|      1      |       2669      | 15.3297097168 |  2   |\n",
       "|      1      |       1559      | 15.5241746963 |  3   |\n",
       "|      1      |       3376      | 15.9373774505 |  4   |\n",
       "|      1      |       507       | 17.1080535635 |  5   |\n",
       "+-------------+-----------------+---------------+------+\n",
       "[4880 rows x 4 columns]\n",
       "Note: Only the head of the SFrame is printed.\n",
       "You can use print_rows(num_rows=m, num_columns=n) to print more rows and columns."
      ]
     },
     "execution_count": 38,
     "metadata": {},
     "output_type": "execute_result"
    }
   ],
   "source": [
    "nearestPoints[4]"
   ]
  },
  {
   "cell_type": "code",
   "execution_count": 40,
   "metadata": {
    "collapsed": false
   },
   "outputs": [
    {
     "name": "stdout",
     "output_type": "stream",
     "text": [
      "[4.0, 13.2, 11.6, 4.0, 4.0, 7.2, 0.0, 0.0, 20.8, 4.8, 8.4, 0.0, 0.8, 2.4, 4.0, 0.0, 13.6, 0.0, 0.8, 0.0, 1.6, 4.0, 8.0, 0.0, 0.8, 0.0, 0.0, 0.0, 4.0, 0.0, 4.0, 4.0, 0.8, 0.0, 4.0, 8.0, 0.0, 0.0, 0.0, 7.6, 0.0, 4.0, 4.0, 4.0, 4.4, 6.0, 6.8, 0.0, 0.0, 0.0, 0.0, 1.6, 0.8, 2.4, 6.4, 4.0, 0.0, 8.0, 8.4, 0.0, 4.0, 14.4, 4.0, 1.6, 12.8, 0.0, 4.0, 4.8, 4.0, 0.0, 15.6, 4.0, 8.4, 1.6, 1.6, 0.0, 0.8, 4.0, 4.0, 7.2, 3.2, 0.0, 2.4, 6.0, 4.0, 0.8, 0.8, 8.0, 0.0, 0.0, 0.0, 2.4, 2.4, 12.0, 4.0, 0.0, 0.8, 12.0, 7.6, 12.0, ... ]\n",
      "[0.0, 3.2, 0.0, 3.2, 0.0, 7.2, 18.8, 4.8, 0.8, 0.0, 1.6, 9.6, 3.2, 1.6, 0.0, 0.8, 2.0, 0.8, 0.8, 4.4, 2.4, 5.6, 3.2, 12.8, 1.6, 6.4, 5.6, 8.0, 3.2, 0.0, 4.0, 1.6, 1.6, 4.4, 14.8, 11.6, 0.0, 0.0, 1.6, 5.6, 0.8, 2.8, 7.2, 1.6, 0.8, 0.0, 19.2, 0.8, 0.0, 15.6, 2.4, 10.0, 0.8, 4.0, 2.4, 2.4, 0.8, 0.8, 8.0, 3.2, 1.6, 9.2, 1.6, 4.8, 0.0, 2.4, 1.6, 3.2, 10.4, 4.0, 3.6, 0.8, 9.6, 1.6, 2.4, 14.4, 5.6, 3.2, 3.2, 0.8, 5.6, 6.8, 6.8, 0.0, 10.4, 1.6, 3.2, 4.0, 3.2, 11.2, 0.0, 6.4, 0.0, 2.4, 17.2, 7.2, 0.8, 6.4, 2.4, 17.2, ... ]\n",
      "[0.0, 0.8, 26.0, 7.6, 4.8, 12.4, 4.8, 2.0, 6.8, 0.0, 0.8, 1.6, 3.2, 0.8, 4.8, 1.6, 0.0, 5.6, 0.0, 11.6, 1.6, 1.6, 4.4, 0.8, 8.0, 9.6, 4.0, 3.2, 1.6, 10.0, 5.6, 4.0, 4.0, 6.8, 1.6, 0.0, 4.0, 3.2, 0.8, 12.4, 10.4, 5.2, 4.8, 2.4, 0.0, 4.0, 0.0, 10.0, 2.4, 3.6, 10.8, 6.4, 9.2, 0.8, 0.8, 4.8, 3.2, 8.4, 1.6, 1.6, 2.8, 6.4, 8.0, 1.6, 2.4, 1.6, 3.2, 11.6, 4.8, 0.0, 6.0, 4.8, 0.0, 4.0, 2.4, 2.4, 6.4, 1.6, 1.6, 6.0, 5.6, 0.8, 6.4, 2.4, 5.6, 3.2, 1.6, 1.6, 0.8, 3.2, 4.0, 2.4, 7.2, 0.8, 1.6, 1.6, 6.4, 2.8, 2.4, 4.8, ... ]\n",
      "[1.6, 3.6, 1.6, 8.4, 2.4, 9.6, 4.4, 1.2, 1.6, 1.6, 0.0, 2.4, 1.6, 3.2, 3.6, 13.6, 5.2, 0.8, 16.0, 2.8, 2.4, 0.8, 4.8, 0.0, 0.0, 0.8, 2.4, 1.6, 2.8, 5.2, 4.4, 1.6, 2.4, 0.8, 0.0, 1.6, 3.6, 4.0, 1.6, 0.0, 0.0, 4.8, 0.8, 2.4, 4.8, 0.8, 8.0, 0.8, 1.6, 2.4, 2.4, 0.8, 0.0, 0.0, 1.6, 0.0, 0.8, 4.4, 2.4, 8.0, 6.8, 1.6, 6.4, 0.8, 6.4, 0.8, 12.0, 11.6, 6.8, 1.6, 1.6, 0.8, 0.0, 2.4, 2.4, 1.6, 0.0, 8.4, 4.0, 6.4, 0.8, 2.4, 1.6, 3.2, 1.6, 4.0, 6.0, 1.6, 3.2, 6.4, 2.4, 2.4, 2.4, 4.0, 5.6, 4.0, 5.2, 1.6, 2.0, 2.0, ... ]\n",
      "[0.0, 3.2, 3.2, 3.6, 4.8, 1.6, 1.6, 4.8, 2.4, 0.8, 2.0, 0.8, 0.0, 0.0, 0.0, 9.6, 4.0, 2.4, 0.8, 3.2, 2.4, 4.8, 0.8, 0.0, 1.6, 2.0, 0.0, 1.6, 0.0, 0.0, 2.0, 2.4, 0.0, 1.6, 2.4, 1.6, 1.6, 2.4, 2.4, 0.8, 0.0, 0.0, 2.4, 0.8, 0.0, 3.2, 4.0, 0.8, 1.6, 0.8, 1.6, 8.4, 2.0, 0.0, 0.0, 0.0, 0.8, 0.0, 0.0, 3.2, 2.4, 2.4, 2.0, 2.8, 0.8, 2.4, 1.6, 1.6, 6.8, 2.4, 0.0, 2.4, 2.4, 0.8, 0.0, 4.0, 0.0, 1.6, 1.6, 1.6, 3.2, 0.8, 0.8, 5.6, 2.4, 1.6, 2.4, 3.2, 1.6, 0.0, 1.6, 4.4, 2.4, 4.8, 2.8, 0.0, 9.6, 1.6, 4.4, 0.8, ... ]\n",
      "[2.4, 4.0, 0.8, 3.2, 4.8, 3.2, 0.8, 2.4, 4.4, 0.0, 3.2, 0.8, 1.6, 1.6, 4.8, 6.0, 2.4, 2.8, 0.8, 8.8, 0.0, 0.8, 0.0, 0.0, 0.0, 0.0, 0.8, 0.8, 0.0, 2.8, 0.0, 2.4, 3.6, 3.2, 0.8, 4.0, 0.0, 4.4, 1.6, 1.6, 0.0, 4.0, 4.8, 2.0, 3.6, 0.8, 1.6, 3.2, 0.8, 4.4, 4.0, 2.0, 2.8, 1.6, 2.4, 0.0, 4.4, 4.8, 4.4, 5.6, 0.0, 2.0, 1.6, 6.0, 1.6, 2.4, 0.8, 0.8, 7.2, 2.4, 0.0, 4.0, 4.0, 1.6, 4.0, 1.6, 0.8, 3.2, 2.4, 5.6, 1.6, 5.6, 2.8, 3.2, 4.0, 4.0, 4.0, 0.8, 0.0, 3.6, 1.6, 0.8, 6.0, 2.4, 10.4, 4.0, 0.8, 6.4, 3.2, 0.8, ... ]\n",
      "[0.0, 5.6, 2.4, 0.8, 0.0, 0.0, 0.0, 4.0, 2.4, 1.2, 3.2, 2.4, 1.6, 2.0, 3.2, 8.8, 6.4, 1.6, 7.6, 4.4, 0.0, 3.6, 0.0, 0.8, 2.8, 4.4, 2.4, 0.8, 8.8, 2.4, 1.6, 0.8, 0.8, 0.0, 2.8, 2.4, 0.8, 1.6, 1.6, 1.6, 1.6, 5.2, 2.0, 2.4, 0.0, 3.2, 1.6, 0.8, 1.6, 2.4, 0.0, 0.0, 2.8, 0.0, 1.2, 0.0, 0.0, 12.0, 0.8, 1.6, 0.0, 0.8, 0.8, 0.0, 2.4, 2.8, 0.8, 4.4, 0.0, 0.8, 1.6, 0.0, 0.0, 3.2, 0.0, 0.8, 6.8, 4.0, 0.8, 1.6, 0.0, 0.8, 2.8, 5.6, 2.4, 6.4, 1.6, 4.0, 5.2, 2.4, 1.6, 3.6, 0.8, 0.0, 0.0, 6.0, 2.4, 7.6, 5.2, 0.0, ... ]\n",
      "[2.4, 5.2, 6.0, 8.4, 0.8, 3.2, 0.8, 0.8, 4.4, 3.2, 3.6, 2.4, 0.0, 4.0, 0.0, 4.4, 1.6, 2.0, 5.6, 2.4, 0.0, 0.8, 0.0, 0.0, 2.4, 1.2, 4.0, 3.6, 6.8, 2.4, 4.4, 1.6, 2.4, 1.6, 1.6, 0.0, 0.0, 4.4, 0.8, 6.0, 3.2, 2.0, 0.8, 6.8, 10.0, 2.8, 7.6, 5.2, 8.0, 1.6, 1.6, 2.4, 3.2, 6.8, 0.8, 2.4, 1.6, 2.8, 1.6, 0.8, 2.4, 5.2, 4.4, 0.8, 0.0, 1.6, 2.4, 1.6, 1.6, 0.0, 4.0, 2.0, 5.2, 0.8, 1.6, 1.6, 0.8, 6.8, 2.4, 0.8, 2.4, 1.6, 0.8, 2.0, 2.4, 6.0, 9.2, 6.0, 2.8, 1.6, 0.0, 7.6, 3.2, 10.0, 0.0, 4.8, 2.0, 10.0, 6.4, 1.6, ... ]\n",
      "[0.0, 3.6, 6.4, 2.8, 0.0, 2.8, 0.0, 7.2, 0.8, 0.8, 5.2, 0.8, 8.0, 4.0, 12.4, 0.0, 2.4, 4.4, 5.6, 1.6, 1.6, 0.8, 1.6, 11.6, 2.4, 10.4, 6.4, 3.2, 1.6, 4.4, 0.8, 4.8, 4.8, 4.8, 2.8, 0.8, 0.8, 4.4, 2.0, 3.2, 4.8, 6.4, 1.6, 3.6, 1.6, 8.8, 2.8, 1.2, 0.8, 0.8, 0.0, 4.8, 0.0, 1.6, 2.4, 0.0, 0.0, 6.4, 0.0, 0.8, 5.2, 2.0, 2.8, 2.4, 1.6, 1.6, 3.6, 2.4, 0.0, 5.6, 0.0, 10.4, 0.8, 5.6, 6.4, 0.8, 3.2, 3.2, 4.4, 27.2, 10.8, 4.0, 2.0, 6.0, 16.4, 22.0, 5.6, 10.8, 4.0, 1.6, 6.4, 2.8, 1.6, 3.6, 2.0, 0.8, 2.8, 0.8, 4.4, 3.2, ... ]\n",
      "[3.2, 2.4, 0.8, 2.4, 0.8, 3.6, 2.0, 0.8, 0.0, 0.8, 22.0, 0.8, 3.6, 4.8, 3.6, 1.2, 18.8, 1.2, 0.0, 0.0, 0.0, 0.0, 0.0, 0.0, 5.2, 0.0, 7.2, 24.4, 2.4, 28.8, 3.6, 1.6, 1.6, 5.6, 0.0, 4.8, 4.8, 12.0, 10.0, 6.4, 9.2, 4.0, 2.4, 1.6, 2.4, 4.0, 6.4, 2.8, 2.4, 0.8, 0.0, 4.0, 0.8, 7.6, 2.4, 0.8, 0.8, 1.2, 0.0, 3.6, 1.6, 0.8, 1.6, 4.8, 0.0, 3.2, 1.6, 10.8, 0.8, 2.4, 0.0, 0.0, 14.4, 4.0, 2.0, 4.4, 0.8, 5.6, 2.8, 3.2, 6.4, 0.8, 0.8, 0.8, 4.4, 1.6, 3.6, 0.8, 6.8, 0.0, 8.4, 0.0, 7.6, 0.8, 0.0, 0.0, 1.6, 1.6, 0.0, 2.4, ... ]\n"
     ]
    }
   ],
   "source": [
    "avgList=[]\n",
    "for i in range(10):\n",
    "    k=0\n",
    "    s=0\n",
    "    lAvg=[]\n",
    "    currentNN=nearestPoints[i]\n",
    "    for j in range(len(currentNN)):\n",
    "        s=s+train_data[i][currentNN[j]['reference_label']]['Current_HR']\n",
    "        k=k+1\n",
    "        if(k==knn):\n",
    "            lAvg.append(float(s)/knn)\n",
    "            s=0\n",
    "            k=0\n",
    "    \n",
    "    avgFrame= gl.SArray(lAvg)\n",
    "    test_data[i].add_column(avgFrame, name='Predicted_HR')\n",
    "    print test_data[i]['Predicted_HR']\n",
    " "
   ]
  },
  {
   "cell_type": "code",
   "execution_count": 41,
   "metadata": {
    "collapsed": true
   },
   "outputs": [],
   "source": [
    "for avgElem in avgList:\n",
    "    \n",
    "    test_data[i].add_column(avgFrame, name='Predicted_HR')"
   ]
  },
  {
   "cell_type": "code",
   "execution_count": 42,
   "metadata": {
    "collapsed": false
   },
   "outputs": [
    {
     "data": {
      "text/html": [
       "<div style=\"max-height:1000px;max-width:1500px;overflow:auto;\"><table frame=\"box\" rules=\"cols\">\n",
       "    <tr>\n",
       "        <th style=\"padding-left: 1em; padding-right: 1em; text-align: center\">Runs Scored</th>\n",
       "        <th style=\"padding-left: 1em; padding-right: 1em; text-align: center\">Wickets Lost</th>\n",
       "        <th style=\"padding-left: 1em; padding-right: 1em; text-align: center\">Got All Out</th>\n",
       "        <th style=\"padding-left: 1em; padding-right: 1em; text-align: center\">Runs Conceded</th>\n",
       "        <th style=\"padding-left: 1em; padding-right: 1em; text-align: center\">Opponent Wickets Taken</th>\n",
       "        <th style=\"padding-left: 1em; padding-right: 1em; text-align: center\">Opponent All Out</th>\n",
       "        <th style=\"padding-left: 1em; padding-right: 1em; text-align: center\">Total Runs Scored</th>\n",
       "    </tr>\n",
       "    <tr>\n",
       "        <td style=\"padding-left: 1em; padding-right: 1em; text-align: center; vertical-align: top\">237.176470588</td>\n",
       "        <td style=\"padding-left: 1em; padding-right: 1em; text-align: center; vertical-align: top\">7.17647058824</td>\n",
       "        <td style=\"padding-left: 1em; padding-right: 1em; text-align: center; vertical-align: top\">0.289592760181</td>\n",
       "        <td style=\"padding-left: 1em; padding-right: 1em; text-align: center; vertical-align: top\">230.633484163</td>\n",
       "        <td style=\"padding-left: 1em; padding-right: 1em; text-align: center; vertical-align: top\">7.45701357466</td>\n",
       "        <td style=\"padding-left: 1em; padding-right: 1em; text-align: center; vertical-align: top\">0.384615384615</td>\n",
       "        <td style=\"padding-left: 1em; padding-right: 1em; text-align: center; vertical-align: top\">0</td>\n",
       "    </tr>\n",
       "    <tr>\n",
       "        <td style=\"padding-left: 1em; padding-right: 1em; text-align: center; vertical-align: top\">222.620853081</td>\n",
       "        <td style=\"padding-left: 1em; padding-right: 1em; text-align: center; vertical-align: top\">7.38388625592</td>\n",
       "        <td style=\"padding-left: 1em; padding-right: 1em; text-align: center; vertical-align: top\">0.39336492891</td>\n",
       "        <td style=\"padding-left: 1em; padding-right: 1em; text-align: center; vertical-align: top\">235.516587678</td>\n",
       "        <td style=\"padding-left: 1em; padding-right: 1em; text-align: center; vertical-align: top\">7.54976303318</td>\n",
       "        <td style=\"padding-left: 1em; padding-right: 1em; text-align: center; vertical-align: top\">0.336492890995</td>\n",
       "        <td style=\"padding-left: 1em; padding-right: 1em; text-align: center; vertical-align: top\">0</td>\n",
       "    </tr>\n",
       "    <tr>\n",
       "        <td style=\"padding-left: 1em; padding-right: 1em; text-align: center; vertical-align: top\">237.176470588</td>\n",
       "        <td style=\"padding-left: 1em; padding-right: 1em; text-align: center; vertical-align: top\">7.17647058824</td>\n",
       "        <td style=\"padding-left: 1em; padding-right: 1em; text-align: center; vertical-align: top\">0.289592760181</td>\n",
       "        <td style=\"padding-left: 1em; padding-right: 1em; text-align: center; vertical-align: top\">230.633484163</td>\n",
       "        <td style=\"padding-left: 1em; padding-right: 1em; text-align: center; vertical-align: top\">7.45701357466</td>\n",
       "        <td style=\"padding-left: 1em; padding-right: 1em; text-align: center; vertical-align: top\">0.384615384615</td>\n",
       "        <td style=\"padding-left: 1em; padding-right: 1em; text-align: center; vertical-align: top\">0</td>\n",
       "    </tr>\n",
       "    <tr>\n",
       "        <td style=\"padding-left: 1em; padding-right: 1em; text-align: center; vertical-align: top\">237.176470588</td>\n",
       "        <td style=\"padding-left: 1em; padding-right: 1em; text-align: center; vertical-align: top\">7.17647058824</td>\n",
       "        <td style=\"padding-left: 1em; padding-right: 1em; text-align: center; vertical-align: top\">0.289592760181</td>\n",
       "        <td style=\"padding-left: 1em; padding-right: 1em; text-align: center; vertical-align: top\">230.633484163</td>\n",
       "        <td style=\"padding-left: 1em; padding-right: 1em; text-align: center; vertical-align: top\">7.45701357466</td>\n",
       "        <td style=\"padding-left: 1em; padding-right: 1em; text-align: center; vertical-align: top\">0.384615384615</td>\n",
       "        <td style=\"padding-left: 1em; padding-right: 1em; text-align: center; vertical-align: top\">0</td>\n",
       "    </tr>\n",
       "    <tr>\n",
       "        <td style=\"padding-left: 1em; padding-right: 1em; text-align: center; vertical-align: top\">223.37295082</td>\n",
       "        <td style=\"padding-left: 1em; padding-right: 1em; text-align: center; vertical-align: top\">7.09016393443</td>\n",
       "        <td style=\"padding-left: 1em; padding-right: 1em; text-align: center; vertical-align: top\">0.344262295082</td>\n",
       "        <td style=\"padding-left: 1em; padding-right: 1em; text-align: center; vertical-align: top\">227.577868852</td>\n",
       "        <td style=\"padding-left: 1em; padding-right: 1em; text-align: center; vertical-align: top\">7.47540983607</td>\n",
       "        <td style=\"padding-left: 1em; padding-right: 1em; text-align: center; vertical-align: top\">0.385245901639</td>\n",
       "        <td style=\"padding-left: 1em; padding-right: 1em; text-align: center; vertical-align: top\">0</td>\n",
       "    </tr>\n",
       "    <tr>\n",
       "        <td style=\"padding-left: 1em; padding-right: 1em; text-align: center; vertical-align: top\">223.37295082</td>\n",
       "        <td style=\"padding-left: 1em; padding-right: 1em; text-align: center; vertical-align: top\">7.09016393443</td>\n",
       "        <td style=\"padding-left: 1em; padding-right: 1em; text-align: center; vertical-align: top\">0.344262295082</td>\n",
       "        <td style=\"padding-left: 1em; padding-right: 1em; text-align: center; vertical-align: top\">227.577868852</td>\n",
       "        <td style=\"padding-left: 1em; padding-right: 1em; text-align: center; vertical-align: top\">7.47540983607</td>\n",
       "        <td style=\"padding-left: 1em; padding-right: 1em; text-align: center; vertical-align: top\">0.385245901639</td>\n",
       "        <td style=\"padding-left: 1em; padding-right: 1em; text-align: center; vertical-align: top\">0</td>\n",
       "    </tr>\n",
       "    <tr>\n",
       "        <td style=\"padding-left: 1em; padding-right: 1em; text-align: center; vertical-align: top\">223.37295082</td>\n",
       "        <td style=\"padding-left: 1em; padding-right: 1em; text-align: center; vertical-align: top\">7.09016393443</td>\n",
       "        <td style=\"padding-left: 1em; padding-right: 1em; text-align: center; vertical-align: top\">0.344262295082</td>\n",
       "        <td style=\"padding-left: 1em; padding-right: 1em; text-align: center; vertical-align: top\">227.577868852</td>\n",
       "        <td style=\"padding-left: 1em; padding-right: 1em; text-align: center; vertical-align: top\">7.47540983607</td>\n",
       "        <td style=\"padding-left: 1em; padding-right: 1em; text-align: center; vertical-align: top\">0.385245901639</td>\n",
       "        <td style=\"padding-left: 1em; padding-right: 1em; text-align: center; vertical-align: top\">0</td>\n",
       "    </tr>\n",
       "    <tr>\n",
       "        <td style=\"padding-left: 1em; padding-right: 1em; text-align: center; vertical-align: top\">242.378378378</td>\n",
       "        <td style=\"padding-left: 1em; padding-right: 1em; text-align: center; vertical-align: top\">7.15057915058</td>\n",
       "        <td style=\"padding-left: 1em; padding-right: 1em; text-align: center; vertical-align: top\">0.339768339768</td>\n",
       "        <td style=\"padding-left: 1em; padding-right: 1em; text-align: center; vertical-align: top\">244.567567568</td>\n",
       "        <td style=\"padding-left: 1em; padding-right: 1em; text-align: center; vertical-align: top\">7.12741312741</td>\n",
       "        <td style=\"padding-left: 1em; padding-right: 1em; text-align: center; vertical-align: top\">0.30888030888</td>\n",
       "        <td style=\"padding-left: 1em; padding-right: 1em; text-align: center; vertical-align: top\">0</td>\n",
       "    </tr>\n",
       "    <tr>\n",
       "        <td style=\"padding-left: 1em; padding-right: 1em; text-align: center; vertical-align: top\">217.329545455</td>\n",
       "        <td style=\"padding-left: 1em; padding-right: 1em; text-align: center; vertical-align: top\">7.15909090909</td>\n",
       "        <td style=\"padding-left: 1em; padding-right: 1em; text-align: center; vertical-align: top\">0.3125</td>\n",
       "        <td style=\"padding-left: 1em; padding-right: 1em; text-align: center; vertical-align: top\">225.278409091</td>\n",
       "        <td style=\"padding-left: 1em; padding-right: 1em; text-align: center; vertical-align: top\">7.57386363636</td>\n",
       "        <td style=\"padding-left: 1em; padding-right: 1em; text-align: center; vertical-align: top\">0.380681818182</td>\n",
       "        <td style=\"padding-left: 1em; padding-right: 1em; text-align: center; vertical-align: top\">0</td>\n",
       "    </tr>\n",
       "    <tr>\n",
       "        <td style=\"padding-left: 1em; padding-right: 1em; text-align: center; vertical-align: top\">222.620853081</td>\n",
       "        <td style=\"padding-left: 1em; padding-right: 1em; text-align: center; vertical-align: top\">7.38388625592</td>\n",
       "        <td style=\"padding-left: 1em; padding-right: 1em; text-align: center; vertical-align: top\">0.39336492891</td>\n",
       "        <td style=\"padding-left: 1em; padding-right: 1em; text-align: center; vertical-align: top\">235.516587678</td>\n",
       "        <td style=\"padding-left: 1em; padding-right: 1em; text-align: center; vertical-align: top\">7.54976303318</td>\n",
       "        <td style=\"padding-left: 1em; padding-right: 1em; text-align: center; vertical-align: top\">0.336492890995</td>\n",
       "        <td style=\"padding-left: 1em; padding-right: 1em; text-align: center; vertical-align: top\">0</td>\n",
       "    </tr>\n",
       "</table>\n",
       "<table frame=\"box\" rules=\"cols\">\n",
       "    <tr>\n",
       "        <th style=\"padding-left: 1em; padding-right: 1em; text-align: center\">Balls Faced</th>\n",
       "        <th style=\"padding-left: 1em; padding-right: 1em; text-align: center\">R0</th>\n",
       "        <th style=\"padding-left: 1em; padding-right: 1em; text-align: center\">W0</th>\n",
       "        <th style=\"padding-left: 1em; padding-right: 1em; text-align: center\">R1</th>\n",
       "        <th style=\"padding-left: 1em; padding-right: 1em; text-align: center\">W1</th>\n",
       "        <th style=\"padding-left: 1em; padding-right: 1em; text-align: center\">Target</th>\n",
       "        <th style=\"padding-left: 1em; padding-right: 1em; text-align: center\">ClusterID</th>\n",
       "        <th style=\"padding-left: 1em; padding-right: 1em; text-align: center\">Home Runs</th>\n",
       "        <th style=\"padding-left: 1em; padding-right: 1em; text-align: center\">Home</th>\n",
       "        <th style=\"padding-left: 1em; padding-right: 1em; text-align: center\">Current_HR</th>\n",
       "        <th style=\"padding-left: 1em; padding-right: 1em; text-align: center\">Predicted_HR</th>\n",
       "    </tr>\n",
       "    <tr>\n",
       "        <td style=\"padding-left: 1em; padding-right: 1em; text-align: center; vertical-align: top\">0</td>\n",
       "        <td style=\"padding-left: 1em; padding-right: 1em; text-align: center; vertical-align: top\">0</td>\n",
       "        <td style=\"padding-left: 1em; padding-right: 1em; text-align: center; vertical-align: top\">0</td>\n",
       "        <td style=\"padding-left: 1em; padding-right: 1em; text-align: center; vertical-align: top\">0</td>\n",
       "        <td style=\"padding-left: 1em; padding-right: 1em; text-align: center; vertical-align: top\">0</td>\n",
       "        <td style=\"padding-left: 1em; padding-right: 1em; text-align: center; vertical-align: top\">0</td>\n",
       "        <td style=\"padding-left: 1em; padding-right: 1em; text-align: center; vertical-align: top\">4</td>\n",
       "        <td style=\"padding-left: 1em; padding-right: 1em; text-align: center; vertical-align: top\">0</td>\n",
       "        <td style=\"padding-left: 1em; padding-right: 1em; text-align: center; vertical-align: top\">1</td>\n",
       "        <td style=\"padding-left: 1em; padding-right: 1em; text-align: center; vertical-align: top\">4</td>\n",
       "        <td style=\"padding-left: 1em; padding-right: 1em; text-align: center; vertical-align: top\">4.0</td>\n",
       "    </tr>\n",
       "    <tr>\n",
       "        <td style=\"padding-left: 1em; padding-right: 1em; text-align: center; vertical-align: top\">0</td>\n",
       "        <td style=\"padding-left: 1em; padding-right: 1em; text-align: center; vertical-align: top\">0</td>\n",
       "        <td style=\"padding-left: 1em; padding-right: 1em; text-align: center; vertical-align: top\">0</td>\n",
       "        <td style=\"padding-left: 1em; padding-right: 1em; text-align: center; vertical-align: top\">0</td>\n",
       "        <td style=\"padding-left: 1em; padding-right: 1em; text-align: center; vertical-align: top\">0</td>\n",
       "        <td style=\"padding-left: 1em; padding-right: 1em; text-align: center; vertical-align: top\">252</td>\n",
       "        <td style=\"padding-left: 1em; padding-right: 1em; text-align: center; vertical-align: top\">4</td>\n",
       "        <td style=\"padding-left: 1em; padding-right: 1em; text-align: center; vertical-align: top\">0</td>\n",
       "        <td style=\"padding-left: 1em; padding-right: 1em; text-align: center; vertical-align: top\">0</td>\n",
       "        <td style=\"padding-left: 1em; padding-right: 1em; text-align: center; vertical-align: top\">14</td>\n",
       "        <td style=\"padding-left: 1em; padding-right: 1em; text-align: center; vertical-align: top\">13.2</td>\n",
       "    </tr>\n",
       "    <tr>\n",
       "        <td style=\"padding-left: 1em; padding-right: 1em; text-align: center; vertical-align: top\">0</td>\n",
       "        <td style=\"padding-left: 1em; padding-right: 1em; text-align: center; vertical-align: top\">0</td>\n",
       "        <td style=\"padding-left: 1em; padding-right: 1em; text-align: center; vertical-align: top\">0</td>\n",
       "        <td style=\"padding-left: 1em; padding-right: 1em; text-align: center; vertical-align: top\">0</td>\n",
       "        <td style=\"padding-left: 1em; padding-right: 1em; text-align: center; vertical-align: top\">0</td>\n",
       "        <td style=\"padding-left: 1em; padding-right: 1em; text-align: center; vertical-align: top\">140</td>\n",
       "        <td style=\"padding-left: 1em; padding-right: 1em; text-align: center; vertical-align: top\">4</td>\n",
       "        <td style=\"padding-left: 1em; padding-right: 1em; text-align: center; vertical-align: top\">0</td>\n",
       "        <td style=\"padding-left: 1em; padding-right: 1em; text-align: center; vertical-align: top\">1</td>\n",
       "        <td style=\"padding-left: 1em; padding-right: 1em; text-align: center; vertical-align: top\">16</td>\n",
       "        <td style=\"padding-left: 1em; padding-right: 1em; text-align: center; vertical-align: top\">11.6</td>\n",
       "    </tr>\n",
       "    <tr>\n",
       "        <td style=\"padding-left: 1em; padding-right: 1em; text-align: center; vertical-align: top\">0</td>\n",
       "        <td style=\"padding-left: 1em; padding-right: 1em; text-align: center; vertical-align: top\">0</td>\n",
       "        <td style=\"padding-left: 1em; padding-right: 1em; text-align: center; vertical-align: top\">0</td>\n",
       "        <td style=\"padding-left: 1em; padding-right: 1em; text-align: center; vertical-align: top\">0</td>\n",
       "        <td style=\"padding-left: 1em; padding-right: 1em; text-align: center; vertical-align: top\">0</td>\n",
       "        <td style=\"padding-left: 1em; padding-right: 1em; text-align: center; vertical-align: top\">226</td>\n",
       "        <td style=\"padding-left: 1em; padding-right: 1em; text-align: center; vertical-align: top\">4</td>\n",
       "        <td style=\"padding-left: 1em; padding-right: 1em; text-align: center; vertical-align: top\">0</td>\n",
       "        <td style=\"padding-left: 1em; padding-right: 1em; text-align: center; vertical-align: top\">1</td>\n",
       "        <td style=\"padding-left: 1em; padding-right: 1em; text-align: center; vertical-align: top\">4</td>\n",
       "        <td style=\"padding-left: 1em; padding-right: 1em; text-align: center; vertical-align: top\">4.0</td>\n",
       "    </tr>\n",
       "    <tr>\n",
       "        <td style=\"padding-left: 1em; padding-right: 1em; text-align: center; vertical-align: top\">0</td>\n",
       "        <td style=\"padding-left: 1em; padding-right: 1em; text-align: center; vertical-align: top\">0</td>\n",
       "        <td style=\"padding-left: 1em; padding-right: 1em; text-align: center; vertical-align: top\">0</td>\n",
       "        <td style=\"padding-left: 1em; padding-right: 1em; text-align: center; vertical-align: top\">0</td>\n",
       "        <td style=\"padding-left: 1em; padding-right: 1em; text-align: center; vertical-align: top\">0</td>\n",
       "        <td style=\"padding-left: 1em; padding-right: 1em; text-align: center; vertical-align: top\">0</td>\n",
       "        <td style=\"padding-left: 1em; padding-right: 1em; text-align: center; vertical-align: top\">0</td>\n",
       "        <td style=\"padding-left: 1em; padding-right: 1em; text-align: center; vertical-align: top\">0</td>\n",
       "        <td style=\"padding-left: 1em; padding-right: 1em; text-align: center; vertical-align: top\">0</td>\n",
       "        <td style=\"padding-left: 1em; padding-right: 1em; text-align: center; vertical-align: top\">4</td>\n",
       "        <td style=\"padding-left: 1em; padding-right: 1em; text-align: center; vertical-align: top\">4.0</td>\n",
       "    </tr>\n",
       "    <tr>\n",
       "        <td style=\"padding-left: 1em; padding-right: 1em; text-align: center; vertical-align: top\">0</td>\n",
       "        <td style=\"padding-left: 1em; padding-right: 1em; text-align: center; vertical-align: top\">0</td>\n",
       "        <td style=\"padding-left: 1em; padding-right: 1em; text-align: center; vertical-align: top\">0</td>\n",
       "        <td style=\"padding-left: 1em; padding-right: 1em; text-align: center; vertical-align: top\">0</td>\n",
       "        <td style=\"padding-left: 1em; padding-right: 1em; text-align: center; vertical-align: top\">0</td>\n",
       "        <td style=\"padding-left: 1em; padding-right: 1em; text-align: center; vertical-align: top\">249</td>\n",
       "        <td style=\"padding-left: 1em; padding-right: 1em; text-align: center; vertical-align: top\">4</td>\n",
       "        <td style=\"padding-left: 1em; padding-right: 1em; text-align: center; vertical-align: top\">0</td>\n",
       "        <td style=\"padding-left: 1em; padding-right: 1em; text-align: center; vertical-align: top\">0</td>\n",
       "        <td style=\"padding-left: 1em; padding-right: 1em; text-align: center; vertical-align: top\">8</td>\n",
       "        <td style=\"padding-left: 1em; padding-right: 1em; text-align: center; vertical-align: top\">7.2</td>\n",
       "    </tr>\n",
       "    <tr>\n",
       "        <td style=\"padding-left: 1em; padding-right: 1em; text-align: center; vertical-align: top\">0</td>\n",
       "        <td style=\"padding-left: 1em; padding-right: 1em; text-align: center; vertical-align: top\">0</td>\n",
       "        <td style=\"padding-left: 1em; padding-right: 1em; text-align: center; vertical-align: top\">0</td>\n",
       "        <td style=\"padding-left: 1em; padding-right: 1em; text-align: center; vertical-align: top\">0</td>\n",
       "        <td style=\"padding-left: 1em; padding-right: 1em; text-align: center; vertical-align: top\">0</td>\n",
       "        <td style=\"padding-left: 1em; padding-right: 1em; text-align: center; vertical-align: top\">0</td>\n",
       "        <td style=\"padding-left: 1em; padding-right: 1em; text-align: center; vertical-align: top\">4</td>\n",
       "        <td style=\"padding-left: 1em; padding-right: 1em; text-align: center; vertical-align: top\">0</td>\n",
       "        <td style=\"padding-left: 1em; padding-right: 1em; text-align: center; vertical-align: top\">0</td>\n",
       "        <td style=\"padding-left: 1em; padding-right: 1em; text-align: center; vertical-align: top\">0</td>\n",
       "        <td style=\"padding-left: 1em; padding-right: 1em; text-align: center; vertical-align: top\">0.0</td>\n",
       "    </tr>\n",
       "    <tr>\n",
       "        <td style=\"padding-left: 1em; padding-right: 1em; text-align: center; vertical-align: top\">0</td>\n",
       "        <td style=\"padding-left: 1em; padding-right: 1em; text-align: center; vertical-align: top\">0</td>\n",
       "        <td style=\"padding-left: 1em; padding-right: 1em; text-align: center; vertical-align: top\">0</td>\n",
       "        <td style=\"padding-left: 1em; padding-right: 1em; text-align: center; vertical-align: top\">0</td>\n",
       "        <td style=\"padding-left: 1em; padding-right: 1em; text-align: center; vertical-align: top\">0</td>\n",
       "        <td style=\"padding-left: 1em; padding-right: 1em; text-align: center; vertical-align: top\">0</td>\n",
       "        <td style=\"padding-left: 1em; padding-right: 1em; text-align: center; vertical-align: top\">4</td>\n",
       "        <td style=\"padding-left: 1em; padding-right: 1em; text-align: center; vertical-align: top\">0</td>\n",
       "        <td style=\"padding-left: 1em; padding-right: 1em; text-align: center; vertical-align: top\">0</td>\n",
       "        <td style=\"padding-left: 1em; padding-right: 1em; text-align: center; vertical-align: top\">0</td>\n",
       "        <td style=\"padding-left: 1em; padding-right: 1em; text-align: center; vertical-align: top\">0.0</td>\n",
       "    </tr>\n",
       "    <tr>\n",
       "        <td style=\"padding-left: 1em; padding-right: 1em; text-align: center; vertical-align: top\">0</td>\n",
       "        <td style=\"padding-left: 1em; padding-right: 1em; text-align: center; vertical-align: top\">0</td>\n",
       "        <td style=\"padding-left: 1em; padding-right: 1em; text-align: center; vertical-align: top\">0</td>\n",
       "        <td style=\"padding-left: 1em; padding-right: 1em; text-align: center; vertical-align: top\">0</td>\n",
       "        <td style=\"padding-left: 1em; padding-right: 1em; text-align: center; vertical-align: top\">0</td>\n",
       "        <td style=\"padding-left: 1em; padding-right: 1em; text-align: center; vertical-align: top\">0</td>\n",
       "        <td style=\"padding-left: 1em; padding-right: 1em; text-align: center; vertical-align: top\">4</td>\n",
       "        <td style=\"padding-left: 1em; padding-right: 1em; text-align: center; vertical-align: top\">0</td>\n",
       "        <td style=\"padding-left: 1em; padding-right: 1em; text-align: center; vertical-align: top\">1</td>\n",
       "        <td style=\"padding-left: 1em; padding-right: 1em; text-align: center; vertical-align: top\">24</td>\n",
       "        <td style=\"padding-left: 1em; padding-right: 1em; text-align: center; vertical-align: top\">20.8</td>\n",
       "    </tr>\n",
       "    <tr>\n",
       "        <td style=\"padding-left: 1em; padding-right: 1em; text-align: center; vertical-align: top\">0</td>\n",
       "        <td style=\"padding-left: 1em; padding-right: 1em; text-align: center; vertical-align: top\">0</td>\n",
       "        <td style=\"padding-left: 1em; padding-right: 1em; text-align: center; vertical-align: top\">0</td>\n",
       "        <td style=\"padding-left: 1em; padding-right: 1em; text-align: center; vertical-align: top\">0</td>\n",
       "        <td style=\"padding-left: 1em; padding-right: 1em; text-align: center; vertical-align: top\">0</td>\n",
       "        <td style=\"padding-left: 1em; padding-right: 1em; text-align: center; vertical-align: top\">184</td>\n",
       "        <td style=\"padding-left: 1em; padding-right: 1em; text-align: center; vertical-align: top\">4</td>\n",
       "        <td style=\"padding-left: 1em; padding-right: 1em; text-align: center; vertical-align: top\">0</td>\n",
       "        <td style=\"padding-left: 1em; padding-right: 1em; text-align: center; vertical-align: top\">0</td>\n",
       "        <td style=\"padding-left: 1em; padding-right: 1em; text-align: center; vertical-align: top\">4</td>\n",
       "        <td style=\"padding-left: 1em; padding-right: 1em; text-align: center; vertical-align: top\">4.8</td>\n",
       "    </tr>\n",
       "</table>\n",
       "[1027 rows x 18 columns]<br/>Note: Only the head of the SFrame is printed.<br/>You can use print_rows(num_rows=m, num_columns=n) to print more rows and columns.\n",
       "</div>"
      ],
      "text/plain": [
       "Columns:\n",
       "\tRuns Scored\tfloat\n",
       "\tWickets Lost\tfloat\n",
       "\tGot All Out\tfloat\n",
       "\tRuns Conceded\tfloat\n",
       "\tOpponent Wickets Taken\tfloat\n",
       "\tOpponent All Out\tfloat\n",
       "\tTotal Runs Scored\tint\n",
       "\tBalls Faced\tint\n",
       "\tR0\tint\n",
       "\tW0\tint\n",
       "\tR1\tint\n",
       "\tW1\tint\n",
       "\tTarget\tint\n",
       "\tClusterID\tint\n",
       "\tHome Runs\tint\n",
       "\tHome\tint\n",
       "\tCurrent_HR\tint\n",
       "\tPredicted_HR\tfloat\n",
       "\n",
       "Rows: 1027\n",
       "\n",
       "Data:\n",
       "+---------------+---------------+----------------+---------------+------------------------+\n",
       "|  Runs Scored  |  Wickets Lost |  Got All Out   | Runs Conceded | Opponent Wickets Taken |\n",
       "+---------------+---------------+----------------+---------------+------------------------+\n",
       "| 237.176470588 | 7.17647058824 | 0.289592760181 | 230.633484163 |     7.45701357466      |\n",
       "| 222.620853081 | 7.38388625592 | 0.39336492891  | 235.516587678 |     7.54976303318      |\n",
       "| 237.176470588 | 7.17647058824 | 0.289592760181 | 230.633484163 |     7.45701357466      |\n",
       "| 237.176470588 | 7.17647058824 | 0.289592760181 | 230.633484163 |     7.45701357466      |\n",
       "|  223.37295082 | 7.09016393443 | 0.344262295082 | 227.577868852 |     7.47540983607      |\n",
       "|  223.37295082 | 7.09016393443 | 0.344262295082 | 227.577868852 |     7.47540983607      |\n",
       "|  223.37295082 | 7.09016393443 | 0.344262295082 | 227.577868852 |     7.47540983607      |\n",
       "| 242.378378378 | 7.15057915058 | 0.339768339768 | 244.567567568 |     7.12741312741      |\n",
       "| 217.329545455 | 7.15909090909 |     0.3125     | 225.278409091 |     7.57386363636      |\n",
       "| 222.620853081 | 7.38388625592 | 0.39336492891  | 235.516587678 |     7.54976303318      |\n",
       "+---------------+---------------+----------------+---------------+------------------------+\n",
       "+------------------+-------------------+-------------+----+----+----+----+--------+\n",
       "| Opponent All Out | Total Runs Scored | Balls Faced | R0 | W0 | R1 | W1 | Target |\n",
       "+------------------+-------------------+-------------+----+----+----+----+--------+\n",
       "|  0.384615384615  |         0         |      0      | 0  | 0  | 0  | 0  |   0    |\n",
       "|  0.336492890995  |         0         |      0      | 0  | 0  | 0  | 0  |  252   |\n",
       "|  0.384615384615  |         0         |      0      | 0  | 0  | 0  | 0  |  140   |\n",
       "|  0.384615384615  |         0         |      0      | 0  | 0  | 0  | 0  |  226   |\n",
       "|  0.385245901639  |         0         |      0      | 0  | 0  | 0  | 0  |   0    |\n",
       "|  0.385245901639  |         0         |      0      | 0  | 0  | 0  | 0  |  249   |\n",
       "|  0.385245901639  |         0         |      0      | 0  | 0  | 0  | 0  |   0    |\n",
       "|  0.30888030888   |         0         |      0      | 0  | 0  | 0  | 0  |   0    |\n",
       "|  0.380681818182  |         0         |      0      | 0  | 0  | 0  | 0  |   0    |\n",
       "|  0.336492890995  |         0         |      0      | 0  | 0  | 0  | 0  |  184   |\n",
       "+------------------+-------------------+-------------+----+----+----+----+--------+\n",
       "+-----------+-----------+------+------------+--------------+\n",
       "| ClusterID | Home Runs | Home | Current_HR | Predicted_HR |\n",
       "+-----------+-----------+------+------------+--------------+\n",
       "|     4     |     0     |  1   |     4      |     4.0      |\n",
       "|     4     |     0     |  0   |     14     |     13.2     |\n",
       "|     4     |     0     |  1   |     16     |     11.6     |\n",
       "|     4     |     0     |  1   |     4      |     4.0      |\n",
       "|     0     |     0     |  0   |     4      |     4.0      |\n",
       "|     4     |     0     |  0   |     8      |     7.2      |\n",
       "|     4     |     0     |  0   |     0      |     0.0      |\n",
       "|     4     |     0     |  0   |     0      |     0.0      |\n",
       "|     4     |     0     |  1   |     24     |     20.8     |\n",
       "|     4     |     0     |  0   |     4      |     4.8      |\n",
       "+-----------+-----------+------+------------+--------------+\n",
       "[1027 rows x 18 columns]\n",
       "Note: Only the head of the SFrame is printed.\n",
       "You can use print_rows(num_rows=m, num_columns=n) to print more rows and columns."
      ]
     },
     "execution_count": 42,
     "metadata": {},
     "output_type": "execute_result"
    }
   ],
   "source": [
    "test_data[0]"
   ]
  },
  {
   "cell_type": "code",
   "execution_count": 43,
   "metadata": {
    "collapsed": false
   },
   "outputs": [
    {
     "name": "stdout",
     "output_type": "stream",
     "text": [
      "RMSE:  1.64650052315\n",
      "RMSE:  2.48046051486\n",
      "RMSE:  3.19544219958\n",
      "RMSE:  3.36200142616\n",
      "RMSE:  3.39881850253\n",
      "RMSE:  3.68704131848\n",
      "RMSE:  3.76837536394\n",
      "RMSE:  3.77441300713\n",
      "RMSE:  4.25544733672\n",
      "RMSE:  4.52185791976\n"
     ]
    }
   ],
   "source": [
    "for i in range(10):\n",
    "    print \"RMSE: \", gl.evaluation.rmse(test_data[i]['Current_HR'], test_data[i]['Predicted_HR'])"
   ]
  },
  {
   "cell_type": "code",
   "execution_count": null,
   "metadata": {
    "collapsed": true
   },
   "outputs": [],
   "source": []
  },
  {
   "cell_type": "code",
   "execution_count": null,
   "metadata": {
    "collapsed": true
   },
   "outputs": [],
   "source": []
  },
  {
   "cell_type": "code",
   "execution_count": null,
   "metadata": {
    "collapsed": true
   },
   "outputs": [],
   "source": []
  },
  {
   "cell_type": "code",
   "execution_count": null,
   "metadata": {
    "collapsed": true
   },
   "outputs": [],
   "source": []
  }
 ],
 "metadata": {
  "kernelspec": {
   "display_name": "Python 2",
   "language": "python",
   "name": "python2"
  },
  "language_info": {
   "codemirror_mode": {
    "name": "ipython",
    "version": 2
   },
   "file_extension": ".py",
   "mimetype": "text/x-python",
   "name": "python",
   "nbconvert_exporter": "python",
   "pygments_lexer": "ipython2",
   "version": "2.7.10"
  }
 },
 "nbformat": 4,
 "nbformat_minor": 0
}
