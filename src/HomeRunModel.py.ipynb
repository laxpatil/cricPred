{
 "cells": [
  {
   "cell_type": "code",
   "execution_count": 8,
   "metadata": {
    "collapsed": true
   },
   "outputs": [],
   "source": [
    "import graphlab as gl"
   ]
  },
  {
   "cell_type": "code",
   "execution_count": 9,
   "metadata": {
    "collapsed": false
   },
   "outputs": [
    {
     "data": {
      "text/html": [
       "<pre>Read 100 lines. Lines per second: 3683.78</pre>"
      ],
      "text/plain": [
       "Read 100 lines. Lines per second: 3683.78"
      ]
     },
     "metadata": {},
     "output_type": "display_data"
    },
    {
     "data": {
      "text/html": [
       "<pre>Finished parsing file /home/laxmikant/cricPred/Instantaneous features/batsmanClusters.csv</pre>"
      ],
      "text/plain": [
       "Finished parsing file /home/laxmikant/cricPred/Instantaneous features/batsmanClusters.csv"
      ]
     },
     "metadata": {},
     "output_type": "display_data"
    },
    {
     "data": {
      "text/html": [
       "<pre>Parsing completed. Parsed 100 lines in 0.02723 secs.</pre>"
      ],
      "text/plain": [
       "Parsing completed. Parsed 100 lines in 0.02723 secs."
      ]
     },
     "metadata": {},
     "output_type": "display_data"
    },
    {
     "data": {
      "text/html": [
       "<pre>Finished parsing file /home/laxmikant/cricPred/Instantaneous features/batsmanClusters.csv</pre>"
      ],
      "text/plain": [
       "Finished parsing file /home/laxmikant/cricPred/Instantaneous features/batsmanClusters.csv"
      ]
     },
     "metadata": {},
     "output_type": "display_data"
    },
    {
     "data": {
      "text/html": [
       "<pre>Parsing completed. Parsed 576 lines in 0.015333 secs.</pre>"
      ],
      "text/plain": [
       "Parsing completed. Parsed 576 lines in 0.015333 secs."
      ]
     },
     "metadata": {},
     "output_type": "display_data"
    },
    {
     "name": "stdout",
     "output_type": "stream",
     "text": [
      "------------------------------------------------------\n",
      "Inferred types from first line of file as \n",
      "column_type_hints=[str,float,float,float,float,int,int]\n",
      "If parsing fails due to incorrect types, you can correct\n",
      "the inferred type list above and pass it to read_csv in\n",
      "the column_type_hints argument\n",
      "------------------------------------------------------\n"
     ]
    }
   ],
   "source": [
    "batsman= gl.SFrame(\"../Instantaneous features/batsmanClusters.csv\")"
   ]
  },
  {
   "cell_type": "code",
   "execution_count": 10,
   "metadata": {
    "collapsed": false
   },
   "outputs": [
    {
     "data": {
      "text/html": [
       "<pre>Finished parsing file /home/laxmikant/cricPred/Historical features/HistoricalFeatures.csv</pre>"
      ],
      "text/plain": [
       "Finished parsing file /home/laxmikant/cricPred/Historical features/HistoricalFeatures.csv"
      ]
     },
     "metadata": {},
     "output_type": "display_data"
    },
    {
     "data": {
      "text/html": [
       "<pre>Parsing completed. Parsed 21 lines in 0.007744 secs.</pre>"
      ],
      "text/plain": [
       "Parsing completed. Parsed 21 lines in 0.007744 secs."
      ]
     },
     "metadata": {},
     "output_type": "display_data"
    },
    {
     "data": {
      "text/html": [
       "<pre>Finished parsing file /home/laxmikant/cricPred/Historical features/HistoricalFeatures.csv</pre>"
      ],
      "text/plain": [
       "Finished parsing file /home/laxmikant/cricPred/Historical features/HistoricalFeatures.csv"
      ]
     },
     "metadata": {},
     "output_type": "display_data"
    }
   ],
   "source": [
    "historical=gl.SFrame(\"../Historical features/HistoricalFeatures.csv\")"
   ]
  },
  {
   "cell_type": "code",
   "execution_count": 11,
   "metadata": {
    "collapsed": false
   },
   "outputs": [
    {
     "data": {
      "text/html": [
       "<pre>Finished parsing file /home/laxmikant/cricPred/Segment Features/Segment1.csv</pre>"
      ],
      "text/plain": [
       "Finished parsing file /home/laxmikant/cricPred/Segment Features/Segment1.csv"
      ]
     },
     "metadata": {},
     "output_type": "display_data"
    },
    {
     "data": {
      "text/html": [
       "<pre>Parsing completed. Parsed 100 lines in 0.016137 secs.</pre>"
      ],
      "text/plain": [
       "Parsing completed. Parsed 100 lines in 0.016137 secs."
      ]
     },
     "metadata": {},
     "output_type": "display_data"
    },
    {
     "data": {
      "text/html": [
       "<pre>Finished parsing file /home/laxmikant/cricPred/Segment Features/Segment1.csv</pre>"
      ],
      "text/plain": [
       "Finished parsing file /home/laxmikant/cricPred/Segment Features/Segment1.csv"
      ]
     },
     "metadata": {},
     "output_type": "display_data"
    },
    {
     "data": {
      "text/html": [
       "<pre>Parsing completed. Parsed 5219 lines in 0.013537 secs.</pre>"
      ],
      "text/plain": [
       "Parsing completed. Parsed 5219 lines in 0.013537 secs."
      ]
     },
     "metadata": {},
     "output_type": "display_data"
    },
    {
     "data": {
      "text/html": [
       "<pre>Finished parsing file /home/laxmikant/cricPred/Segment Features/Segment2.csv</pre>"
      ],
      "text/plain": [
       "Finished parsing file /home/laxmikant/cricPred/Segment Features/Segment2.csv"
      ]
     },
     "metadata": {},
     "output_type": "display_data"
    },
    {
     "data": {
      "text/html": [
       "<pre>Parsing completed. Parsed 100 lines in 0.022959 secs.</pre>"
      ],
      "text/plain": [
       "Parsing completed. Parsed 100 lines in 0.022959 secs."
      ]
     },
     "metadata": {},
     "output_type": "display_data"
    },
    {
     "name": "stdout",
     "output_type": "stream",
     "text": [
      "------------------------------------------------------\n",
      "Inferred types from first line of file as \n",
      "column_type_hints=[str,int,int,int,int,int,int,int,int,int,int,int,str,int]\n",
      "If parsing fails due to incorrect types, you can correct\n",
      "the inferred type list above and pass it to read_csv in\n",
      "the column_type_hints argument\n",
      "------------------------------------------------------\n",
      "------------------------------------------------------"
     ]
    },
    {
     "data": {
      "text/html": [
       "<pre>Finished parsing file /home/laxmikant/cricPred/Segment Features/Segment2.csv</pre>"
      ],
      "text/plain": [
       "Finished parsing file /home/laxmikant/cricPred/Segment Features/Segment2.csv"
      ]
     },
     "metadata": {},
     "output_type": "display_data"
    },
    {
     "data": {
      "text/html": [
       "<pre>Parsing completed. Parsed 5180 lines in 0.014748 secs.</pre>"
      ],
      "text/plain": [
       "Parsing completed. Parsed 5180 lines in 0.014748 secs."
      ]
     },
     "metadata": {},
     "output_type": "display_data"
    },
    {
     "data": {
      "text/html": [
       "<pre>Finished parsing file /home/laxmikant/cricPred/Segment Features/Segment3.csv</pre>"
      ],
      "text/plain": [
       "Finished parsing file /home/laxmikant/cricPred/Segment Features/Segment3.csv"
      ]
     },
     "metadata": {},
     "output_type": "display_data"
    },
    {
     "data": {
      "text/html": [
       "<pre>Parsing completed. Parsed 100 lines in 0.017615 secs.</pre>"
      ],
      "text/plain": [
       "Parsing completed. Parsed 100 lines in 0.017615 secs."
      ]
     },
     "metadata": {},
     "output_type": "display_data"
    },
    {
     "name": "stdout",
     "output_type": "stream",
     "text": [
      "\n",
      "Inferred types from first line of file as \n",
      "column_type_hints=[str,int,int,int,int,int,int,int,int,int,int,int,str,int]\n",
      "If parsing fails due to incorrect types, you can correct\n",
      "the inferred type list above and pass it to read_csv in\n",
      "the column_type_hints argument\n",
      "------------------------------------------------------\n",
      "------------------------------------------------------"
     ]
    },
    {
     "data": {
      "text/html": [
       "<pre>Finished parsing file /home/laxmikant/cricPred/Segment Features/Segment3.csv</pre>"
      ],
      "text/plain": [
       "Finished parsing file /home/laxmikant/cricPred/Segment Features/Segment3.csv"
      ]
     },
     "metadata": {},
     "output_type": "display_data"
    },
    {
     "data": {
      "text/html": [
       "<pre>Parsing completed. Parsed 5099 lines in 0.015831 secs.</pre>"
      ],
      "text/plain": [
       "Parsing completed. Parsed 5099 lines in 0.015831 secs."
      ]
     },
     "metadata": {},
     "output_type": "display_data"
    },
    {
     "data": {
      "text/html": [
       "<pre>Finished parsing file /home/laxmikant/cricPred/Segment Features/Segment4.csv</pre>"
      ],
      "text/plain": [
       "Finished parsing file /home/laxmikant/cricPred/Segment Features/Segment4.csv"
      ]
     },
     "metadata": {},
     "output_type": "display_data"
    },
    {
     "data": {
      "text/html": [
       "<pre>Parsing completed. Parsed 100 lines in 0.025895 secs.</pre>"
      ],
      "text/plain": [
       "Parsing completed. Parsed 100 lines in 0.025895 secs."
      ]
     },
     "metadata": {},
     "output_type": "display_data"
    },
    {
     "name": "stdout",
     "output_type": "stream",
     "text": [
      "\n",
      "Inferred types from first line of file as \n",
      "column_type_hints=[str,int,int,int,int,int,int,int,int,int,int,int,str,int]\n",
      "If parsing fails due to incorrect types, you can correct\n",
      "the inferred type list above and pass it to read_csv in\n",
      "the column_type_hints argument\n",
      "------------------------------------------------------\n",
      "------------------------------------------------------"
     ]
    },
    {
     "data": {
      "text/html": [
       "<pre>Finished parsing file /home/laxmikant/cricPred/Segment Features/Segment4.csv</pre>"
      ],
      "text/plain": [
       "Finished parsing file /home/laxmikant/cricPred/Segment Features/Segment4.csv"
      ]
     },
     "metadata": {},
     "output_type": "display_data"
    },
    {
     "data": {
      "text/html": [
       "<pre>Parsing completed. Parsed 5060 lines in 0.016262 secs.</pre>"
      ],
      "text/plain": [
       "Parsing completed. Parsed 5060 lines in 0.016262 secs."
      ]
     },
     "metadata": {},
     "output_type": "display_data"
    },
    {
     "data": {
      "text/html": [
       "<pre>Finished parsing file /home/laxmikant/cricPred/Segment Features/Segment5.csv</pre>"
      ],
      "text/plain": [
       "Finished parsing file /home/laxmikant/cricPred/Segment Features/Segment5.csv"
      ]
     },
     "metadata": {},
     "output_type": "display_data"
    },
    {
     "data": {
      "text/html": [
       "<pre>Parsing completed. Parsed 100 lines in 0.020024 secs.</pre>"
      ],
      "text/plain": [
       "Parsing completed. Parsed 100 lines in 0.020024 secs."
      ]
     },
     "metadata": {},
     "output_type": "display_data"
    },
    {
     "name": "stdout",
     "output_type": "stream",
     "text": [
      "\n",
      "Inferred types from first line of file as \n",
      "column_type_hints=[str,int,int,int,int,int,int,int,int,int,int,int,str,int]\n",
      "If parsing fails due to incorrect types, you can correct\n",
      "the inferred type list above and pass it to read_csv in\n",
      "the column_type_hints argument\n",
      "------------------------------------------------------\n",
      "------------------------------------------------------"
     ]
    },
    {
     "data": {
      "text/html": [
       "<pre>Finished parsing file /home/laxmikant/cricPred/Segment Features/Segment5.csv</pre>"
      ],
      "text/plain": [
       "Finished parsing file /home/laxmikant/cricPred/Segment Features/Segment5.csv"
      ]
     },
     "metadata": {},
     "output_type": "display_data"
    },
    {
     "data": {
      "text/html": [
       "<pre>Parsing completed. Parsed 4998 lines in 0.018725 secs.</pre>"
      ],
      "text/plain": [
       "Parsing completed. Parsed 4998 lines in 0.018725 secs."
      ]
     },
     "metadata": {},
     "output_type": "display_data"
    },
    {
     "data": {
      "text/html": [
       "<pre>Finished parsing file /home/laxmikant/cricPred/Segment Features/Segment6.csv</pre>"
      ],
      "text/plain": [
       "Finished parsing file /home/laxmikant/cricPred/Segment Features/Segment6.csv"
      ]
     },
     "metadata": {},
     "output_type": "display_data"
    },
    {
     "data": {
      "text/html": [
       "<pre>Parsing completed. Parsed 100 lines in 0.022001 secs.</pre>"
      ],
      "text/plain": [
       "Parsing completed. Parsed 100 lines in 0.022001 secs."
      ]
     },
     "metadata": {},
     "output_type": "display_data"
    },
    {
     "name": "stdout",
     "output_type": "stream",
     "text": [
      "\n",
      "Inferred types from first line of file as \n",
      "column_type_hints=[str,int,int,int,int,int,int,int,int,int,int,int,str,int]\n",
      "If parsing fails due to incorrect types, you can correct\n",
      "the inferred type list above and pass it to read_csv in\n",
      "the column_type_hints argument\n",
      "------------------------------------------------------\n",
      "------------------------------------------------------"
     ]
    },
    {
     "data": {
      "text/html": [
       "<pre>Finished parsing file /home/laxmikant/cricPred/Segment Features/Segment6.csv</pre>"
      ],
      "text/plain": [
       "Finished parsing file /home/laxmikant/cricPred/Segment Features/Segment6.csv"
      ]
     },
     "metadata": {},
     "output_type": "display_data"
    },
    {
     "data": {
      "text/html": [
       "<pre>Parsing completed. Parsed 4861 lines in 0.013732 secs.</pre>"
      ],
      "text/plain": [
       "Parsing completed. Parsed 4861 lines in 0.013732 secs."
      ]
     },
     "metadata": {},
     "output_type": "display_data"
    },
    {
     "data": {
      "text/html": [
       "<pre>Finished parsing file /home/laxmikant/cricPred/Segment Features/Segment7.csv</pre>"
      ],
      "text/plain": [
       "Finished parsing file /home/laxmikant/cricPred/Segment Features/Segment7.csv"
      ]
     },
     "metadata": {},
     "output_type": "display_data"
    },
    {
     "data": {
      "text/html": [
       "<pre>Parsing completed. Parsed 100 lines in 0.023079 secs.</pre>"
      ],
      "text/plain": [
       "Parsing completed. Parsed 100 lines in 0.023079 secs."
      ]
     },
     "metadata": {},
     "output_type": "display_data"
    },
    {
     "name": "stdout",
     "output_type": "stream",
     "text": [
      "\n",
      "Inferred types from first line of file as \n",
      "column_type_hints=[str,int,int,int,int,int,int,int,int,int,int,int,str,int]\n",
      "If parsing fails due to incorrect types, you can correct\n",
      "the inferred type list above and pass it to read_csv in\n",
      "the column_type_hints argument\n",
      "------------------------------------------------------\n",
      "------------------------------------------------------"
     ]
    },
    {
     "data": {
      "text/html": [
       "<pre>Finished parsing file /home/laxmikant/cricPred/Segment Features/Segment7.csv</pre>"
      ],
      "text/plain": [
       "Finished parsing file /home/laxmikant/cricPred/Segment Features/Segment7.csv"
      ]
     },
     "metadata": {},
     "output_type": "display_data"
    },
    {
     "data": {
      "text/html": [
       "<pre>Parsing completed. Parsed 4701 lines in 0.016778 secs.</pre>"
      ],
      "text/plain": [
       "Parsing completed. Parsed 4701 lines in 0.016778 secs."
      ]
     },
     "metadata": {},
     "output_type": "display_data"
    },
    {
     "data": {
      "text/html": [
       "<pre>Finished parsing file /home/laxmikant/cricPred/Segment Features/Segment8.csv</pre>"
      ],
      "text/plain": [
       "Finished parsing file /home/laxmikant/cricPred/Segment Features/Segment8.csv"
      ]
     },
     "metadata": {},
     "output_type": "display_data"
    },
    {
     "data": {
      "text/html": [
       "<pre>Parsing completed. Parsed 100 lines in 0.021286 secs.</pre>"
      ],
      "text/plain": [
       "Parsing completed. Parsed 100 lines in 0.021286 secs."
      ]
     },
     "metadata": {},
     "output_type": "display_data"
    },
    {
     "name": "stdout",
     "output_type": "stream",
     "text": [
      "\n",
      "Inferred types from first line of file as \n",
      "column_type_hints=[str,int,int,int,int,int,int,int,int,int,int,int,str,int]\n",
      "If parsing fails due to incorrect types, you can correct\n",
      "the inferred type list above and pass it to read_csv in\n",
      "the column_type_hints argument\n",
      "------------------------------------------------------\n",
      "------------------------------------------------------"
     ]
    },
    {
     "data": {
      "text/html": [
       "<pre>Finished parsing file /home/laxmikant/cricPred/Segment Features/Segment8.csv</pre>"
      ],
      "text/plain": [
       "Finished parsing file /home/laxmikant/cricPred/Segment Features/Segment8.csv"
      ]
     },
     "metadata": {},
     "output_type": "display_data"
    },
    {
     "data": {
      "text/html": [
       "<pre>Parsing completed. Parsed 4791 lines in 0.017894 secs.</pre>"
      ],
      "text/plain": [
       "Parsing completed. Parsed 4791 lines in 0.017894 secs."
      ]
     },
     "metadata": {},
     "output_type": "display_data"
    },
    {
     "data": {
      "text/html": [
       "<pre>Finished parsing file /home/laxmikant/cricPred/Segment Features/Segment9.csv</pre>"
      ],
      "text/plain": [
       "Finished parsing file /home/laxmikant/cricPred/Segment Features/Segment9.csv"
      ]
     },
     "metadata": {},
     "output_type": "display_data"
    },
    {
     "data": {
      "text/html": [
       "<pre>Parsing completed. Parsed 100 lines in 0.02125 secs.</pre>"
      ],
      "text/plain": [
       "Parsing completed. Parsed 100 lines in 0.02125 secs."
      ]
     },
     "metadata": {},
     "output_type": "display_data"
    },
    {
     "name": "stdout",
     "output_type": "stream",
     "text": [
      "\n",
      "Inferred types from first line of file as \n",
      "column_type_hints=[str,int,int,int,int,int,int,int,int,int,int,int,str,int]\n",
      "If parsing fails due to incorrect types, you can correct\n",
      "the inferred type list above and pass it to read_csv in\n",
      "the column_type_hints argument\n",
      "------------------------------------------------------\n",
      "------------------------------------------------------"
     ]
    },
    {
     "data": {
      "text/html": [
       "<pre>Finished parsing file /home/laxmikant/cricPred/Segment Features/Segment9.csv</pre>"
      ],
      "text/plain": [
       "Finished parsing file /home/laxmikant/cricPred/Segment Features/Segment9.csv"
      ]
     },
     "metadata": {},
     "output_type": "display_data"
    },
    {
     "data": {
      "text/html": [
       "<pre>Parsing completed. Parsed 4634 lines in 0.012765 secs.</pre>"
      ],
      "text/plain": [
       "Parsing completed. Parsed 4634 lines in 0.012765 secs."
      ]
     },
     "metadata": {},
     "output_type": "display_data"
    },
    {
     "data": {
      "text/html": [
       "<pre>Finished parsing file /home/laxmikant/cricPred/Segment Features/Segment10.csv</pre>"
      ],
      "text/plain": [
       "Finished parsing file /home/laxmikant/cricPred/Segment Features/Segment10.csv"
      ]
     },
     "metadata": {},
     "output_type": "display_data"
    },
    {
     "data": {
      "text/html": [
       "<pre>Parsing completed. Parsed 100 lines in 0.019357 secs.</pre>"
      ],
      "text/plain": [
       "Parsing completed. Parsed 100 lines in 0.019357 secs."
      ]
     },
     "metadata": {},
     "output_type": "display_data"
    },
    {
     "name": "stdout",
     "output_type": "stream",
     "text": [
      "\n",
      "Inferred types from first line of file as \n",
      "column_type_hints=[str,int,int,int,int,int,int,int,int,int,int,int,str,int]\n",
      "If parsing fails due to incorrect types, you can correct\n",
      "the inferred type list above and pass it to read_csv in\n",
      "the column_type_hints argument\n",
      "------------------------------------------------------\n",
      "------------------------------------------------------"
     ]
    },
    {
     "data": {
      "text/html": [
       "<pre>Finished parsing file /home/laxmikant/cricPred/Segment Features/Segment10.csv</pre>"
      ],
      "text/plain": [
       "Finished parsing file /home/laxmikant/cricPred/Segment Features/Segment10.csv"
      ]
     },
     "metadata": {},
     "output_type": "display_data"
    },
    {
     "data": {
      "text/html": [
       "<pre>Parsing completed. Parsed 4331 lines in 0.014465 secs.</pre>"
      ],
      "text/plain": [
       "Parsing completed. Parsed 4331 lines in 0.014465 secs."
      ]
     },
     "metadata": {},
     "output_type": "display_data"
    },
    {
     "name": "stdout",
     "output_type": "stream",
     "text": [
      "\n",
      "Inferred types from first line of file as \n",
      "column_type_hints=[str,int,int,int,int,int,int,int,int,int,int,int,str,int]\n",
      "If parsing fails due to incorrect types, you can correct\n",
      "the inferred type list above and pass it to read_csv in\n",
      "the column_type_hints argument\n",
      "------------------------------------------------------\n"
     ]
    }
   ],
   "source": [
    "segments=[]\n",
    "for i in range(10):\n",
    "    seg=gl.SFrame(\"../Segment Features/Segment\"+str(i+1)+\".csv\")\n",
    "    segments.append(seg)"
   ]
  },
  {
   "cell_type": "code",
   "execution_count": 12,
   "metadata": {
    "collapsed": true
   },
   "outputs": [],
   "source": [
    "all_features=[]\n",
    "for i in range(10):\n",
    "    combined=historical.join(segments[i], on='Team')\n",
    "    combined= combined.join(batsman, on='Batsman')\n",
    "    all_features.append(combined)"
   ]
  },
  {
   "cell_type": "code",
   "execution_count": 13,
   "metadata": {
    "collapsed": true
   },
   "outputs": [],
   "source": [
    "modelFeatures=[]\n",
    "for feature in all_features:\n",
    "    mdFeature=feature.select_columns(['Runs Scored','Wickets Lost','Got All Out', 'Runs Conceded','Opponent Wickets Taken','Opponent All Out','Total Runs Scored','Balls Faced', 'R0','W0','R1','W1','Target','ClusterID','Home Runs','Home','Current_HR'])   \n",
    "    modelFeatures.append(mdFeature)"
   ]
  },
  {
   "cell_type": "code",
   "execution_count": 14,
   "metadata": {
    "collapsed": false
   },
   "outputs": [
    {
     "data": {
      "text/html": [
       "<div style=\"max-height:1000px;max-width:1500px;overflow:auto;\"><table frame=\"box\" rules=\"cols\">\n",
       "    <tr>\n",
       "        <th style=\"padding-left: 1em; padding-right: 1em; text-align: center\">Runs Scored</th>\n",
       "        <th style=\"padding-left: 1em; padding-right: 1em; text-align: center\">Wickets Lost</th>\n",
       "        <th style=\"padding-left: 1em; padding-right: 1em; text-align: center\">Got All Out</th>\n",
       "        <th style=\"padding-left: 1em; padding-right: 1em; text-align: center\">Runs Conceded</th>\n",
       "        <th style=\"padding-left: 1em; padding-right: 1em; text-align: center\">Opponent Wickets Taken</th>\n",
       "        <th style=\"padding-left: 1em; padding-right: 1em; text-align: center\">Opponent All Out</th>\n",
       "        <th style=\"padding-left: 1em; padding-right: 1em; text-align: center\">Total Runs Scored</th>\n",
       "    </tr>\n",
       "    <tr>\n",
       "        <td style=\"padding-left: 1em; padding-right: 1em; text-align: center; vertical-align: top\">237.176470588</td>\n",
       "        <td style=\"padding-left: 1em; padding-right: 1em; text-align: center; vertical-align: top\">7.17647058824</td>\n",
       "        <td style=\"padding-left: 1em; padding-right: 1em; text-align: center; vertical-align: top\">0.289592760181</td>\n",
       "        <td style=\"padding-left: 1em; padding-right: 1em; text-align: center; vertical-align: top\">230.633484163</td>\n",
       "        <td style=\"padding-left: 1em; padding-right: 1em; text-align: center; vertical-align: top\">7.45701357466</td>\n",
       "        <td style=\"padding-left: 1em; padding-right: 1em; text-align: center; vertical-align: top\">0.384615384615</td>\n",
       "        <td style=\"padding-left: 1em; padding-right: 1em; text-align: center; vertical-align: top\">0</td>\n",
       "    </tr>\n",
       "    <tr>\n",
       "        <td style=\"padding-left: 1em; padding-right: 1em; text-align: center; vertical-align: top\">237.176470588</td>\n",
       "        <td style=\"padding-left: 1em; padding-right: 1em; text-align: center; vertical-align: top\">7.17647058824</td>\n",
       "        <td style=\"padding-left: 1em; padding-right: 1em; text-align: center; vertical-align: top\">0.289592760181</td>\n",
       "        <td style=\"padding-left: 1em; padding-right: 1em; text-align: center; vertical-align: top\">230.633484163</td>\n",
       "        <td style=\"padding-left: 1em; padding-right: 1em; text-align: center; vertical-align: top\">7.45701357466</td>\n",
       "        <td style=\"padding-left: 1em; padding-right: 1em; text-align: center; vertical-align: top\">0.384615384615</td>\n",
       "        <td style=\"padding-left: 1em; padding-right: 1em; text-align: center; vertical-align: top\">0</td>\n",
       "    </tr>\n",
       "    <tr>\n",
       "        <td style=\"padding-left: 1em; padding-right: 1em; text-align: center; vertical-align: top\">219.527272727</td>\n",
       "        <td style=\"padding-left: 1em; padding-right: 1em; text-align: center; vertical-align: top\">7.65454545455</td>\n",
       "        <td style=\"padding-left: 1em; padding-right: 1em; text-align: center; vertical-align: top\">0.290909090909</td>\n",
       "        <td style=\"padding-left: 1em; padding-right: 1em; text-align: center; vertical-align: top\">202.727272727</td>\n",
       "        <td style=\"padding-left: 1em; padding-right: 1em; text-align: center; vertical-align: top\">7.56363636364</td>\n",
       "        <td style=\"padding-left: 1em; padding-right: 1em; text-align: center; vertical-align: top\">0.4</td>\n",
       "        <td style=\"padding-left: 1em; padding-right: 1em; text-align: center; vertical-align: top\">0</td>\n",
       "    </tr>\n",
       "    <tr>\n",
       "        <td style=\"padding-left: 1em; padding-right: 1em; text-align: center; vertical-align: top\">219.527272727</td>\n",
       "        <td style=\"padding-left: 1em; padding-right: 1em; text-align: center; vertical-align: top\">7.65454545455</td>\n",
       "        <td style=\"padding-left: 1em; padding-right: 1em; text-align: center; vertical-align: top\">0.290909090909</td>\n",
       "        <td style=\"padding-left: 1em; padding-right: 1em; text-align: center; vertical-align: top\">202.727272727</td>\n",
       "        <td style=\"padding-left: 1em; padding-right: 1em; text-align: center; vertical-align: top\">7.56363636364</td>\n",
       "        <td style=\"padding-left: 1em; padding-right: 1em; text-align: center; vertical-align: top\">0.4</td>\n",
       "        <td style=\"padding-left: 1em; padding-right: 1em; text-align: center; vertical-align: top\">0</td>\n",
       "    </tr>\n",
       "    <tr>\n",
       "        <td style=\"padding-left: 1em; padding-right: 1em; text-align: center; vertical-align: top\">219.527272727</td>\n",
       "        <td style=\"padding-left: 1em; padding-right: 1em; text-align: center; vertical-align: top\">7.65454545455</td>\n",
       "        <td style=\"padding-left: 1em; padding-right: 1em; text-align: center; vertical-align: top\">0.290909090909</td>\n",
       "        <td style=\"padding-left: 1em; padding-right: 1em; text-align: center; vertical-align: top\">202.727272727</td>\n",
       "        <td style=\"padding-left: 1em; padding-right: 1em; text-align: center; vertical-align: top\">7.56363636364</td>\n",
       "        <td style=\"padding-left: 1em; padding-right: 1em; text-align: center; vertical-align: top\">0.4</td>\n",
       "        <td style=\"padding-left: 1em; padding-right: 1em; text-align: center; vertical-align: top\">0</td>\n",
       "    </tr>\n",
       "    <tr>\n",
       "        <td style=\"padding-left: 1em; padding-right: 1em; text-align: center; vertical-align: top\">237.176470588</td>\n",
       "        <td style=\"padding-left: 1em; padding-right: 1em; text-align: center; vertical-align: top\">7.17647058824</td>\n",
       "        <td style=\"padding-left: 1em; padding-right: 1em; text-align: center; vertical-align: top\">0.289592760181</td>\n",
       "        <td style=\"padding-left: 1em; padding-right: 1em; text-align: center; vertical-align: top\">230.633484163</td>\n",
       "        <td style=\"padding-left: 1em; padding-right: 1em; text-align: center; vertical-align: top\">7.45701357466</td>\n",
       "        <td style=\"padding-left: 1em; padding-right: 1em; text-align: center; vertical-align: top\">0.384615384615</td>\n",
       "        <td style=\"padding-left: 1em; padding-right: 1em; text-align: center; vertical-align: top\">0</td>\n",
       "    </tr>\n",
       "    <tr>\n",
       "        <td style=\"padding-left: 1em; padding-right: 1em; text-align: center; vertical-align: top\">237.176470588</td>\n",
       "        <td style=\"padding-left: 1em; padding-right: 1em; text-align: center; vertical-align: top\">7.17647058824</td>\n",
       "        <td style=\"padding-left: 1em; padding-right: 1em; text-align: center; vertical-align: top\">0.289592760181</td>\n",
       "        <td style=\"padding-left: 1em; padding-right: 1em; text-align: center; vertical-align: top\">230.633484163</td>\n",
       "        <td style=\"padding-left: 1em; padding-right: 1em; text-align: center; vertical-align: top\">7.45701357466</td>\n",
       "        <td style=\"padding-left: 1em; padding-right: 1em; text-align: center; vertical-align: top\">0.384615384615</td>\n",
       "        <td style=\"padding-left: 1em; padding-right: 1em; text-align: center; vertical-align: top\">0</td>\n",
       "    </tr>\n",
       "    <tr>\n",
       "        <td style=\"padding-left: 1em; padding-right: 1em; text-align: center; vertical-align: top\">237.176470588</td>\n",
       "        <td style=\"padding-left: 1em; padding-right: 1em; text-align: center; vertical-align: top\">7.17647058824</td>\n",
       "        <td style=\"padding-left: 1em; padding-right: 1em; text-align: center; vertical-align: top\">0.289592760181</td>\n",
       "        <td style=\"padding-left: 1em; padding-right: 1em; text-align: center; vertical-align: top\">230.633484163</td>\n",
       "        <td style=\"padding-left: 1em; padding-right: 1em; text-align: center; vertical-align: top\">7.45701357466</td>\n",
       "        <td style=\"padding-left: 1em; padding-right: 1em; text-align: center; vertical-align: top\">0.384615384615</td>\n",
       "        <td style=\"padding-left: 1em; padding-right: 1em; text-align: center; vertical-align: top\">0</td>\n",
       "    </tr>\n",
       "    <tr>\n",
       "        <td style=\"padding-left: 1em; padding-right: 1em; text-align: center; vertical-align: top\">222.620853081</td>\n",
       "        <td style=\"padding-left: 1em; padding-right: 1em; text-align: center; vertical-align: top\">7.38388625592</td>\n",
       "        <td style=\"padding-left: 1em; padding-right: 1em; text-align: center; vertical-align: top\">0.39336492891</td>\n",
       "        <td style=\"padding-left: 1em; padding-right: 1em; text-align: center; vertical-align: top\">235.516587678</td>\n",
       "        <td style=\"padding-left: 1em; padding-right: 1em; text-align: center; vertical-align: top\">7.54976303318</td>\n",
       "        <td style=\"padding-left: 1em; padding-right: 1em; text-align: center; vertical-align: top\">0.336492890995</td>\n",
       "        <td style=\"padding-left: 1em; padding-right: 1em; text-align: center; vertical-align: top\">0</td>\n",
       "    </tr>\n",
       "    <tr>\n",
       "        <td style=\"padding-left: 1em; padding-right: 1em; text-align: center; vertical-align: top\">222.620853081</td>\n",
       "        <td style=\"padding-left: 1em; padding-right: 1em; text-align: center; vertical-align: top\">7.38388625592</td>\n",
       "        <td style=\"padding-left: 1em; padding-right: 1em; text-align: center; vertical-align: top\">0.39336492891</td>\n",
       "        <td style=\"padding-left: 1em; padding-right: 1em; text-align: center; vertical-align: top\">235.516587678</td>\n",
       "        <td style=\"padding-left: 1em; padding-right: 1em; text-align: center; vertical-align: top\">7.54976303318</td>\n",
       "        <td style=\"padding-left: 1em; padding-right: 1em; text-align: center; vertical-align: top\">0.336492890995</td>\n",
       "        <td style=\"padding-left: 1em; padding-right: 1em; text-align: center; vertical-align: top\">0</td>\n",
       "    </tr>\n",
       "</table>\n",
       "<table frame=\"box\" rules=\"cols\">\n",
       "    <tr>\n",
       "        <th style=\"padding-left: 1em; padding-right: 1em; text-align: center\">Balls Faced</th>\n",
       "        <th style=\"padding-left: 1em; padding-right: 1em; text-align: center\">R0</th>\n",
       "        <th style=\"padding-left: 1em; padding-right: 1em; text-align: center\">W0</th>\n",
       "        <th style=\"padding-left: 1em; padding-right: 1em; text-align: center\">R1</th>\n",
       "        <th style=\"padding-left: 1em; padding-right: 1em; text-align: center\">W1</th>\n",
       "        <th style=\"padding-left: 1em; padding-right: 1em; text-align: center\">Target</th>\n",
       "        <th style=\"padding-left: 1em; padding-right: 1em; text-align: center\">ClusterID</th>\n",
       "        <th style=\"padding-left: 1em; padding-right: 1em; text-align: center\">Home Runs</th>\n",
       "        <th style=\"padding-left: 1em; padding-right: 1em; text-align: center\">Home</th>\n",
       "        <th style=\"padding-left: 1em; padding-right: 1em; text-align: center\">Current_HR</th>\n",
       "    </tr>\n",
       "    <tr>\n",
       "        <td style=\"padding-left: 1em; padding-right: 1em; text-align: center; vertical-align: top\">0</td>\n",
       "        <td style=\"padding-left: 1em; padding-right: 1em; text-align: center; vertical-align: top\">0</td>\n",
       "        <td style=\"padding-left: 1em; padding-right: 1em; text-align: center; vertical-align: top\">0</td>\n",
       "        <td style=\"padding-left: 1em; padding-right: 1em; text-align: center; vertical-align: top\">0</td>\n",
       "        <td style=\"padding-left: 1em; padding-right: 1em; text-align: center; vertical-align: top\">0</td>\n",
       "        <td style=\"padding-left: 1em; padding-right: 1em; text-align: center; vertical-align: top\">0</td>\n",
       "        <td style=\"padding-left: 1em; padding-right: 1em; text-align: center; vertical-align: top\">4</td>\n",
       "        <td style=\"padding-left: 1em; padding-right: 1em; text-align: center; vertical-align: top\">0</td>\n",
       "        <td style=\"padding-left: 1em; padding-right: 1em; text-align: center; vertical-align: top\">0</td>\n",
       "        <td style=\"padding-left: 1em; padding-right: 1em; text-align: center; vertical-align: top\">12</td>\n",
       "    </tr>\n",
       "    <tr>\n",
       "        <td style=\"padding-left: 1em; padding-right: 1em; text-align: center; vertical-align: top\">0</td>\n",
       "        <td style=\"padding-left: 1em; padding-right: 1em; text-align: center; vertical-align: top\">0</td>\n",
       "        <td style=\"padding-left: 1em; padding-right: 1em; text-align: center; vertical-align: top\">0</td>\n",
       "        <td style=\"padding-left: 1em; padding-right: 1em; text-align: center; vertical-align: top\">0</td>\n",
       "        <td style=\"padding-left: 1em; padding-right: 1em; text-align: center; vertical-align: top\">0</td>\n",
       "        <td style=\"padding-left: 1em; padding-right: 1em; text-align: center; vertical-align: top\">0</td>\n",
       "        <td style=\"padding-left: 1em; padding-right: 1em; text-align: center; vertical-align: top\">4</td>\n",
       "        <td style=\"padding-left: 1em; padding-right: 1em; text-align: center; vertical-align: top\">0</td>\n",
       "        <td style=\"padding-left: 1em; padding-right: 1em; text-align: center; vertical-align: top\">0</td>\n",
       "        <td style=\"padding-left: 1em; padding-right: 1em; text-align: center; vertical-align: top\">4</td>\n",
       "    </tr>\n",
       "    <tr>\n",
       "        <td style=\"padding-left: 1em; padding-right: 1em; text-align: center; vertical-align: top\">0</td>\n",
       "        <td style=\"padding-left: 1em; padding-right: 1em; text-align: center; vertical-align: top\">0</td>\n",
       "        <td style=\"padding-left: 1em; padding-right: 1em; text-align: center; vertical-align: top\">0</td>\n",
       "        <td style=\"padding-left: 1em; padding-right: 1em; text-align: center; vertical-align: top\">0</td>\n",
       "        <td style=\"padding-left: 1em; padding-right: 1em; text-align: center; vertical-align: top\">0</td>\n",
       "        <td style=\"padding-left: 1em; padding-right: 1em; text-align: center; vertical-align: top\">232</td>\n",
       "        <td style=\"padding-left: 1em; padding-right: 1em; text-align: center; vertical-align: top\">3</td>\n",
       "        <td style=\"padding-left: 1em; padding-right: 1em; text-align: center; vertical-align: top\">0</td>\n",
       "        <td style=\"padding-left: 1em; padding-right: 1em; text-align: center; vertical-align: top\">1</td>\n",
       "        <td style=\"padding-left: 1em; padding-right: 1em; text-align: center; vertical-align: top\">0</td>\n",
       "    </tr>\n",
       "    <tr>\n",
       "        <td style=\"padding-left: 1em; padding-right: 1em; text-align: center; vertical-align: top\">0</td>\n",
       "        <td style=\"padding-left: 1em; padding-right: 1em; text-align: center; vertical-align: top\">0</td>\n",
       "        <td style=\"padding-left: 1em; padding-right: 1em; text-align: center; vertical-align: top\">0</td>\n",
       "        <td style=\"padding-left: 1em; padding-right: 1em; text-align: center; vertical-align: top\">0</td>\n",
       "        <td style=\"padding-left: 1em; padding-right: 1em; text-align: center; vertical-align: top\">0</td>\n",
       "        <td style=\"padding-left: 1em; padding-right: 1em; text-align: center; vertical-align: top\">232</td>\n",
       "        <td style=\"padding-left: 1em; padding-right: 1em; text-align: center; vertical-align: top\">3</td>\n",
       "        <td style=\"padding-left: 1em; padding-right: 1em; text-align: center; vertical-align: top\">0</td>\n",
       "        <td style=\"padding-left: 1em; padding-right: 1em; text-align: center; vertical-align: top\">1</td>\n",
       "        <td style=\"padding-left: 1em; padding-right: 1em; text-align: center; vertical-align: top\">4</td>\n",
       "    </tr>\n",
       "    <tr>\n",
       "        <td style=\"padding-left: 1em; padding-right: 1em; text-align: center; vertical-align: top\">0</td>\n",
       "        <td style=\"padding-left: 1em; padding-right: 1em; text-align: center; vertical-align: top\">0</td>\n",
       "        <td style=\"padding-left: 1em; padding-right: 1em; text-align: center; vertical-align: top\">0</td>\n",
       "        <td style=\"padding-left: 1em; padding-right: 1em; text-align: center; vertical-align: top\">0</td>\n",
       "        <td style=\"padding-left: 1em; padding-right: 1em; text-align: center; vertical-align: top\">0</td>\n",
       "        <td style=\"padding-left: 1em; padding-right: 1em; text-align: center; vertical-align: top\">232</td>\n",
       "        <td style=\"padding-left: 1em; padding-right: 1em; text-align: center; vertical-align: top\">1</td>\n",
       "        <td style=\"padding-left: 1em; padding-right: 1em; text-align: center; vertical-align: top\">0</td>\n",
       "        <td style=\"padding-left: 1em; padding-right: 1em; text-align: center; vertical-align: top\">1</td>\n",
       "        <td style=\"padding-left: 1em; padding-right: 1em; text-align: center; vertical-align: top\">4</td>\n",
       "    </tr>\n",
       "    <tr>\n",
       "        <td style=\"padding-left: 1em; padding-right: 1em; text-align: center; vertical-align: top\">0</td>\n",
       "        <td style=\"padding-left: 1em; padding-right: 1em; text-align: center; vertical-align: top\">0</td>\n",
       "        <td style=\"padding-left: 1em; padding-right: 1em; text-align: center; vertical-align: top\">0</td>\n",
       "        <td style=\"padding-left: 1em; padding-right: 1em; text-align: center; vertical-align: top\">0</td>\n",
       "        <td style=\"padding-left: 1em; padding-right: 1em; text-align: center; vertical-align: top\">0</td>\n",
       "        <td style=\"padding-left: 1em; padding-right: 1em; text-align: center; vertical-align: top\">0</td>\n",
       "        <td style=\"padding-left: 1em; padding-right: 1em; text-align: center; vertical-align: top\">4</td>\n",
       "        <td style=\"padding-left: 1em; padding-right: 1em; text-align: center; vertical-align: top\">0</td>\n",
       "        <td style=\"padding-left: 1em; padding-right: 1em; text-align: center; vertical-align: top\">1</td>\n",
       "        <td style=\"padding-left: 1em; padding-right: 1em; text-align: center; vertical-align: top\">0</td>\n",
       "    </tr>\n",
       "    <tr>\n",
       "        <td style=\"padding-left: 1em; padding-right: 1em; text-align: center; vertical-align: top\">0</td>\n",
       "        <td style=\"padding-left: 1em; padding-right: 1em; text-align: center; vertical-align: top\">0</td>\n",
       "        <td style=\"padding-left: 1em; padding-right: 1em; text-align: center; vertical-align: top\">0</td>\n",
       "        <td style=\"padding-left: 1em; padding-right: 1em; text-align: center; vertical-align: top\">0</td>\n",
       "        <td style=\"padding-left: 1em; padding-right: 1em; text-align: center; vertical-align: top\">0</td>\n",
       "        <td style=\"padding-left: 1em; padding-right: 1em; text-align: center; vertical-align: top\">0</td>\n",
       "        <td style=\"padding-left: 1em; padding-right: 1em; text-align: center; vertical-align: top\">4</td>\n",
       "        <td style=\"padding-left: 1em; padding-right: 1em; text-align: center; vertical-align: top\">0</td>\n",
       "        <td style=\"padding-left: 1em; padding-right: 1em; text-align: center; vertical-align: top\">1</td>\n",
       "        <td style=\"padding-left: 1em; padding-right: 1em; text-align: center; vertical-align: top\">0</td>\n",
       "    </tr>\n",
       "    <tr>\n",
       "        <td style=\"padding-left: 1em; padding-right: 1em; text-align: center; vertical-align: top\">0</td>\n",
       "        <td style=\"padding-left: 1em; padding-right: 1em; text-align: center; vertical-align: top\">0</td>\n",
       "        <td style=\"padding-left: 1em; padding-right: 1em; text-align: center; vertical-align: top\">0</td>\n",
       "        <td style=\"padding-left: 1em; padding-right: 1em; text-align: center; vertical-align: top\">0</td>\n",
       "        <td style=\"padding-left: 1em; padding-right: 1em; text-align: center; vertical-align: top\">0</td>\n",
       "        <td style=\"padding-left: 1em; padding-right: 1em; text-align: center; vertical-align: top\">0</td>\n",
       "        <td style=\"padding-left: 1em; padding-right: 1em; text-align: center; vertical-align: top\">4</td>\n",
       "        <td style=\"padding-left: 1em; padding-right: 1em; text-align: center; vertical-align: top\">0</td>\n",
       "        <td style=\"padding-left: 1em; padding-right: 1em; text-align: center; vertical-align: top\">1</td>\n",
       "        <td style=\"padding-left: 1em; padding-right: 1em; text-align: center; vertical-align: top\">4</td>\n",
       "    </tr>\n",
       "    <tr>\n",
       "        <td style=\"padding-left: 1em; padding-right: 1em; text-align: center; vertical-align: top\">0</td>\n",
       "        <td style=\"padding-left: 1em; padding-right: 1em; text-align: center; vertical-align: top\">0</td>\n",
       "        <td style=\"padding-left: 1em; padding-right: 1em; text-align: center; vertical-align: top\">0</td>\n",
       "        <td style=\"padding-left: 1em; padding-right: 1em; text-align: center; vertical-align: top\">0</td>\n",
       "        <td style=\"padding-left: 1em; padding-right: 1em; text-align: center; vertical-align: top\">0</td>\n",
       "        <td style=\"padding-left: 1em; padding-right: 1em; text-align: center; vertical-align: top\">158</td>\n",
       "        <td style=\"padding-left: 1em; padding-right: 1em; text-align: center; vertical-align: top\">4</td>\n",
       "        <td style=\"padding-left: 1em; padding-right: 1em; text-align: center; vertical-align: top\">0</td>\n",
       "        <td style=\"padding-left: 1em; padding-right: 1em; text-align: center; vertical-align: top\">0</td>\n",
       "        <td style=\"padding-left: 1em; padding-right: 1em; text-align: center; vertical-align: top\">0</td>\n",
       "    </tr>\n",
       "    <tr>\n",
       "        <td style=\"padding-left: 1em; padding-right: 1em; text-align: center; vertical-align: top\">0</td>\n",
       "        <td style=\"padding-left: 1em; padding-right: 1em; text-align: center; vertical-align: top\">0</td>\n",
       "        <td style=\"padding-left: 1em; padding-right: 1em; text-align: center; vertical-align: top\">0</td>\n",
       "        <td style=\"padding-left: 1em; padding-right: 1em; text-align: center; vertical-align: top\">0</td>\n",
       "        <td style=\"padding-left: 1em; padding-right: 1em; text-align: center; vertical-align: top\">0</td>\n",
       "        <td style=\"padding-left: 1em; padding-right: 1em; text-align: center; vertical-align: top\">158</td>\n",
       "        <td style=\"padding-left: 1em; padding-right: 1em; text-align: center; vertical-align: top\">4</td>\n",
       "        <td style=\"padding-left: 1em; padding-right: 1em; text-align: center; vertical-align: top\">0</td>\n",
       "        <td style=\"padding-left: 1em; padding-right: 1em; text-align: center; vertical-align: top\">0</td>\n",
       "        <td style=\"padding-left: 1em; padding-right: 1em; text-align: center; vertical-align: top\">0</td>\n",
       "    </tr>\n",
       "</table>\n",
       "[5209 rows x 17 columns]<br/>Note: Only the head of the SFrame is printed.<br/>You can use print_rows(num_rows=m, num_columns=n) to print more rows and columns.\n",
       "</div>"
      ],
      "text/plain": [
       "Columns:\n",
       "\tRuns Scored\tfloat\n",
       "\tWickets Lost\tfloat\n",
       "\tGot All Out\tfloat\n",
       "\tRuns Conceded\tfloat\n",
       "\tOpponent Wickets Taken\tfloat\n",
       "\tOpponent All Out\tfloat\n",
       "\tTotal Runs Scored\tint\n",
       "\tBalls Faced\tint\n",
       "\tR0\tint\n",
       "\tW0\tint\n",
       "\tR1\tint\n",
       "\tW1\tint\n",
       "\tTarget\tint\n",
       "\tClusterID\tint\n",
       "\tHome Runs\tint\n",
       "\tHome\tint\n",
       "\tCurrent_HR\tint\n",
       "\n",
       "Rows: 5209\n",
       "\n",
       "Data:\n",
       "+---------------+---------------+----------------+---------------+------------------------+\n",
       "|  Runs Scored  |  Wickets Lost |  Got All Out   | Runs Conceded | Opponent Wickets Taken |\n",
       "+---------------+---------------+----------------+---------------+------------------------+\n",
       "| 237.176470588 | 7.17647058824 | 0.289592760181 | 230.633484163 |     7.45701357466      |\n",
       "| 237.176470588 | 7.17647058824 | 0.289592760181 | 230.633484163 |     7.45701357466      |\n",
       "| 219.527272727 | 7.65454545455 | 0.290909090909 | 202.727272727 |     7.56363636364      |\n",
       "| 219.527272727 | 7.65454545455 | 0.290909090909 | 202.727272727 |     7.56363636364      |\n",
       "| 219.527272727 | 7.65454545455 | 0.290909090909 | 202.727272727 |     7.56363636364      |\n",
       "| 237.176470588 | 7.17647058824 | 0.289592760181 | 230.633484163 |     7.45701357466      |\n",
       "| 237.176470588 | 7.17647058824 | 0.289592760181 | 230.633484163 |     7.45701357466      |\n",
       "| 237.176470588 | 7.17647058824 | 0.289592760181 | 230.633484163 |     7.45701357466      |\n",
       "| 222.620853081 | 7.38388625592 | 0.39336492891  | 235.516587678 |     7.54976303318      |\n",
       "| 222.620853081 | 7.38388625592 | 0.39336492891  | 235.516587678 |     7.54976303318      |\n",
       "+---------------+---------------+----------------+---------------+------------------------+\n",
       "+------------------+-------------------+-------------+----+----+----+----+--------+\n",
       "| Opponent All Out | Total Runs Scored | Balls Faced | R0 | W0 | R1 | W1 | Target |\n",
       "+------------------+-------------------+-------------+----+----+----+----+--------+\n",
       "|  0.384615384615  |         0         |      0      | 0  | 0  | 0  | 0  |   0    |\n",
       "|  0.384615384615  |         0         |      0      | 0  | 0  | 0  | 0  |   0    |\n",
       "|       0.4        |         0         |      0      | 0  | 0  | 0  | 0  |  232   |\n",
       "|       0.4        |         0         |      0      | 0  | 0  | 0  | 0  |  232   |\n",
       "|       0.4        |         0         |      0      | 0  | 0  | 0  | 0  |  232   |\n",
       "|  0.384615384615  |         0         |      0      | 0  | 0  | 0  | 0  |   0    |\n",
       "|  0.384615384615  |         0         |      0      | 0  | 0  | 0  | 0  |   0    |\n",
       "|  0.384615384615  |         0         |      0      | 0  | 0  | 0  | 0  |   0    |\n",
       "|  0.336492890995  |         0         |      0      | 0  | 0  | 0  | 0  |  158   |\n",
       "|  0.336492890995  |         0         |      0      | 0  | 0  | 0  | 0  |  158   |\n",
       "+------------------+-------------------+-------------+----+----+----+----+--------+\n",
       "+-----------+-----------+------+------------+\n",
       "| ClusterID | Home Runs | Home | Current_HR |\n",
       "+-----------+-----------+------+------------+\n",
       "|     4     |     0     |  0   |     12     |\n",
       "|     4     |     0     |  0   |     4      |\n",
       "|     3     |     0     |  1   |     0      |\n",
       "|     3     |     0     |  1   |     4      |\n",
       "|     1     |     0     |  1   |     4      |\n",
       "|     4     |     0     |  1   |     0      |\n",
       "|     4     |     0     |  1   |     0      |\n",
       "|     4     |     0     |  1   |     4      |\n",
       "|     4     |     0     |  0   |     0      |\n",
       "|     4     |     0     |  0   |     0      |\n",
       "+-----------+-----------+------+------------+\n",
       "[5209 rows x 17 columns]\n",
       "Note: Only the head of the SFrame is printed.\n",
       "You can use print_rows(num_rows=m, num_columns=n) to print more rows and columns."
      ]
     },
     "execution_count": 14,
     "metadata": {},
     "output_type": "execute_result"
    }
   ],
   "source": [
    "modelFeatures[0]"
   ]
  },
  {
   "cell_type": "code",
   "execution_count": 15,
   "metadata": {
    "collapsed": true
   },
   "outputs": [],
   "source": [
    "train_data=[]\n",
    "test_data=[]\n",
    "for i in range(10):\n",
    "    train, test=modelFeatures[i].random_split(0.8,seed=0)\n",
    "    train_data.append(train)\n",
    "    test_data.append(test)"
   ]
  },
  {
   "cell_type": "code",
   "execution_count": 16,
   "metadata": {
    "collapsed": false
   },
   "outputs": [
    {
     "data": {
      "text/html": [
       "<pre>WARNING: Detected extremely low variance for feature(s) 'Total Runs Scored', 'Balls Faced', 'R0', 'W0', 'R1', 'W1', 'Home Runs' because all entries are nearly the same.\n",
       "Proceeding with model training using all features. If the model does not provide results of adequate quality, exclude the above mentioned feature(s) from the input dataset.</pre>"
      ],
      "text/plain": [
       "WARNING: Detected extremely low variance for feature(s) 'Total Runs Scored', 'Balls Faced', 'R0', 'W0', 'R1', 'W1', 'Home Runs' because all entries are nearly the same.\n",
       "Proceeding with model training using all features. If the model does not provide results of adequate quality, exclude the above mentioned feature(s) from the input dataset."
      ]
     },
     "metadata": {},
     "output_type": "display_data"
    },
    {
     "data": {
      "text/html": [
       "<pre>Linear regression:</pre>"
      ],
      "text/plain": [
       "Linear regression:"
      ]
     },
     "metadata": {},
     "output_type": "display_data"
    },
    {
     "data": {
      "text/html": [
       "<pre>--------------------------------------------------------</pre>"
      ],
      "text/plain": [
       "--------------------------------------------------------"
      ]
     },
     "metadata": {},
     "output_type": "display_data"
    },
    {
     "data": {
      "text/html": [
       "<pre>Number of examples          : 4182</pre>"
      ],
      "text/plain": [
       "Number of examples          : 4182"
      ]
     },
     "metadata": {},
     "output_type": "display_data"
    },
    {
     "data": {
      "text/html": [
       "<pre>Number of features          : 16</pre>"
      ],
      "text/plain": [
       "Number of features          : 16"
      ]
     },
     "metadata": {},
     "output_type": "display_data"
    },
    {
     "data": {
      "text/html": [
       "<pre>Number of unpacked features : 16</pre>"
      ],
      "text/plain": [
       "Number of unpacked features : 16"
      ]
     },
     "metadata": {},
     "output_type": "display_data"
    },
    {
     "data": {
      "text/html": [
       "<pre>Number of coefficients    : 17</pre>"
      ],
      "text/plain": [
       "Number of coefficients    : 17"
      ]
     },
     "metadata": {},
     "output_type": "display_data"
    },
    {
     "data": {
      "text/html": [
       "<pre>Starting Newton Method</pre>"
      ],
      "text/plain": [
       "Starting Newton Method"
      ]
     },
     "metadata": {},
     "output_type": "display_data"
    },
    {
     "data": {
      "text/html": [
       "<pre>--------------------------------------------------------</pre>"
      ],
      "text/plain": [
       "--------------------------------------------------------"
      ]
     },
     "metadata": {},
     "output_type": "display_data"
    },
    {
     "data": {
      "text/html": [
       "<pre>+-----------+----------+--------------+--------------------+---------------+</pre>"
      ],
      "text/plain": [
       "+-----------+----------+--------------+--------------------+---------------+"
      ]
     },
     "metadata": {},
     "output_type": "display_data"
    },
    {
     "data": {
      "text/html": [
       "<pre>| Iteration | Passes   | Elapsed Time | Training-max_error | Training-rmse |</pre>"
      ],
      "text/plain": [
       "| Iteration | Passes   | Elapsed Time | Training-max_error | Training-rmse |"
      ]
     },
     "metadata": {},
     "output_type": "display_data"
    },
    {
     "data": {
      "text/html": [
       "<pre>+-----------+----------+--------------+--------------------+---------------+</pre>"
      ],
      "text/plain": [
       "+-----------+----------+--------------+--------------------+---------------+"
      ]
     },
     "metadata": {},
     "output_type": "display_data"
    },
    {
     "data": {
      "text/html": [
       "<pre>| 1         | 2        | 1.016196     | 51.273477          | 5.385079      |</pre>"
      ],
      "text/plain": [
       "| 1         | 2        | 1.016196     | 51.273477          | 5.385079      |"
      ]
     },
     "metadata": {},
     "output_type": "display_data"
    },
    {
     "data": {
      "text/html": [
       "<pre>+-----------+----------+--------------+--------------------+---------------+</pre>"
      ],
      "text/plain": [
       "+-----------+----------+--------------+--------------------+---------------+"
      ]
     },
     "metadata": {},
     "output_type": "display_data"
    },
    {
     "data": {
      "text/html": [
       "<pre>SUCCESS: Optimal solution found.</pre>"
      ],
      "text/plain": [
       "SUCCESS: Optimal solution found."
      ]
     },
     "metadata": {},
     "output_type": "display_data"
    },
    {
     "data": {
      "text/html": [
       "<pre></pre>"
      ],
      "text/plain": []
     },
     "metadata": {},
     "output_type": "display_data"
    },
    {
     "data": {
      "text/html": [
       "<pre>WARNING: Detected extremely low variance for feature(s) 'R0', 'W0' because all entries are nearly the same.\n",
       "Proceeding with model training using all features. If the model does not provide results of adequate quality, exclude the above mentioned feature(s) from the input dataset.</pre>"
      ],
      "text/plain": [
       "WARNING: Detected extremely low variance for feature(s) 'R0', 'W0' because all entries are nearly the same.\n",
       "Proceeding with model training using all features. If the model does not provide results of adequate quality, exclude the above mentioned feature(s) from the input dataset."
      ]
     },
     "metadata": {},
     "output_type": "display_data"
    },
    {
     "data": {
      "text/html": [
       "<pre>Linear regression:</pre>"
      ],
      "text/plain": [
       "Linear regression:"
      ]
     },
     "metadata": {},
     "output_type": "display_data"
    },
    {
     "data": {
      "text/html": [
       "<pre>--------------------------------------------------------</pre>"
      ],
      "text/plain": [
       "--------------------------------------------------------"
      ]
     },
     "metadata": {},
     "output_type": "display_data"
    },
    {
     "data": {
      "text/html": [
       "<pre>Number of examples          : 4153</pre>"
      ],
      "text/plain": [
       "Number of examples          : 4153"
      ]
     },
     "metadata": {},
     "output_type": "display_data"
    },
    {
     "data": {
      "text/html": [
       "<pre>Number of features          : 16</pre>"
      ],
      "text/plain": [
       "Number of features          : 16"
      ]
     },
     "metadata": {},
     "output_type": "display_data"
    },
    {
     "data": {
      "text/html": [
       "<pre>Number of unpacked features : 16</pre>"
      ],
      "text/plain": [
       "Number of unpacked features : 16"
      ]
     },
     "metadata": {},
     "output_type": "display_data"
    },
    {
     "data": {
      "text/html": [
       "<pre>Number of coefficients    : 17</pre>"
      ],
      "text/plain": [
       "Number of coefficients    : 17"
      ]
     },
     "metadata": {},
     "output_type": "display_data"
    },
    {
     "data": {
      "text/html": [
       "<pre>Starting Newton Method</pre>"
      ],
      "text/plain": [
       "Starting Newton Method"
      ]
     },
     "metadata": {},
     "output_type": "display_data"
    },
    {
     "data": {
      "text/html": [
       "<pre>--------------------------------------------------------</pre>"
      ],
      "text/plain": [
       "--------------------------------------------------------"
      ]
     },
     "metadata": {},
     "output_type": "display_data"
    },
    {
     "data": {
      "text/html": [
       "<pre>+-----------+----------+--------------+--------------------+---------------+</pre>"
      ],
      "text/plain": [
       "+-----------+----------+--------------+--------------------+---------------+"
      ]
     },
     "metadata": {},
     "output_type": "display_data"
    },
    {
     "data": {
      "text/html": [
       "<pre>| Iteration | Passes   | Elapsed Time | Training-max_error | Training-rmse |</pre>"
      ],
      "text/plain": [
       "| Iteration | Passes   | Elapsed Time | Training-max_error | Training-rmse |"
      ]
     },
     "metadata": {},
     "output_type": "display_data"
    },
    {
     "data": {
      "text/html": [
       "<pre>+-----------+----------+--------------+--------------------+---------------+</pre>"
      ],
      "text/plain": [
       "+-----------+----------+--------------+--------------------+---------------+"
      ]
     },
     "metadata": {},
     "output_type": "display_data"
    },
    {
     "data": {
      "text/html": [
       "<pre>| 1         | 2        | 0.018609     | 37.237174          | 5.814406      |</pre>"
      ],
      "text/plain": [
       "| 1         | 2        | 0.018609     | 37.237174          | 5.814406      |"
      ]
     },
     "metadata": {},
     "output_type": "display_data"
    },
    {
     "data": {
      "text/html": [
       "<pre>+-----------+----------+--------------+--------------------+---------------+</pre>"
      ],
      "text/plain": [
       "+-----------+----------+--------------+--------------------+---------------+"
      ]
     },
     "metadata": {},
     "output_type": "display_data"
    },
    {
     "data": {
      "text/html": [
       "<pre>SUCCESS: Optimal solution found.</pre>"
      ],
      "text/plain": [
       "SUCCESS: Optimal solution found."
      ]
     },
     "metadata": {},
     "output_type": "display_data"
    },
    {
     "data": {
      "text/html": [
       "<pre></pre>"
      ],
      "text/plain": []
     },
     "metadata": {},
     "output_type": "display_data"
    },
    {
     "data": {
      "text/html": [
       "<pre>Linear regression:</pre>"
      ],
      "text/plain": [
       "Linear regression:"
      ]
     },
     "metadata": {},
     "output_type": "display_data"
    },
    {
     "data": {
      "text/html": [
       "<pre>--------------------------------------------------------</pre>"
      ],
      "text/plain": [
       "--------------------------------------------------------"
      ]
     },
     "metadata": {},
     "output_type": "display_data"
    },
    {
     "data": {
      "text/html": [
       "<pre>Number of examples          : 4090</pre>"
      ],
      "text/plain": [
       "Number of examples          : 4090"
      ]
     },
     "metadata": {},
     "output_type": "display_data"
    },
    {
     "data": {
      "text/html": [
       "<pre>Number of features          : 16</pre>"
      ],
      "text/plain": [
       "Number of features          : 16"
      ]
     },
     "metadata": {},
     "output_type": "display_data"
    },
    {
     "data": {
      "text/html": [
       "<pre>Number of unpacked features : 16</pre>"
      ],
      "text/plain": [
       "Number of unpacked features : 16"
      ]
     },
     "metadata": {},
     "output_type": "display_data"
    },
    {
     "data": {
      "text/html": [
       "<pre>Number of coefficients    : 17</pre>"
      ],
      "text/plain": [
       "Number of coefficients    : 17"
      ]
     },
     "metadata": {},
     "output_type": "display_data"
    },
    {
     "data": {
      "text/html": [
       "<pre>Starting Newton Method</pre>"
      ],
      "text/plain": [
       "Starting Newton Method"
      ]
     },
     "metadata": {},
     "output_type": "display_data"
    },
    {
     "data": {
      "text/html": [
       "<pre>--------------------------------------------------------</pre>"
      ],
      "text/plain": [
       "--------------------------------------------------------"
      ]
     },
     "metadata": {},
     "output_type": "display_data"
    },
    {
     "data": {
      "text/html": [
       "<pre>+-----------+----------+--------------+--------------------+---------------+</pre>"
      ],
      "text/plain": [
       "+-----------+----------+--------------+--------------------+---------------+"
      ]
     },
     "metadata": {},
     "output_type": "display_data"
    },
    {
     "data": {
      "text/html": [
       "<pre>| Iteration | Passes   | Elapsed Time | Training-max_error | Training-rmse |</pre>"
      ],
      "text/plain": [
       "| Iteration | Passes   | Elapsed Time | Training-max_error | Training-rmse |"
      ]
     },
     "metadata": {},
     "output_type": "display_data"
    },
    {
     "data": {
      "text/html": [
       "<pre>+-----------+----------+--------------+--------------------+---------------+</pre>"
      ],
      "text/plain": [
       "+-----------+----------+--------------+--------------------+---------------+"
      ]
     },
     "metadata": {},
     "output_type": "display_data"
    },
    {
     "data": {
      "text/html": [
       "<pre>| 1         | 2        | 0.008522     | 65.577764          | 4.897495      |</pre>"
      ],
      "text/plain": [
       "| 1         | 2        | 0.008522     | 65.577764          | 4.897495      |"
      ]
     },
     "metadata": {},
     "output_type": "display_data"
    },
    {
     "data": {
      "text/html": [
       "<pre>+-----------+----------+--------------+--------------------+---------------+</pre>"
      ],
      "text/plain": [
       "+-----------+----------+--------------+--------------------+---------------+"
      ]
     },
     "metadata": {},
     "output_type": "display_data"
    },
    {
     "data": {
      "text/html": [
       "<pre>SUCCESS: Optimal solution found.</pre>"
      ],
      "text/plain": [
       "SUCCESS: Optimal solution found."
      ]
     },
     "metadata": {},
     "output_type": "display_data"
    },
    {
     "data": {
      "text/html": [
       "<pre></pre>"
      ],
      "text/plain": []
     },
     "metadata": {},
     "output_type": "display_data"
    },
    {
     "data": {
      "text/html": [
       "<pre>Linear regression:</pre>"
      ],
      "text/plain": [
       "Linear regression:"
      ]
     },
     "metadata": {},
     "output_type": "display_data"
    },
    {
     "data": {
      "text/html": [
       "<pre>--------------------------------------------------------</pre>"
      ],
      "text/plain": [
       "--------------------------------------------------------"
      ]
     },
     "metadata": {},
     "output_type": "display_data"
    },
    {
     "data": {
      "text/html": [
       "<pre>Number of examples          : 4058</pre>"
      ],
      "text/plain": [
       "Number of examples          : 4058"
      ]
     },
     "metadata": {},
     "output_type": "display_data"
    },
    {
     "data": {
      "text/html": [
       "<pre>Number of features          : 16</pre>"
      ],
      "text/plain": [
       "Number of features          : 16"
      ]
     },
     "metadata": {},
     "output_type": "display_data"
    },
    {
     "data": {
      "text/html": [
       "<pre>Number of unpacked features : 16</pre>"
      ],
      "text/plain": [
       "Number of unpacked features : 16"
      ]
     },
     "metadata": {},
     "output_type": "display_data"
    },
    {
     "data": {
      "text/html": [
       "<pre>Number of coefficients    : 17</pre>"
      ],
      "text/plain": [
       "Number of coefficients    : 17"
      ]
     },
     "metadata": {},
     "output_type": "display_data"
    },
    {
     "data": {
      "text/html": [
       "<pre>Starting Newton Method</pre>"
      ],
      "text/plain": [
       "Starting Newton Method"
      ]
     },
     "metadata": {},
     "output_type": "display_data"
    },
    {
     "data": {
      "text/html": [
       "<pre>--------------------------------------------------------</pre>"
      ],
      "text/plain": [
       "--------------------------------------------------------"
      ]
     },
     "metadata": {},
     "output_type": "display_data"
    },
    {
     "data": {
      "text/html": [
       "<pre>+-----------+----------+--------------+--------------------+---------------+</pre>"
      ],
      "text/plain": [
       "+-----------+----------+--------------+--------------------+---------------+"
      ]
     },
     "metadata": {},
     "output_type": "display_data"
    },
    {
     "data": {
      "text/html": [
       "<pre>| Iteration | Passes   | Elapsed Time | Training-max_error | Training-rmse |</pre>"
      ],
      "text/plain": [
       "| Iteration | Passes   | Elapsed Time | Training-max_error | Training-rmse |"
      ]
     },
     "metadata": {},
     "output_type": "display_data"
    },
    {
     "data": {
      "text/html": [
       "<pre>+-----------+----------+--------------+--------------------+---------------+</pre>"
      ],
      "text/plain": [
       "+-----------+----------+--------------+--------------------+---------------+"
      ]
     },
     "metadata": {},
     "output_type": "display_data"
    },
    {
     "data": {
      "text/html": [
       "<pre>| 1         | 2        | 0.008035     | 45.312369          | 4.486269      |</pre>"
      ],
      "text/plain": [
       "| 1         | 2        | 0.008035     | 45.312369          | 4.486269      |"
      ]
     },
     "metadata": {},
     "output_type": "display_data"
    },
    {
     "data": {
      "text/html": [
       "<pre>+-----------+----------+--------------+--------------------+---------------+</pre>"
      ],
      "text/plain": [
       "+-----------+----------+--------------+--------------------+---------------+"
      ]
     },
     "metadata": {},
     "output_type": "display_data"
    },
    {
     "data": {
      "text/html": [
       "<pre>SUCCESS: Optimal solution found.</pre>"
      ],
      "text/plain": [
       "SUCCESS: Optimal solution found."
      ]
     },
     "metadata": {},
     "output_type": "display_data"
    },
    {
     "data": {
      "text/html": [
       "<pre></pre>"
      ],
      "text/plain": []
     },
     "metadata": {},
     "output_type": "display_data"
    },
    {
     "data": {
      "text/html": [
       "<pre>Linear regression:</pre>"
      ],
      "text/plain": [
       "Linear regression:"
      ]
     },
     "metadata": {},
     "output_type": "display_data"
    },
    {
     "data": {
      "text/html": [
       "<pre>--------------------------------------------------------</pre>"
      ],
      "text/plain": [
       "--------------------------------------------------------"
      ]
     },
     "metadata": {},
     "output_type": "display_data"
    },
    {
     "data": {
      "text/html": [
       "<pre>Number of examples          : 4009</pre>"
      ],
      "text/plain": [
       "Number of examples          : 4009"
      ]
     },
     "metadata": {},
     "output_type": "display_data"
    },
    {
     "data": {
      "text/html": [
       "<pre>Number of features          : 16</pre>"
      ],
      "text/plain": [
       "Number of features          : 16"
      ]
     },
     "metadata": {},
     "output_type": "display_data"
    },
    {
     "data": {
      "text/html": [
       "<pre>Number of unpacked features : 16</pre>"
      ],
      "text/plain": [
       "Number of unpacked features : 16"
      ]
     },
     "metadata": {},
     "output_type": "display_data"
    },
    {
     "data": {
      "text/html": [
       "<pre>Number of coefficients    : 17</pre>"
      ],
      "text/plain": [
       "Number of coefficients    : 17"
      ]
     },
     "metadata": {},
     "output_type": "display_data"
    },
    {
     "data": {
      "text/html": [
       "<pre>Starting Newton Method</pre>"
      ],
      "text/plain": [
       "Starting Newton Method"
      ]
     },
     "metadata": {},
     "output_type": "display_data"
    },
    {
     "data": {
      "text/html": [
       "<pre>--------------------------------------------------------</pre>"
      ],
      "text/plain": [
       "--------------------------------------------------------"
      ]
     },
     "metadata": {},
     "output_type": "display_data"
    },
    {
     "data": {
      "text/html": [
       "<pre>+-----------+----------+--------------+--------------------+---------------+</pre>"
      ],
      "text/plain": [
       "+-----------+----------+--------------+--------------------+---------------+"
      ]
     },
     "metadata": {},
     "output_type": "display_data"
    },
    {
     "data": {
      "text/html": [
       "<pre>| Iteration | Passes   | Elapsed Time | Training-max_error | Training-rmse |</pre>"
      ],
      "text/plain": [
       "| Iteration | Passes   | Elapsed Time | Training-max_error | Training-rmse |"
      ]
     },
     "metadata": {},
     "output_type": "display_data"
    },
    {
     "data": {
      "text/html": [
       "<pre>+-----------+----------+--------------+--------------------+---------------+</pre>"
      ],
      "text/plain": [
       "+-----------+----------+--------------+--------------------+---------------+"
      ]
     },
     "metadata": {},
     "output_type": "display_data"
    },
    {
     "data": {
      "text/html": [
       "<pre>| 1         | 2        | 0.008488     | 49.268180          | 4.431879      |</pre>"
      ],
      "text/plain": [
       "| 1         | 2        | 0.008488     | 49.268180          | 4.431879      |"
      ]
     },
     "metadata": {},
     "output_type": "display_data"
    },
    {
     "data": {
      "text/html": [
       "<pre>+-----------+----------+--------------+--------------------+---------------+</pre>"
      ],
      "text/plain": [
       "+-----------+----------+--------------+--------------------+---------------+"
      ]
     },
     "metadata": {},
     "output_type": "display_data"
    },
    {
     "data": {
      "text/html": [
       "<pre>SUCCESS: Optimal solution found.</pre>"
      ],
      "text/plain": [
       "SUCCESS: Optimal solution found."
      ]
     },
     "metadata": {},
     "output_type": "display_data"
    },
    {
     "data": {
      "text/html": [
       "<pre></pre>"
      ],
      "text/plain": []
     },
     "metadata": {},
     "output_type": "display_data"
    },
    {
     "data": {
      "text/html": [
       "<pre>Linear regression:</pre>"
      ],
      "text/plain": [
       "Linear regression:"
      ]
     },
     "metadata": {},
     "output_type": "display_data"
    },
    {
     "data": {
      "text/html": [
       "<pre>--------------------------------------------------------</pre>"
      ],
      "text/plain": [
       "--------------------------------------------------------"
      ]
     },
     "metadata": {},
     "output_type": "display_data"
    },
    {
     "data": {
      "text/html": [
       "<pre>Number of examples          : 3894</pre>"
      ],
      "text/plain": [
       "Number of examples          : 3894"
      ]
     },
     "metadata": {},
     "output_type": "display_data"
    },
    {
     "data": {
      "text/html": [
       "<pre>Number of features          : 16</pre>"
      ],
      "text/plain": [
       "Number of features          : 16"
      ]
     },
     "metadata": {},
     "output_type": "display_data"
    },
    {
     "data": {
      "text/html": [
       "<pre>Number of unpacked features : 16</pre>"
      ],
      "text/plain": [
       "Number of unpacked features : 16"
      ]
     },
     "metadata": {},
     "output_type": "display_data"
    },
    {
     "data": {
      "text/html": [
       "<pre>Number of coefficients    : 17</pre>"
      ],
      "text/plain": [
       "Number of coefficients    : 17"
      ]
     },
     "metadata": {},
     "output_type": "display_data"
    },
    {
     "data": {
      "text/html": [
       "<pre>Starting Newton Method</pre>"
      ],
      "text/plain": [
       "Starting Newton Method"
      ]
     },
     "metadata": {},
     "output_type": "display_data"
    },
    {
     "data": {
      "text/html": [
       "<pre>--------------------------------------------------------</pre>"
      ],
      "text/plain": [
       "--------------------------------------------------------"
      ]
     },
     "metadata": {},
     "output_type": "display_data"
    },
    {
     "data": {
      "text/html": [
       "<pre>+-----------+----------+--------------+--------------------+---------------+</pre>"
      ],
      "text/plain": [
       "+-----------+----------+--------------+--------------------+---------------+"
      ]
     },
     "metadata": {},
     "output_type": "display_data"
    },
    {
     "data": {
      "text/html": [
       "<pre>| Iteration | Passes   | Elapsed Time | Training-max_error | Training-rmse |</pre>"
      ],
      "text/plain": [
       "| Iteration | Passes   | Elapsed Time | Training-max_error | Training-rmse |"
      ]
     },
     "metadata": {},
     "output_type": "display_data"
    },
    {
     "data": {
      "text/html": [
       "<pre>+-----------+----------+--------------+--------------------+---------------+</pre>"
      ],
      "text/plain": [
       "+-----------+----------+--------------+--------------------+---------------+"
      ]
     },
     "metadata": {},
     "output_type": "display_data"
    },
    {
     "data": {
      "text/html": [
       "<pre>| 1         | 2        | 0.014454     | 31.940034          | 4.317111      |</pre>"
      ],
      "text/plain": [
       "| 1         | 2        | 0.014454     | 31.940034          | 4.317111      |"
      ]
     },
     "metadata": {},
     "output_type": "display_data"
    },
    {
     "data": {
      "text/html": [
       "<pre>+-----------+----------+--------------+--------------------+---------------+</pre>"
      ],
      "text/plain": [
       "+-----------+----------+--------------+--------------------+---------------+"
      ]
     },
     "metadata": {},
     "output_type": "display_data"
    },
    {
     "data": {
      "text/html": [
       "<pre>SUCCESS: Optimal solution found.</pre>"
      ],
      "text/plain": [
       "SUCCESS: Optimal solution found."
      ]
     },
     "metadata": {},
     "output_type": "display_data"
    },
    {
     "data": {
      "text/html": [
       "<pre></pre>"
      ],
      "text/plain": []
     },
     "metadata": {},
     "output_type": "display_data"
    },
    {
     "data": {
      "text/html": [
       "<pre>Linear regression:</pre>"
      ],
      "text/plain": [
       "Linear regression:"
      ]
     },
     "metadata": {},
     "output_type": "display_data"
    },
    {
     "data": {
      "text/html": [
       "<pre>--------------------------------------------------------</pre>"
      ],
      "text/plain": [
       "--------------------------------------------------------"
      ]
     },
     "metadata": {},
     "output_type": "display_data"
    },
    {
     "data": {
      "text/html": [
       "<pre>Number of examples          : 3759</pre>"
      ],
      "text/plain": [
       "Number of examples          : 3759"
      ]
     },
     "metadata": {},
     "output_type": "display_data"
    },
    {
     "data": {
      "text/html": [
       "<pre>Number of features          : 16</pre>"
      ],
      "text/plain": [
       "Number of features          : 16"
      ]
     },
     "metadata": {},
     "output_type": "display_data"
    },
    {
     "data": {
      "text/html": [
       "<pre>Number of unpacked features : 16</pre>"
      ],
      "text/plain": [
       "Number of unpacked features : 16"
      ]
     },
     "metadata": {},
     "output_type": "display_data"
    },
    {
     "data": {
      "text/html": [
       "<pre>Number of coefficients    : 17</pre>"
      ],
      "text/plain": [
       "Number of coefficients    : 17"
      ]
     },
     "metadata": {},
     "output_type": "display_data"
    },
    {
     "data": {
      "text/html": [
       "<pre>Starting Newton Method</pre>"
      ],
      "text/plain": [
       "Starting Newton Method"
      ]
     },
     "metadata": {},
     "output_type": "display_data"
    },
    {
     "data": {
      "text/html": [
       "<pre>--------------------------------------------------------</pre>"
      ],
      "text/plain": [
       "--------------------------------------------------------"
      ]
     },
     "metadata": {},
     "output_type": "display_data"
    },
    {
     "data": {
      "text/html": [
       "<pre>+-----------+----------+--------------+--------------------+---------------+</pre>"
      ],
      "text/plain": [
       "+-----------+----------+--------------+--------------------+---------------+"
      ]
     },
     "metadata": {},
     "output_type": "display_data"
    },
    {
     "data": {
      "text/html": [
       "<pre>| Iteration | Passes   | Elapsed Time | Training-max_error | Training-rmse |</pre>"
      ],
      "text/plain": [
       "| Iteration | Passes   | Elapsed Time | Training-max_error | Training-rmse |"
      ]
     },
     "metadata": {},
     "output_type": "display_data"
    },
    {
     "data": {
      "text/html": [
       "<pre>+-----------+----------+--------------+--------------------+---------------+</pre>"
      ],
      "text/plain": [
       "+-----------+----------+--------------+--------------------+---------------+"
      ]
     },
     "metadata": {},
     "output_type": "display_data"
    },
    {
     "data": {
      "text/html": [
       "<pre>| 1         | 2        | 0.014363     | 37.148726          | 4.549099      |</pre>"
      ],
      "text/plain": [
       "| 1         | 2        | 0.014363     | 37.148726          | 4.549099      |"
      ]
     },
     "metadata": {},
     "output_type": "display_data"
    },
    {
     "data": {
      "text/html": [
       "<pre>+-----------+----------+--------------+--------------------+---------------+</pre>"
      ],
      "text/plain": [
       "+-----------+----------+--------------+--------------------+---------------+"
      ]
     },
     "metadata": {},
     "output_type": "display_data"
    },
    {
     "data": {
      "text/html": [
       "<pre>SUCCESS: Optimal solution found.</pre>"
      ],
      "text/plain": [
       "SUCCESS: Optimal solution found."
      ]
     },
     "metadata": {},
     "output_type": "display_data"
    },
    {
     "data": {
      "text/html": [
       "<pre></pre>"
      ],
      "text/plain": []
     },
     "metadata": {},
     "output_type": "display_data"
    },
    {
     "data": {
      "text/html": [
       "<pre>Linear regression:</pre>"
      ],
      "text/plain": [
       "Linear regression:"
      ]
     },
     "metadata": {},
     "output_type": "display_data"
    },
    {
     "data": {
      "text/html": [
       "<pre>--------------------------------------------------------</pre>"
      ],
      "text/plain": [
       "--------------------------------------------------------"
      ]
     },
     "metadata": {},
     "output_type": "display_data"
    },
    {
     "data": {
      "text/html": [
       "<pre>Number of examples          : 3824</pre>"
      ],
      "text/plain": [
       "Number of examples          : 3824"
      ]
     },
     "metadata": {},
     "output_type": "display_data"
    },
    {
     "data": {
      "text/html": [
       "<pre>Number of features          : 16</pre>"
      ],
      "text/plain": [
       "Number of features          : 16"
      ]
     },
     "metadata": {},
     "output_type": "display_data"
    },
    {
     "data": {
      "text/html": [
       "<pre>Number of unpacked features : 16</pre>"
      ],
      "text/plain": [
       "Number of unpacked features : 16"
      ]
     },
     "metadata": {},
     "output_type": "display_data"
    },
    {
     "data": {
      "text/html": [
       "<pre>Number of coefficients    : 17</pre>"
      ],
      "text/plain": [
       "Number of coefficients    : 17"
      ]
     },
     "metadata": {},
     "output_type": "display_data"
    },
    {
     "data": {
      "text/html": [
       "<pre>Starting Newton Method</pre>"
      ],
      "text/plain": [
       "Starting Newton Method"
      ]
     },
     "metadata": {},
     "output_type": "display_data"
    },
    {
     "data": {
      "text/html": [
       "<pre>--------------------------------------------------------</pre>"
      ],
      "text/plain": [
       "--------------------------------------------------------"
      ]
     },
     "metadata": {},
     "output_type": "display_data"
    },
    {
     "data": {
      "text/html": [
       "<pre>+-----------+----------+--------------+--------------------+---------------+</pre>"
      ],
      "text/plain": [
       "+-----------+----------+--------------+--------------------+---------------+"
      ]
     },
     "metadata": {},
     "output_type": "display_data"
    },
    {
     "data": {
      "text/html": [
       "<pre>| Iteration | Passes   | Elapsed Time | Training-max_error | Training-rmse |</pre>"
      ],
      "text/plain": [
       "| Iteration | Passes   | Elapsed Time | Training-max_error | Training-rmse |"
      ]
     },
     "metadata": {},
     "output_type": "display_data"
    },
    {
     "data": {
      "text/html": [
       "<pre>+-----------+----------+--------------+--------------------+---------------+</pre>"
      ],
      "text/plain": [
       "+-----------+----------+--------------+--------------------+---------------+"
      ]
     },
     "metadata": {},
     "output_type": "display_data"
    },
    {
     "data": {
      "text/html": [
       "<pre>| 1         | 2        | 0.007914     | 33.421423          | 5.378002      |</pre>"
      ],
      "text/plain": [
       "| 1         | 2        | 0.007914     | 33.421423          | 5.378002      |"
      ]
     },
     "metadata": {},
     "output_type": "display_data"
    },
    {
     "data": {
      "text/html": [
       "<pre>+-----------+----------+--------------+--------------------+---------------+</pre>"
      ],
      "text/plain": [
       "+-----------+----------+--------------+--------------------+---------------+"
      ]
     },
     "metadata": {},
     "output_type": "display_data"
    },
    {
     "data": {
      "text/html": [
       "<pre>SUCCESS: Optimal solution found.</pre>"
      ],
      "text/plain": [
       "SUCCESS: Optimal solution found."
      ]
     },
     "metadata": {},
     "output_type": "display_data"
    },
    {
     "data": {
      "text/html": [
       "<pre></pre>"
      ],
      "text/plain": []
     },
     "metadata": {},
     "output_type": "display_data"
    },
    {
     "data": {
      "text/html": [
       "<pre>Linear regression:</pre>"
      ],
      "text/plain": [
       "Linear regression:"
      ]
     },
     "metadata": {},
     "output_type": "display_data"
    },
    {
     "data": {
      "text/html": [
       "<pre>--------------------------------------------------------</pre>"
      ],
      "text/plain": [
       "--------------------------------------------------------"
      ]
     },
     "metadata": {},
     "output_type": "display_data"
    },
    {
     "data": {
      "text/html": [
       "<pre>Number of examples          : 3667</pre>"
      ],
      "text/plain": [
       "Number of examples          : 3667"
      ]
     },
     "metadata": {},
     "output_type": "display_data"
    },
    {
     "data": {
      "text/html": [
       "<pre>Number of features          : 16</pre>"
      ],
      "text/plain": [
       "Number of features          : 16"
      ]
     },
     "metadata": {},
     "output_type": "display_data"
    },
    {
     "data": {
      "text/html": [
       "<pre>Number of unpacked features : 16</pre>"
      ],
      "text/plain": [
       "Number of unpacked features : 16"
      ]
     },
     "metadata": {},
     "output_type": "display_data"
    },
    {
     "data": {
      "text/html": [
       "<pre>Number of coefficients    : 17</pre>"
      ],
      "text/plain": [
       "Number of coefficients    : 17"
      ]
     },
     "metadata": {},
     "output_type": "display_data"
    },
    {
     "data": {
      "text/html": [
       "<pre>Starting Newton Method</pre>"
      ],
      "text/plain": [
       "Starting Newton Method"
      ]
     },
     "metadata": {},
     "output_type": "display_data"
    },
    {
     "data": {
      "text/html": [
       "<pre>--------------------------------------------------------</pre>"
      ],
      "text/plain": [
       "--------------------------------------------------------"
      ]
     },
     "metadata": {},
     "output_type": "display_data"
    },
    {
     "data": {
      "text/html": [
       "<pre>+-----------+----------+--------------+--------------------+---------------+</pre>"
      ],
      "text/plain": [
       "+-----------+----------+--------------+--------------------+---------------+"
      ]
     },
     "metadata": {},
     "output_type": "display_data"
    },
    {
     "data": {
      "text/html": [
       "<pre>| Iteration | Passes   | Elapsed Time | Training-max_error | Training-rmse |</pre>"
      ],
      "text/plain": [
       "| Iteration | Passes   | Elapsed Time | Training-max_error | Training-rmse |"
      ]
     },
     "metadata": {},
     "output_type": "display_data"
    },
    {
     "data": {
      "text/html": [
       "<pre>+-----------+----------+--------------+--------------------+---------------+</pre>"
      ],
      "text/plain": [
       "+-----------+----------+--------------+--------------------+---------------+"
      ]
     },
     "metadata": {},
     "output_type": "display_data"
    },
    {
     "data": {
      "text/html": [
       "<pre>| 1         | 2        | 0.015797     | 43.508353          | 5.737060      |</pre>"
      ],
      "text/plain": [
       "| 1         | 2        | 0.015797     | 43.508353          | 5.737060      |"
      ]
     },
     "metadata": {},
     "output_type": "display_data"
    },
    {
     "data": {
      "text/html": [
       "<pre>+-----------+----------+--------------+--------------------+---------------+</pre>"
      ],
      "text/plain": [
       "+-----------+----------+--------------+--------------------+---------------+"
      ]
     },
     "metadata": {},
     "output_type": "display_data"
    },
    {
     "data": {
      "text/html": [
       "<pre>SUCCESS: Optimal solution found.</pre>"
      ],
      "text/plain": [
       "SUCCESS: Optimal solution found."
      ]
     },
     "metadata": {},
     "output_type": "display_data"
    },
    {
     "data": {
      "text/html": [
       "<pre></pre>"
      ],
      "text/plain": []
     },
     "metadata": {},
     "output_type": "display_data"
    },
    {
     "data": {
      "text/html": [
       "<pre>Linear regression:</pre>"
      ],
      "text/plain": [
       "Linear regression:"
      ]
     },
     "metadata": {},
     "output_type": "display_data"
    },
    {
     "data": {
      "text/html": [
       "<pre>--------------------------------------------------------</pre>"
      ],
      "text/plain": [
       "--------------------------------------------------------"
      ]
     },
     "metadata": {},
     "output_type": "display_data"
    },
    {
     "data": {
      "text/html": [
       "<pre>Number of examples          : 3366</pre>"
      ],
      "text/plain": [
       "Number of examples          : 3366"
      ]
     },
     "metadata": {},
     "output_type": "display_data"
    },
    {
     "data": {
      "text/html": [
       "<pre>Number of features          : 16</pre>"
      ],
      "text/plain": [
       "Number of features          : 16"
      ]
     },
     "metadata": {},
     "output_type": "display_data"
    },
    {
     "data": {
      "text/html": [
       "<pre>Number of unpacked features : 16</pre>"
      ],
      "text/plain": [
       "Number of unpacked features : 16"
      ]
     },
     "metadata": {},
     "output_type": "display_data"
    },
    {
     "data": {
      "text/html": [
       "<pre>Number of coefficients    : 17</pre>"
      ],
      "text/plain": [
       "Number of coefficients    : 17"
      ]
     },
     "metadata": {},
     "output_type": "display_data"
    },
    {
     "data": {
      "text/html": [
       "<pre>Starting Newton Method</pre>"
      ],
      "text/plain": [
       "Starting Newton Method"
      ]
     },
     "metadata": {},
     "output_type": "display_data"
    },
    {
     "data": {
      "text/html": [
       "<pre>--------------------------------------------------------</pre>"
      ],
      "text/plain": [
       "--------------------------------------------------------"
      ]
     },
     "metadata": {},
     "output_type": "display_data"
    },
    {
     "data": {
      "text/html": [
       "<pre>+-----------+----------+--------------+--------------------+---------------+</pre>"
      ],
      "text/plain": [
       "+-----------+----------+--------------+--------------------+---------------+"
      ]
     },
     "metadata": {},
     "output_type": "display_data"
    },
    {
     "data": {
      "text/html": [
       "<pre>| Iteration | Passes   | Elapsed Time | Training-max_error | Training-rmse |</pre>"
      ],
      "text/plain": [
       "| Iteration | Passes   | Elapsed Time | Training-max_error | Training-rmse |"
      ]
     },
     "metadata": {},
     "output_type": "display_data"
    },
    {
     "data": {
      "text/html": [
       "<pre>+-----------+----------+--------------+--------------------+---------------+</pre>"
      ],
      "text/plain": [
       "+-----------+----------+--------------+--------------------+---------------+"
      ]
     },
     "metadata": {},
     "output_type": "display_data"
    },
    {
     "data": {
      "text/html": [
       "<pre>| 1         | 2        | 0.013307     | 47.678465          | 7.260885      |</pre>"
      ],
      "text/plain": [
       "| 1         | 2        | 0.013307     | 47.678465          | 7.260885      |"
      ]
     },
     "metadata": {},
     "output_type": "display_data"
    },
    {
     "data": {
      "text/html": [
       "<pre>+-----------+----------+--------------+--------------------+---------------+</pre>"
      ],
      "text/plain": [
       "+-----------+----------+--------------+--------------------+---------------+"
      ]
     },
     "metadata": {},
     "output_type": "display_data"
    },
    {
     "data": {
      "text/html": [
       "<pre>SUCCESS: Optimal solution found.</pre>"
      ],
      "text/plain": [
       "SUCCESS: Optimal solution found."
      ]
     },
     "metadata": {},
     "output_type": "display_data"
    },
    {
     "data": {
      "text/html": [
       "<pre></pre>"
      ],
      "text/plain": []
     },
     "metadata": {},
     "output_type": "display_data"
    }
   ],
   "source": [
    "models=[]\n",
    "for i in range(10):\n",
    "    linearModel= gl.linear_regression.create(train_data[i], target='Current_HR', validation_set=None)\n",
    "    models.append(linearModel)"
   ]
  },
  {
   "cell_type": "code",
   "execution_count": 17,
   "metadata": {
    "collapsed": false
   },
   "outputs": [
    {
     "name": "stdout",
     "output_type": "stream",
     "text": [
      "Class                         : LinearRegression\n",
      "\n",
      "Schema\n",
      "------\n",
      "Number of coefficients        : 17\n",
      "Number of examples            : 4182\n",
      "Number of feature columns     : 16\n",
      "Number of unpacked features   : 16\n",
      "\n",
      "Hyperparameters\n",
      "---------------\n",
      "L1 penalty                    : 0.0\n",
      "L2 penalty                    : 0.01\n",
      "\n",
      "Training Summary\n",
      "----------------\n",
      "Solver                        : newton\n",
      "Solver iterations             : 1\n",
      "Solver status                 : SUCCESS: Optimal solution found.\n",
      "Training time (sec)           : 1.0231\n",
      "\n",
      "Settings\n",
      "--------\n",
      "Residual sum of squares       : 121274.1523\n",
      "Training RMSE                 : 5.3851\n",
      "\n",
      "Highest Positive Coefficients\n",
      "-----------------------------\n",
      "Opponent All Out              : 29.712\n",
      "Got All Out                   : 16.0624\n",
      "Home                          : 0.6118\n",
      "Wickets Lost                  : 0.3227\n",
      "Runs Scored                   : 0.0545\n",
      "\n",
      "Lowest Negative Coefficients\n",
      "----------------------------\n",
      "(intercept)                   : -23.3725\n",
      "Opponent Wickets Taken        : -1.1997\n",
      "ClusterID                     : -0.4103\n",
      "\n",
      "Class                         : LinearRegression\n",
      "\n",
      "Schema\n",
      "------\n",
      "Number of coefficients        : 17\n",
      "Number of examples            : 4153\n",
      "Number of feature columns     : 16\n",
      "Number of unpacked features   : 16\n",
      "\n",
      "Hyperparameters\n",
      "---------------\n",
      "L1 penalty                    : 0.0\n",
      "L2 penalty                    : 0.01\n",
      "\n",
      "Training Summary\n",
      "----------------\n",
      "Solver                        : newton\n",
      "Solver iterations             : 1\n",
      "Solver status                 : SUCCESS: Optimal solution found.\n",
      "Training time (sec)           : 0.0225\n",
      "\n",
      "Settings\n",
      "--------\n",
      "Residual sum of squares       : 140401.7689\n",
      "Training RMSE                 : 5.8144\n",
      "\n",
      "Highest Positive Coefficients\n",
      "-----------------------------\n",
      "Got All Out                   : 2.1309\n",
      "Opponent Wickets Taken        : 1.0654\n",
      "Home                          : 0.2507\n",
      "Balls Faced                   : 0.1835\n",
      "Total Runs Scored             : 0.0566\n",
      "\n",
      "Lowest Negative Coefficients\n",
      "----------------------------\n",
      "(intercept)                   : -5.7588\n",
      "Opponent All Out              : -2.4433\n",
      "Wickets Lost                  : -0.7799\n",
      "ClusterID                     : -0.2474\n",
      "\n",
      "Class                         : LinearRegression\n",
      "\n",
      "Schema\n",
      "------\n",
      "Number of coefficients        : 17\n",
      "Number of examples            : 4090\n",
      "Number of feature columns     : 16\n",
      "Number of unpacked features   : 16\n",
      "\n",
      "Hyperparameters\n",
      "---------------\n",
      "L1 penalty                    : 0.0\n",
      "L2 penalty                    : 0.01\n",
      "\n",
      "Training Summary\n",
      "----------------\n",
      "Solver                        : newton\n",
      "Solver iterations             : 1\n",
      "Solver status                 : SUCCESS: Optimal solution found.\n",
      "Training time (sec)           : 0.013\n",
      "\n",
      "Settings\n",
      "--------\n",
      "Residual sum of squares       : 98100.5131\n",
      "Training RMSE                 : 4.8975\n",
      "\n",
      "Highest Positive Coefficients\n",
      "-----------------------------\n",
      "Got All Out                   : 1.7907\n",
      "Opponent Wickets Taken        : 0.6885\n",
      "W1                            : 0.2218\n",
      "Home                          : 0.1078\n",
      "W0                            : 0.0547\n",
      "\n",
      "Lowest Negative Coefficients\n",
      "----------------------------\n",
      "(intercept)                   : -6.4728\n",
      "Opponent All Out              : -2.756\n",
      "ClusterID                     : -0.2367\n",
      "Wickets Lost                  : -0.056\n",
      "Runs Conceded                 : -0.0109\n",
      "\n",
      "Class                         : LinearRegression\n",
      "\n",
      "Schema\n",
      "------\n",
      "Number of coefficients        : 17\n",
      "Number of examples            : 4058\n",
      "Number of feature columns     : 16\n",
      "Number of unpacked features   : 16\n",
      "\n",
      "Hyperparameters\n",
      "---------------\n",
      "L1 penalty                    : 0.0\n",
      "L2 penalty                    : 0.01\n",
      "\n",
      "Training Summary\n",
      "----------------\n",
      "Solver                        : newton\n",
      "Solver iterations             : 1\n",
      "Solver status                 : SUCCESS: Optimal solution found.\n",
      "Training time (sec)           : 0.0107\n",
      "\n",
      "Settings\n",
      "--------\n",
      "Residual sum of squares       : 81673.7862\n",
      "Training RMSE                 : 4.4863\n",
      "\n",
      "Highest Positive Coefficients\n",
      "-----------------------------\n",
      "Got All Out                   : 1.8299\n",
      "Opponent Wickets Taken        : 1.3422\n",
      "W1                            : 0.3436\n",
      "W0                            : 0.1599\n",
      "Balls Faced                   : 0.0557\n",
      "\n",
      "Lowest Negative Coefficients\n",
      "----------------------------\n",
      "Opponent All Out              : -10.1919\n",
      "(intercept)                   : -2.3772\n",
      "Wickets Lost                  : -0.6573\n",
      "Total Runs Scored             : -0.0352\n",
      "ClusterID                     : -0.0239\n",
      "\n",
      "Class                         : LinearRegression\n",
      "\n",
      "Schema\n",
      "------\n",
      "Number of coefficients        : 17\n",
      "Number of examples            : 4009\n",
      "Number of feature columns     : 16\n",
      "Number of unpacked features   : 16\n",
      "\n",
      "Hyperparameters\n",
      "---------------\n",
      "L1 penalty                    : 0.0\n",
      "L2 penalty                    : 0.01\n",
      "\n",
      "Training Summary\n",
      "----------------\n",
      "Solver                        : newton\n",
      "Solver iterations             : 1\n",
      "Solver status                 : SUCCESS: Optimal solution found.\n",
      "Training time (sec)           : 0.0117\n",
      "\n",
      "Settings\n",
      "--------\n",
      "Residual sum of squares       : 78742.9794\n",
      "Training RMSE                 : 4.4319\n",
      "\n",
      "Highest Positive Coefficients\n",
      "-----------------------------\n",
      "Opponent Wickets Taken        : 1.1642\n",
      "Home                          : 0.5031\n",
      "Wickets Lost                  : 0.2819\n",
      "W1                            : 0.1033\n",
      "W0                            : 0.0779\n",
      "\n",
      "Lowest Negative Coefficients\n",
      "----------------------------\n",
      "Opponent All Out              : -15.1038\n",
      "Got All Out                   : -5.7207\n",
      "(intercept)                   : -3.5723\n",
      "ClusterID                     : -0.0918\n",
      "Runs Conceded                 : -0.0097\n",
      "\n",
      "Class                         : LinearRegression\n",
      "\n",
      "Schema\n",
      "------\n",
      "Number of coefficients        : 17\n",
      "Number of examples            : 3894\n",
      "Number of feature columns     : 16\n",
      "Number of unpacked features   : 16\n",
      "\n",
      "Hyperparameters\n",
      "---------------\n",
      "L1 penalty                    : 0.0\n",
      "L2 penalty                    : 0.01\n",
      "\n",
      "Training Summary\n",
      "----------------\n",
      "Solver                        : newton\n",
      "Solver iterations             : 1\n",
      "Solver status                 : SUCCESS: Optimal solution found.\n",
      "Training time (sec)           : 0.0171\n",
      "\n",
      "Settings\n",
      "--------\n",
      "Residual sum of squares       : 72574.2195\n",
      "Training RMSE                 : 4.3171\n",
      "\n",
      "Highest Positive Coefficients\n",
      "-----------------------------\n",
      "Opponent Wickets Taken        : 1.4764\n",
      "Home                          : 0.2402\n",
      "W1                            : 0.1753\n",
      "W0                            : 0.1176\n",
      "Home Runs                     : 0.0546\n",
      "\n",
      "Lowest Negative Coefficients\n",
      "----------------------------\n",
      "Opponent All Out              : -14.358\n",
      "Got All Out                   : -5.8695\n",
      "(intercept)                   : -0.8755\n",
      "Wickets Lost                  : -0.4346\n",
      "ClusterID                     : -0.048\n",
      "\n",
      "Class                         : LinearRegression\n",
      "\n",
      "Schema\n",
      "------\n",
      "Number of coefficients        : 17\n",
      "Number of examples            : 3759\n",
      "Number of feature columns     : 16\n",
      "Number of unpacked features   : 16\n",
      "\n",
      "Hyperparameters\n",
      "---------------\n",
      "L1 penalty                    : 0.0\n",
      "L2 penalty                    : 0.01\n",
      "\n",
      "Training Summary\n",
      "----------------\n",
      "Solver                        : newton\n",
      "Solver iterations             : 1\n",
      "Solver status                 : SUCCESS: Optimal solution found.\n",
      "Training time (sec)           : 0.0193\n",
      "\n",
      "Settings\n",
      "--------\n",
      "Residual sum of squares       : 77789.8904\n",
      "Training RMSE                 : 4.5491\n",
      "\n",
      "Highest Positive Coefficients\n",
      "-----------------------------\n",
      "(intercept)                   : 5.0567\n",
      "Opponent Wickets Taken        : 3.286\n",
      "W1                            : 0.117\n",
      "R1                            : 0.0349\n",
      "Home Runs                     : 0.0283\n",
      "\n",
      "Lowest Negative Coefficients\n",
      "----------------------------\n",
      "Opponent All Out              : -34.6972\n",
      "Got All Out                   : -9.4443\n",
      "Wickets Lost                  : -0.6378\n",
      "Runs Conceded                 : -0.0566\n",
      "ClusterID                     : -0.0269\n",
      "\n",
      "Class                         : LinearRegression\n",
      "\n",
      "Schema\n",
      "------\n",
      "Number of coefficients        : 17\n",
      "Number of examples            : 3824\n",
      "Number of feature columns     : 16\n",
      "Number of unpacked features   : 16\n",
      "\n",
      "Hyperparameters\n",
      "---------------\n",
      "L1 penalty                    : 0.0\n",
      "L2 penalty                    : 0.01\n",
      "\n",
      "Training Summary\n",
      "----------------\n",
      "Solver                        : newton\n",
      "Solver iterations             : 1\n",
      "Solver status                 : SUCCESS: Optimal solution found.\n",
      "Training time (sec)           : 0.0112\n",
      "\n",
      "Settings\n",
      "--------\n",
      "Residual sum of squares       : 110601.2104\n",
      "Training RMSE                 : 5.378\n",
      "\n",
      "Highest Positive Coefficients\n",
      "-----------------------------\n",
      "Opponent Wickets Taken        : 3.2896\n",
      "Home                          : 0.3356\n",
      "Wickets Lost                  : 0.2717\n",
      "R1                            : 0.0288\n",
      "R0                            : 0.0217\n",
      "\n",
      "Lowest Negative Coefficients\n",
      "----------------------------\n",
      "Opponent All Out              : -19.2579\n",
      "(intercept)                   : -12.623\n",
      "Got All Out                   : -6.8505\n",
      "ClusterID                     : -0.1658\n",
      "W1                            : -0.0835\n",
      "\n",
      "Class                         : LinearRegression\n",
      "\n",
      "Schema\n",
      "------\n",
      "Number of coefficients        : 17\n",
      "Number of examples            : 3667\n",
      "Number of feature columns     : 16\n",
      "Number of unpacked features   : 16\n",
      "\n",
      "Hyperparameters\n",
      "---------------\n",
      "L1 penalty                    : 0.0\n",
      "L2 penalty                    : 0.01\n",
      "\n",
      "Training Summary\n",
      "----------------\n",
      "Solver                        : newton\n",
      "Solver iterations             : 1\n",
      "Solver status                 : SUCCESS: Optimal solution found.\n",
      "Training time (sec)           : 0.0198\n",
      "\n",
      "Settings\n",
      "--------\n",
      "Residual sum of squares       : 120695.1316\n",
      "Training RMSE                 : 5.7371\n",
      "\n",
      "Highest Positive Coefficients\n",
      "-----------------------------\n",
      "Opponent Wickets Taken        : 1.1843\n",
      "Home                          : 0.3513\n",
      "Wickets Lost                  : 0.1448\n",
      "Total Runs Scored             : 0.0391\n",
      "Home Runs                     : 0.0368\n",
      "\n",
      "Lowest Negative Coefficients\n",
      "----------------------------\n",
      "Opponent All Out              : -10.3931\n",
      "Got All Out                   : -3.5719\n",
      "(intercept)                   : -3.5636\n",
      "ClusterID                     : -0.0902\n",
      "W1                            : -0.0751\n",
      "\n",
      "Class                         : LinearRegression\n",
      "\n",
      "Schema\n",
      "------\n",
      "Number of coefficients        : 17\n",
      "Number of examples            : 3366\n",
      "Number of feature columns     : 16\n",
      "Number of unpacked features   : 16\n",
      "\n",
      "Hyperparameters\n",
      "---------------\n",
      "L1 penalty                    : 0.0\n",
      "L2 penalty                    : 0.01\n",
      "\n",
      "Training Summary\n",
      "----------------\n",
      "Solver                        : newton\n",
      "Solver iterations             : 1\n",
      "Solver status                 : SUCCESS: Optimal solution found.\n",
      "Training time (sec)           : 0.016\n",
      "\n",
      "Settings\n",
      "--------\n",
      "Residual sum of squares       : 177457.0177\n",
      "Training RMSE                 : 7.2609\n",
      "\n",
      "Highest Positive Coefficients\n",
      "-----------------------------\n",
      "(intercept)                   : 9.7699\n",
      "Got All Out                   : 6.3332\n",
      "Opponent Wickets Taken        : 1.1275\n",
      "Home                          : 0.1619\n",
      "R1                            : 0.0442\n",
      "\n",
      "Lowest Negative Coefficients\n",
      "----------------------------\n",
      "Opponent All Out              : -14.5885\n",
      "Wickets Lost                  : -1.4614\n",
      "ClusterID                     : -0.218\n",
      "W0                            : -0.1265\n",
      "Runs Conceded                 : -0.0489\n",
      "\n"
     ]
    }
   ],
   "source": [
    "for i in range(10):\n",
    "    models[i].summary()"
   ]
  },
  {
   "cell_type": "code",
   "execution_count": 18,
   "metadata": {
    "collapsed": false
   },
   "outputs": [
    {
     "name": "stdout",
     "output_type": "stream",
     "text": [
      "{'max_error': 42.322718684649885, 'rmse': 5.481374214322536}\n",
      "{'max_error': 31.42165169854433, 'rmse': 5.873175498098707}\n",
      "{'max_error': 28.076501856291642, 'rmse': 5.047320287141837}\n",
      "{'max_error': 33.58069539253807, 'rmse': 4.639877856121311}\n",
      "{'max_error': 20.036452090705936, 'rmse': 4.327741847628769}\n",
      "{'max_error': 30.70100553721141, 'rmse': 4.514409315489344}\n",
      "{'max_error': 32.11361123599288, 'rmse': 4.632896111414004}\n",
      "{'max_error': 30.272582788940298, 'rmse': 5.232029717066754}\n",
      "{'max_error': 44.713336840475925, 'rmse': 6.230000660170552}\n",
      "{'max_error': 53.413383621005266, 'rmse': 7.73849809257759}\n"
     ]
    }
   ],
   "source": [
    "for i in range(10):\n",
    "    print(models[i].evaluate(test_data[i]))"
   ]
  },
  {
   "cell_type": "code",
   "execution_count": null,
   "metadata": {
    "collapsed": true
   },
   "outputs": [],
   "source": []
  }
 ],
 "metadata": {
  "kernelspec": {
   "display_name": "Python 2",
   "language": "python",
   "name": "python2"
  },
  "language_info": {
   "codemirror_mode": {
    "name": "ipython",
    "version": 2
   },
   "file_extension": ".py",
   "mimetype": "text/x-python",
   "name": "python",
   "nbconvert_exporter": "python",
   "pygments_lexer": "ipython2",
   "version": "2.7.10"
  }
 },
 "nbformat": 4,
 "nbformat_minor": 0
}
